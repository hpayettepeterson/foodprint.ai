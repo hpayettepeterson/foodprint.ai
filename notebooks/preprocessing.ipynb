{
 "cells": [
  {
   "cell_type": "code",
   "execution_count": 6,
   "id": "50e67bee",
   "metadata": {
    "scrolled": false
   },
   "outputs": [
    {
     "name": "stdout",
     "output_type": "stream",
     "text": [
      "The autoreload extension is already loaded. To reload it, use:\n",
      "  %reload_ext autoreload\n"
     ]
    }
   ],
   "source": [
    "import pandas as pd\n",
    "import numpy as np\n",
    "import json\n",
    "import os\n",
    "from helper import load_data, load_data_im2recipe\n",
    "from sklearn.feature_extraction import DictVectorizer\n",
    "import matplotlib.pyplot as plt\n",
    "from sklearn.decomposition import PCA\n",
    "from sklearn.preprocessing import LabelEncoder\n",
    "from sklearn.pipeline import Pipeline\n",
    "from sklearn.neighbors import NearestNeighbors\n",
    "import requests\n",
    "from food_extractor.food_model import FoodModel\n",
    "import seaborn as sns\n",
    "import pickle\n",
    "\n",
    "%load_ext autoreload\n",
    "%autoreload 2"
   ]
  },
  {
   "cell_type": "markdown",
   "id": "75c631cf",
   "metadata": {},
   "source": [
    "# - Load the data"
   ]
  },
  {
   "cell_type": "markdown",
   "id": "0636c7b5",
   "metadata": {},
   "source": [
    "## Yummly data"
   ]
  },
  {
   "cell_type": "code",
   "execution_count": 33,
   "id": "98688454",
   "metadata": {
    "scrolled": false
   },
   "outputs": [
    {
     "data": {
      "text/html": [
       "<div>\n",
       "<style scoped>\n",
       "    .dataframe tbody tr th:only-of-type {\n",
       "        vertical-align: middle;\n",
       "    }\n",
       "\n",
       "    .dataframe tbody tr th {\n",
       "        vertical-align: top;\n",
       "    }\n",
       "\n",
       "    .dataframe thead th {\n",
       "        text-align: right;\n",
       "    }\n",
       "</style>\n",
       "<table border=\"1\" class=\"dataframe\">\n",
       "  <thead>\n",
       "    <tr style=\"text-align: right;\">\n",
       "      <th></th>\n",
       "      <th>id</th>\n",
       "      <th>recipeName</th>\n",
       "      <th>ingredients</th>\n",
       "    </tr>\n",
       "  </thead>\n",
       "  <tbody>\n",
       "    <tr>\n",
       "      <th>0</th>\n",
       "      <td>Yakitori-1364355</td>\n",
       "      <td>Yakitori</td>\n",
       "      <td>[soy, mirin, sake, sugar, chicken breasts, gre...</td>\n",
       "    </tr>\n",
       "    <tr>\n",
       "      <th>1</th>\n",
       "      <td>Unagi-Don-_Unadon_-1685775</td>\n",
       "      <td>Unagi Don (Unadon)</td>\n",
       "      <td>[unagi, sake, steamed rice, soy sauce, mirin, ...</td>\n",
       "    </tr>\n",
       "    <tr>\n",
       "      <th>2</th>\n",
       "      <td>Pork-ramen-soup-310007</td>\n",
       "      <td>Pork Ramen Soup</td>\n",
       "      <td>[canola oil, boneless pork chops, black pepper...</td>\n",
       "    </tr>\n",
       "    <tr>\n",
       "      <th>3</th>\n",
       "      <td>YAKITORI-DONBURI-975550</td>\n",
       "      <td>YAKITORI DONBURI</td>\n",
       "      <td>[ground beef, mirin, soy sauce, brown sugar, r...</td>\n",
       "    </tr>\n",
       "    <tr>\n",
       "      <th>4</th>\n",
       "      <td>Pork-Ramen-1436556</td>\n",
       "      <td>Pork Ramen</td>\n",
       "      <td>[slab bacon, pork shoulder, garlic, medium car...</td>\n",
       "    </tr>\n",
       "  </tbody>\n",
       "</table>\n",
       "</div>"
      ],
      "text/plain": [
       "                           id          recipeName  \\\n",
       "0            Yakitori-1364355            Yakitori   \n",
       "1  Unagi-Don-_Unadon_-1685775  Unagi Don (Unadon)   \n",
       "2      Pork-ramen-soup-310007     Pork Ramen Soup   \n",
       "3     YAKITORI-DONBURI-975550    YAKITORI DONBURI   \n",
       "4          Pork-Ramen-1436556          Pork Ramen   \n",
       "\n",
       "                                         ingredients  \n",
       "0  [soy, mirin, sake, sugar, chicken breasts, gre...  \n",
       "1  [unagi, sake, steamed rice, soy sauce, mirin, ...  \n",
       "2  [canola oil, boneless pork chops, black pepper...  \n",
       "3  [ground beef, mirin, soy sauce, brown sugar, r...  \n",
       "4  [slab bacon, pork shoulder, garlic, medium car...  "
      ]
     },
     "execution_count": 33,
     "metadata": {},
     "output_type": "execute_result"
    }
   ],
   "source": [
    "df_yummly = load_data(cache=False, lists_folder='../raw_data/lists/', recipes_folder='../raw_data/sample_recipes/')\n",
    "df_yummly.head()"
   ]
  },
  {
   "cell_type": "markdown",
   "id": "a1b3cb5c",
   "metadata": {},
   "source": [
    "## im2recipe data"
   ]
  },
  {
   "cell_type": "code",
   "execution_count": 8,
   "id": "d9e92079",
   "metadata": {
    "scrolled": true
   },
   "outputs": [
    {
     "data": {
      "text/html": [
       "<div>\n",
       "<style scoped>\n",
       "    .dataframe tbody tr th:only-of-type {\n",
       "        vertical-align: middle;\n",
       "    }\n",
       "\n",
       "    .dataframe tbody tr th {\n",
       "        vertical-align: top;\n",
       "    }\n",
       "\n",
       "    .dataframe thead th {\n",
       "        text-align: right;\n",
       "    }\n",
       "</style>\n",
       "<table border=\"1\" class=\"dataframe\">\n",
       "  <thead>\n",
       "    <tr style=\"text-align: right;\">\n",
       "      <th></th>\n",
       "      <th>id</th>\n",
       "      <th>recipeName</th>\n",
       "      <th>ingredients</th>\n",
       "    </tr>\n",
       "  </thead>\n",
       "  <tbody>\n",
       "    <tr>\n",
       "      <th>0</th>\n",
       "      <td>000095fc1d</td>\n",
       "      <td>Yogurt Parfaits</td>\n",
       "      <td>[yogurt greek plain nonfat, strawberries raw, ...</td>\n",
       "    </tr>\n",
       "    <tr>\n",
       "      <th>1</th>\n",
       "      <td>00051d5b9d</td>\n",
       "      <td>Salt Free, Low Cholesterol Sugar Cookies Recipe</td>\n",
       "      <td>[sugars granulated, oil corn peanut and olive,...</td>\n",
       "    </tr>\n",
       "    <tr>\n",
       "      <th>2</th>\n",
       "      <td>00059b093b</td>\n",
       "      <td>Honey Sriracha Chicken Wings</td>\n",
       "      <td>[chicken broilers or fryers wing meat and skin...</td>\n",
       "    </tr>\n",
       "    <tr>\n",
       "      <th>3</th>\n",
       "      <td>0005fc89f7</td>\n",
       "      <td>Shrimp and Caper Salad</td>\n",
       "      <td>[crustaceans shrimp raw (not previously frozen...</td>\n",
       "    </tr>\n",
       "    <tr>\n",
       "      <th>4</th>\n",
       "      <td>0006ca31f4</td>\n",
       "      <td>Natural Peanut Butter Chocolate Bon Bons</td>\n",
       "      <td>[cocoa dry powder unsweetened, honey, peanut b...</td>\n",
       "    </tr>\n",
       "  </tbody>\n",
       "</table>\n",
       "</div>"
      ],
      "text/plain": [
       "           id                                       recipeName  \\\n",
       "0  000095fc1d                                  Yogurt Parfaits   \n",
       "1  00051d5b9d  Salt Free, Low Cholesterol Sugar Cookies Recipe   \n",
       "2  00059b093b                     Honey Sriracha Chicken Wings   \n",
       "3  0005fc89f7                           Shrimp and Caper Salad   \n",
       "4  0006ca31f4         Natural Peanut Butter Chocolate Bon Bons   \n",
       "\n",
       "                                         ingredients  \n",
       "0  [yogurt greek plain nonfat, strawberries raw, ...  \n",
       "1  [sugars granulated, oil corn peanut and olive,...  \n",
       "2  [chicken broilers or fryers wing meat and skin...  \n",
       "3  [crustaceans shrimp raw (not previously frozen...  \n",
       "4  [cocoa dry powder unsweetened, honey, peanut b...  "
      ]
     },
     "execution_count": 8,
     "metadata": {},
     "output_type": "execute_result"
    }
   ],
   "source": [
    "df_im2recipe = load_data_im2recipe(recipes_folder='../raw_data/sample_im2recipes/')\n",
    "df_im2recipe.head()"
   ]
  },
  {
   "cell_type": "markdown",
   "id": "37d8d721",
   "metadata": {},
   "source": [
    "## Concat Yummly & im2recipe"
   ]
  },
  {
   "cell_type": "code",
   "execution_count": 9,
   "id": "626592f2",
   "metadata": {},
   "outputs": [
    {
     "name": "stdout",
     "output_type": "stream",
     "text": [
      "(385, 3)\n",
      "(486, 3)\n",
      "(871, 3)\n"
     ]
    }
   ],
   "source": [
    "df = pd.concat([df_yummly, df_im2recipe]).reset_index(drop=True)\n",
    "print(df_yummly.shape)\n",
    "print(df_im2recipe.shape)\n",
    "print(df.shape)"
   ]
  },
  {
   "cell_type": "markdown",
   "id": "e5ea1e21",
   "metadata": {},
   "source": [
    "### ADD CO2"
   ]
  },
  {
   "cell_type": "code",
   "execution_count": 10,
   "id": "e49ce035",
   "metadata": {},
   "outputs": [
    {
     "data": {
      "text/html": [
       "<div>\n",
       "<style scoped>\n",
       "    .dataframe tbody tr th:only-of-type {\n",
       "        vertical-align: middle;\n",
       "    }\n",
       "\n",
       "    .dataframe tbody tr th {\n",
       "        vertical-align: top;\n",
       "    }\n",
       "\n",
       "    .dataframe thead th {\n",
       "        text-align: right;\n",
       "    }\n",
       "</style>\n",
       "<table border=\"1\" class=\"dataframe\">\n",
       "  <thead>\n",
       "    <tr style=\"text-align: right;\">\n",
       "      <th></th>\n",
       "      <th>id</th>\n",
       "      <th>recipeName</th>\n",
       "      <th>ingredients</th>\n",
       "    </tr>\n",
       "  </thead>\n",
       "  <tbody>\n",
       "    <tr>\n",
       "      <th>0</th>\n",
       "      <td>Yakitori-1364355</td>\n",
       "      <td>Yakitori</td>\n",
       "      <td>[soy, mirin, sake, sugar, chicken breasts, gre...</td>\n",
       "    </tr>\n",
       "    <tr>\n",
       "      <th>1</th>\n",
       "      <td>Unagi-Don-_Unadon_-1685775</td>\n",
       "      <td>Unagi Don (Unadon)</td>\n",
       "      <td>[unagi, sake, steamed rice, soy sauce, mirin, ...</td>\n",
       "    </tr>\n",
       "    <tr>\n",
       "      <th>2</th>\n",
       "      <td>Pork-ramen-soup-310007</td>\n",
       "      <td>Pork Ramen Soup</td>\n",
       "      <td>[canola oil, boneless pork chops, black pepper...</td>\n",
       "    </tr>\n",
       "    <tr>\n",
       "      <th>3</th>\n",
       "      <td>YAKITORI-DONBURI-975550</td>\n",
       "      <td>YAKITORI DONBURI</td>\n",
       "      <td>[ground beef, mirin, soy sauce, brown sugar, r...</td>\n",
       "    </tr>\n",
       "    <tr>\n",
       "      <th>4</th>\n",
       "      <td>Pork-Ramen-1436556</td>\n",
       "      <td>Pork Ramen</td>\n",
       "      <td>[slab bacon, pork shoulder, garlic, medium car...</td>\n",
       "    </tr>\n",
       "  </tbody>\n",
       "</table>\n",
       "</div>"
      ],
      "text/plain": [
       "                           id          recipeName  \\\n",
       "0            Yakitori-1364355            Yakitori   \n",
       "1  Unagi-Don-_Unadon_-1685775  Unagi Don (Unadon)   \n",
       "2      Pork-ramen-soup-310007     Pork Ramen Soup   \n",
       "3     YAKITORI-DONBURI-975550    YAKITORI DONBURI   \n",
       "4          Pork-Ramen-1436556          Pork Ramen   \n",
       "\n",
       "                                         ingredients  \n",
       "0  [soy, mirin, sake, sugar, chicken breasts, gre...  \n",
       "1  [unagi, sake, steamed rice, soy sauce, mirin, ...  \n",
       "2  [canola oil, boneless pork chops, black pepper...  \n",
       "3  [ground beef, mirin, soy sauce, brown sugar, r...  \n",
       "4  [slab bacon, pork shoulder, garlic, medium car...  "
      ]
     },
     "execution_count": 10,
     "metadata": {},
     "output_type": "execute_result"
    }
   ],
   "source": [
    "df.head()"
   ]
  },
  {
   "cell_type": "code",
   "execution_count": 11,
   "id": "979193fa",
   "metadata": {},
   "outputs": [],
   "source": [
    "import random\n",
    "df['co2'] = 100 * np.random.randn(df.shape[0]) + 1000"
   ]
  },
  {
   "cell_type": "code",
   "execution_count": 12,
   "id": "0079dc13",
   "metadata": {},
   "outputs": [
    {
     "name": "stdout",
     "output_type": "stream",
     "text": [
      "minimum is : 654.8154231848773\n"
     ]
    },
    {
     "data": {
      "text/html": [
       "<div>\n",
       "<style scoped>\n",
       "    .dataframe tbody tr th:only-of-type {\n",
       "        vertical-align: middle;\n",
       "    }\n",
       "\n",
       "    .dataframe tbody tr th {\n",
       "        vertical-align: top;\n",
       "    }\n",
       "\n",
       "    .dataframe thead th {\n",
       "        text-align: right;\n",
       "    }\n",
       "</style>\n",
       "<table border=\"1\" class=\"dataframe\">\n",
       "  <thead>\n",
       "    <tr style=\"text-align: right;\">\n",
       "      <th></th>\n",
       "      <th>id</th>\n",
       "      <th>recipeName</th>\n",
       "      <th>ingredients</th>\n",
       "      <th>co2</th>\n",
       "    </tr>\n",
       "  </thead>\n",
       "  <tbody>\n",
       "    <tr>\n",
       "      <th>0</th>\n",
       "      <td>Yakitori-1364355</td>\n",
       "      <td>Yakitori</td>\n",
       "      <td>[soy, mirin, sake, sugar, chicken breasts, gre...</td>\n",
       "      <td>947.636173</td>\n",
       "    </tr>\n",
       "    <tr>\n",
       "      <th>1</th>\n",
       "      <td>Unagi-Don-_Unadon_-1685775</td>\n",
       "      <td>Unagi Don (Unadon)</td>\n",
       "      <td>[unagi, sake, steamed rice, soy sauce, mirin, ...</td>\n",
       "      <td>942.729782</td>\n",
       "    </tr>\n",
       "    <tr>\n",
       "      <th>2</th>\n",
       "      <td>Pork-ramen-soup-310007</td>\n",
       "      <td>Pork Ramen Soup</td>\n",
       "      <td>[canola oil, boneless pork chops, black pepper...</td>\n",
       "      <td>965.674359</td>\n",
       "    </tr>\n",
       "    <tr>\n",
       "      <th>3</th>\n",
       "      <td>YAKITORI-DONBURI-975550</td>\n",
       "      <td>YAKITORI DONBURI</td>\n",
       "      <td>[ground beef, mirin, soy sauce, brown sugar, r...</td>\n",
       "      <td>1040.336222</td>\n",
       "    </tr>\n",
       "    <tr>\n",
       "      <th>4</th>\n",
       "      <td>Pork-Ramen-1436556</td>\n",
       "      <td>Pork Ramen</td>\n",
       "      <td>[slab bacon, pork shoulder, garlic, medium car...</td>\n",
       "      <td>1124.127685</td>\n",
       "    </tr>\n",
       "  </tbody>\n",
       "</table>\n",
       "</div>"
      ],
      "text/plain": [
       "                           id          recipeName  \\\n",
       "0            Yakitori-1364355            Yakitori   \n",
       "1  Unagi-Don-_Unadon_-1685775  Unagi Don (Unadon)   \n",
       "2      Pork-ramen-soup-310007     Pork Ramen Soup   \n",
       "3     YAKITORI-DONBURI-975550    YAKITORI DONBURI   \n",
       "4          Pork-Ramen-1436556          Pork Ramen   \n",
       "\n",
       "                                         ingredients          co2  \n",
       "0  [soy, mirin, sake, sugar, chicken breasts, gre...   947.636173  \n",
       "1  [unagi, sake, steamed rice, soy sauce, mirin, ...   942.729782  \n",
       "2  [canola oil, boneless pork chops, black pepper...   965.674359  \n",
       "3  [ground beef, mirin, soy sauce, brown sugar, r...  1040.336222  \n",
       "4  [slab bacon, pork shoulder, garlic, medium car...  1124.127685  "
      ]
     },
     "execution_count": 12,
     "metadata": {},
     "output_type": "execute_result"
    }
   ],
   "source": [
    "print('minimum is : ' + str(df['co2'].min()))\n",
    "df.head()"
   ]
  },
  {
   "cell_type": "markdown",
   "id": "96f83174",
   "metadata": {},
   "source": [
    "# - Clean the ingredients"
   ]
  },
  {
   "cell_type": "code",
   "execution_count": 13,
   "id": "eba7995c",
   "metadata": {},
   "outputs": [],
   "source": [
    "model = FoodModel(\"chambliss/distilbert-for-food-extraction\")"
   ]
  },
  {
   "cell_type": "code",
   "execution_count": 14,
   "id": "a501f8fe",
   "metadata": {},
   "outputs": [],
   "source": [
    "df_cleaned = df.copy()"
   ]
  },
  {
   "cell_type": "code",
   "execution_count": 37,
   "id": "7f028ab2",
   "metadata": {},
   "outputs": [],
   "source": [
    "df_cleaned['ingredients2'] = df_cleaned['ingredients'].apply(lambda x : \\\n",
    "                                                                     [ing['text'] for ing in model.extract_foods(','.join([ing for ing in x]))[0]['Ingredient']])\n"
   ]
  },
  {
   "cell_type": "code",
   "execution_count": 42,
   "id": "517e0474",
   "metadata": {},
   "outputs": [
    {
     "name": "stdout",
     "output_type": "stream",
     "text": [
      "(871, 4)\n"
     ]
    },
    {
     "data": {
      "text/html": [
       "<div>\n",
       "<style scoped>\n",
       "    .dataframe tbody tr th:only-of-type {\n",
       "        vertical-align: middle;\n",
       "    }\n",
       "\n",
       "    .dataframe tbody tr th {\n",
       "        vertical-align: top;\n",
       "    }\n",
       "\n",
       "    .dataframe thead th {\n",
       "        text-align: right;\n",
       "    }\n",
       "</style>\n",
       "<table border=\"1\" class=\"dataframe\">\n",
       "  <thead>\n",
       "    <tr style=\"text-align: right;\">\n",
       "      <th></th>\n",
       "      <th>id</th>\n",
       "      <th>recipeName</th>\n",
       "      <th>co2</th>\n",
       "      <th>ingredients</th>\n",
       "    </tr>\n",
       "  </thead>\n",
       "  <tbody>\n",
       "    <tr>\n",
       "      <th>0</th>\n",
       "      <td>Yakitori-1364355</td>\n",
       "      <td>Yakitori</td>\n",
       "      <td>947.636173</td>\n",
       "      <td>[mirin, sake, sugar, chicken breasts, green on...</td>\n",
       "    </tr>\n",
       "    <tr>\n",
       "      <th>1</th>\n",
       "      <td>Unagi-Don-_Unadon_-1685775</td>\n",
       "      <td>Unagi Don (Unadon)</td>\n",
       "      <td>942.729782</td>\n",
       "      <td>[sake, steamed rice, soy sauce, mirin, sugar]</td>\n",
       "    </tr>\n",
       "    <tr>\n",
       "      <th>2</th>\n",
       "      <td>Pork-ramen-soup-310007</td>\n",
       "      <td>Pork Ramen Soup</td>\n",
       "      <td>965.674359</td>\n",
       "      <td>[ola oil, pork chops, black pepper, kosher sal...</td>\n",
       "    </tr>\n",
       "    <tr>\n",
       "      <th>3</th>\n",
       "      <td>YAKITORI-DONBURI-975550</td>\n",
       "      <td>YAKITORI DONBURI</td>\n",
       "      <td>1040.336222</td>\n",
       "      <td>[ground beef, mirin, soy sauce, brown sugar, r...</td>\n",
       "    </tr>\n",
       "    <tr>\n",
       "      <th>4</th>\n",
       "      <td>Pork-Ramen-1436556</td>\n",
       "      <td>Pork Ramen</td>\n",
       "      <td>1124.127685</td>\n",
       "      <td>[bacon, pork shoulder, garlic, carrot, celery ...</td>\n",
       "    </tr>\n",
       "    <tr>\n",
       "      <th>...</th>\n",
       "      <td>...</td>\n",
       "      <td>...</td>\n",
       "      <td>...</td>\n",
       "      <td>...</td>\n",
       "    </tr>\n",
       "    <tr>\n",
       "      <th>856</th>\n",
       "      <td>02db53ce91</td>\n",
       "      <td>Oyster Stew</td>\n",
       "      <td>1010.166465</td>\n",
       "      <td>[sauce, oyster, celery, onions, spices pepper ...</td>\n",
       "    </tr>\n",
       "    <tr>\n",
       "      <th>857</th>\n",
       "      <td>02db6db8ea</td>\n",
       "      <td>Salt Pork And Greens Recipe</td>\n",
       "      <td>1120.725675</td>\n",
       "      <td>[pork, fresh loin tenderloin, turnip]</td>\n",
       "    </tr>\n",
       "    <tr>\n",
       "      <th>858</th>\n",
       "      <td>02ded1955b</td>\n",
       "      <td>BBQ pork ribs</td>\n",
       "      <td>1005.199582</td>\n",
       "      <td>[garlic powder, sugars brown, spices chili pow...</td>\n",
       "    </tr>\n",
       "    <tr>\n",
       "      <th>859</th>\n",
       "      <td>02df03d24c</td>\n",
       "      <td>Sea Salt With Fennel Seeds and Thyme</td>\n",
       "      <td>1091.784805</td>\n",
       "      <td>[fennel seed, spices marjoram, spices thyme, s...</td>\n",
       "    </tr>\n",
       "    <tr>\n",
       "      <th>860</th>\n",
       "      <td>02dfae1da4</td>\n",
       "      <td>Raspberry Curry Chili Sauce</td>\n",
       "      <td>808.516426</td>\n",
       "      <td>[aspberries, honey, spices curry powder, spice...</td>\n",
       "    </tr>\n",
       "  </tbody>\n",
       "</table>\n",
       "<p>861 rows × 4 columns</p>\n",
       "</div>"
      ],
      "text/plain": [
       "                             id                            recipeName  \\\n",
       "0              Yakitori-1364355                              Yakitori   \n",
       "1    Unagi-Don-_Unadon_-1685775                    Unagi Don (Unadon)   \n",
       "2        Pork-ramen-soup-310007                       Pork Ramen Soup   \n",
       "3       YAKITORI-DONBURI-975550                      YAKITORI DONBURI   \n",
       "4            Pork-Ramen-1436556                            Pork Ramen   \n",
       "..                          ...                                   ...   \n",
       "856                  02db53ce91                           Oyster Stew   \n",
       "857                  02db6db8ea           Salt Pork And Greens Recipe   \n",
       "858                  02ded1955b                         BBQ pork ribs   \n",
       "859                  02df03d24c  Sea Salt With Fennel Seeds and Thyme   \n",
       "860                  02dfae1da4           Raspberry Curry Chili Sauce   \n",
       "\n",
       "             co2                                        ingredients  \n",
       "0     947.636173  [mirin, sake, sugar, chicken breasts, green on...  \n",
       "1     942.729782      [sake, steamed rice, soy sauce, mirin, sugar]  \n",
       "2     965.674359  [ola oil, pork chops, black pepper, kosher sal...  \n",
       "3    1040.336222  [ground beef, mirin, soy sauce, brown sugar, r...  \n",
       "4    1124.127685  [bacon, pork shoulder, garlic, carrot, celery ...  \n",
       "..           ...                                                ...  \n",
       "856  1010.166465  [sauce, oyster, celery, onions, spices pepper ...  \n",
       "857  1120.725675              [pork, fresh loin tenderloin, turnip]  \n",
       "858  1005.199582  [garlic powder, sugars brown, spices chili pow...  \n",
       "859  1091.784805  [fennel seed, spices marjoram, spices thyme, s...  \n",
       "860   808.516426  [aspberries, honey, spices curry powder, spice...  \n",
       "\n",
       "[861 rows x 4 columns]"
      ]
     },
     "execution_count": 42,
     "metadata": {},
     "output_type": "execute_result"
    }
   ],
   "source": [
    "#df_cleaned.drop(columns=['ingredients'], inplace=True)\n",
    "df_cleaned.rename(columns={'ingredients2':'ingredients'}, inplace=True)\n",
    "print(df_cleaned.shape)\n",
    "df_cleaned.head(-10)"
   ]
  },
  {
   "cell_type": "code",
   "execution_count": null,
   "id": "61b6c783",
   "metadata": {},
   "outputs": [],
   "source": [
    "df = df_cleaned.copy()"
   ]
  },
  {
   "cell_type": "markdown",
   "id": "514820d5",
   "metadata": {},
   "source": [
    "# Pipeline"
   ]
  },
  {
   "cell_type": "markdown",
   "id": "d2ab38b2",
   "metadata": {},
   "source": [
    "## - Convert ingredients into dict"
   ]
  },
  {
   "cell_type": "code",
   "execution_count": 17,
   "id": "96e53e0d",
   "metadata": {},
   "outputs": [],
   "source": [
    "def convert_to_dict(arr):\n",
    "    ''' Helper function to convect an array of ingredients to a dictionary '''\n",
    "    d={}\n",
    "    for a in arr:\n",
    "        d[a]=1\n",
    "    return d"
   ]
  },
  {
   "cell_type": "code",
   "execution_count": 18,
   "id": "7d5842fa",
   "metadata": {},
   "outputs": [],
   "source": [
    "# First we create a bag of words per recipe\n",
    "df['bow'] = df.ingredients.apply(convert_to_dict)"
   ]
  },
  {
   "cell_type": "markdown",
   "id": "ac004adc",
   "metadata": {},
   "source": [
    "## Pipeline"
   ]
  },
  {
   "cell_type": "markdown",
   "id": "478cc7ca",
   "metadata": {},
   "source": [
    "### Find he number of components"
   ]
  },
  {
   "cell_type": "code",
   "execution_count": 19,
   "id": "e13648fb",
   "metadata": {
    "scrolled": true
   },
   "outputs": [],
   "source": [
    "def find_n_components(df):\n",
    "    import numpy as np \n",
    "    vect_test = DictVectorizer(sparse=False)\n",
    "    X_test = vect_test.fit_transform(df.bow.tolist())\n",
    "    pca_test = PCA(n_components=min(df.shape[0], X_test.shape[1]))\n",
    "    pca_test.fit(X_test)\n",
    "    n_components = np.argmax(pca_test.explained_variance_ratio_.cumsum() > 0.9)\n",
    "    return n_components"
   ]
  },
  {
   "cell_type": "code",
   "execution_count": 20,
   "id": "6c27f5e1",
   "metadata": {},
   "outputs": [
    {
     "data": {
      "text/plain": [
       "291"
      ]
     },
     "execution_count": 20,
     "metadata": {},
     "output_type": "execute_result"
    }
   ],
   "source": [
    "n_components = find_n_components(df)\n",
    "n_components"
   ]
  },
  {
   "cell_type": "markdown",
   "id": "6edf70ab",
   "metadata": {},
   "source": [
    "### Create Pipeline"
   ]
  },
  {
   "cell_type": "code",
   "execution_count": 21,
   "id": "3fc6a439",
   "metadata": {},
   "outputs": [],
   "source": [
    "def pipeline(n_components):\n",
    "    pipe = Pipeline([\n",
    "        ('dict_vectorizer', DictVectorizer(sparse=False)),\n",
    "        ('pca', PCA(n_components=n_components))\n",
    "    ])\n",
    "    return pipe"
   ]
  },
  {
   "cell_type": "code",
   "execution_count": 22,
   "id": "99e8e0a7",
   "metadata": {},
   "outputs": [
    {
     "data": {
      "text/plain": [
       "(871, 291)"
      ]
     },
     "execution_count": 22,
     "metadata": {},
     "output_type": "execute_result"
    }
   ],
   "source": [
    "pipe = pipeline(n_components)\n",
    "X = pipe.fit_transform(df.bow.tolist())\n",
    "X.shape"
   ]
  },
  {
   "cell_type": "markdown",
   "id": "b449b5a2",
   "metadata": {},
   "source": [
    "# - Nearest Neighbor modeling"
   ]
  },
  {
   "cell_type": "code",
   "execution_count": 23,
   "id": "20a5c42c",
   "metadata": {},
   "outputs": [],
   "source": [
    "index_recipe = 2\n",
    "n_neighbors = 5\n",
    "\n",
    "nn = NearestNeighbors(n_neighbors=n_neighbors)\n",
    "nn.fit(X)\n",
    "X_test = X[index_recipe].reshape(-1,1).T\n",
    "neighbors = nn.kneighbors(X=X_test, n_neighbors=n_neighbors, return_distance=True)"
   ]
  },
  {
   "cell_type": "code",
   "execution_count": 24,
   "id": "96c2ab43",
   "metadata": {},
   "outputs": [
    {
     "data": {
      "text/plain": [
       "(1, 291)"
      ]
     },
     "execution_count": 24,
     "metadata": {},
     "output_type": "execute_result"
    }
   ],
   "source": [
    "X_test.shape"
   ]
  },
  {
   "cell_type": "code",
   "execution_count": 25,
   "id": "e90ea74b",
   "metadata": {},
   "outputs": [
    {
     "data": {
      "text/html": [
       "<div>\n",
       "<style scoped>\n",
       "    .dataframe tbody tr th:only-of-type {\n",
       "        vertical-align: middle;\n",
       "    }\n",
       "\n",
       "    .dataframe tbody tr th {\n",
       "        vertical-align: top;\n",
       "    }\n",
       "\n",
       "    .dataframe thead th {\n",
       "        text-align: right;\n",
       "    }\n",
       "</style>\n",
       "<table border=\"1\" class=\"dataframe\">\n",
       "  <thead>\n",
       "    <tr style=\"text-align: right;\">\n",
       "      <th></th>\n",
       "      <th>name</th>\n",
       "      <th>distance</th>\n",
       "      <th>co2</th>\n",
       "      <th>marker_size</th>\n",
       "    </tr>\n",
       "  </thead>\n",
       "  <tbody>\n",
       "    <tr>\n",
       "      <th>0</th>\n",
       "      <td>Pork Ramen Soup</td>\n",
       "      <td>0.000000</td>\n",
       "      <td>965.674359</td>\n",
       "      <td>783.095811</td>\n",
       "    </tr>\n",
       "    <tr>\n",
       "      <th>1</th>\n",
       "      <td>Yakitori (Japanese Grilled Chicken)</td>\n",
       "      <td>3.421128</td>\n",
       "      <td>977.468954</td>\n",
       "      <td>852.551863</td>\n",
       "    </tr>\n",
       "    <tr>\n",
       "      <th>2</th>\n",
       "      <td>Pork &amp; Broccoli Stir-Fry</td>\n",
       "      <td>3.446143</td>\n",
       "      <td>1070.916632</td>\n",
       "      <td>1615.435583</td>\n",
       "    </tr>\n",
       "    <tr>\n",
       "      <th>3</th>\n",
       "      <td>Linguica Con Queso (Cheese-Grilled Sausage)</td>\n",
       "      <td>3.571552</td>\n",
       "      <td>1003.042946</td>\n",
       "      <td>1021.496059</td>\n",
       "    </tr>\n",
       "    <tr>\n",
       "      <th>4</th>\n",
       "      <td>Yakiniku (Japanese Grilled Meat or BBQ)</td>\n",
       "      <td>3.580352</td>\n",
       "      <td>959.405015</td>\n",
       "      <td>748.193429</td>\n",
       "    </tr>\n",
       "  </tbody>\n",
       "</table>\n",
       "</div>"
      ],
      "text/plain": [
       "                                          name  distance          co2  \\\n",
       "0                              Pork Ramen Soup  0.000000   965.674359   \n",
       "1          Yakitori (Japanese Grilled Chicken)  3.421128   977.468954   \n",
       "2                     Pork & Broccoli Stir-Fry  3.446143  1070.916632   \n",
       "3  Linguica Con Queso (Cheese-Grilled Sausage)  3.571552  1003.042946   \n",
       "4      Yakiniku (Japanese Grilled Meat or BBQ)  3.580352   959.405015   \n",
       "\n",
       "   marker_size  \n",
       "0   783.095811  \n",
       "1   852.551863  \n",
       "2  1615.435583  \n",
       "3  1021.496059  \n",
       "4   748.193429  "
      ]
     },
     "execution_count": 25,
     "metadata": {},
     "output_type": "execute_result"
    }
   ],
   "source": [
    "dict_to_plot = {\n",
    "    'name':[],\n",
    "    'distance':[], \n",
    "    'co2':[],\n",
    "    'marker_size':[]\n",
    "}\n",
    "\n",
    "for rec in zip(neighbors[0][0], neighbors[1][0]):\n",
    "    dict_to_plot['name'].append(df.iloc[rec[1]]['recipeName'])\n",
    "    dict_to_plot['distance'].append(rec[0])\n",
    "    dict_to_plot['co2'].append(df.iloc[rec[1]]['co2'])\n",
    "    dict_to_plot['marker_size'].append((df.iloc[rec[1]]['co2']**7)/1000000000000000000)\n",
    "\n",
    "df_to_plot = pd.DataFrame(dict_to_plot)\n",
    "df_to_plot"
   ]
  },
  {
   "cell_type": "code",
   "execution_count": 26,
   "id": "dd6d7efa",
   "metadata": {},
   "outputs": [
    {
     "data": {
      "image/png": "[encoded data removed]",
      "text/plain": [
       "<Figure size 432x288 with 1 Axes>"
      ]
     },
     "metadata": {
      "needs_background": "light"
     },
     "output_type": "display_data"
    }
   ],
   "source": [
    "plt.scatter(df_to_plot['distance'], \n",
    "            df_to_plot['co2'], \n",
    "            s=df_to_plot['marker_size'], \n",
    "            c=df_to_plot['marker_size'], \n",
    "            cmap=\"Blues\", \n",
    "            alpha=0.6, \n",
    "            edgecolors=\"grey\", \n",
    "            linewidth=1, \n",
    "            label=df_to_plot['name'])\n",
    "\n",
    "for x,y,z in zip(df_to_plot['distance'],df_to_plot['co2'],df_to_plot['name']):\n",
    "    \n",
    "    label = f\"{z}\"\n",
    "    \n",
    "    plt.annotate(label, # this is the text\n",
    "                 (x,y), # these are the coordinates to position the label\n",
    "                 textcoords=\"offset points\", # how to position the text\n",
    "                 xytext=(0,10), # distance from text to points (x,y)\n",
    "                 ha='center') # horizontal alignment can be left, right or center"
   ]
  },
  {
   "cell_type": "markdown",
   "id": "f8c84960",
   "metadata": {},
   "source": [
    "## Nearest neighbors with c02 filtering"
   ]
  },
  {
   "cell_type": "markdown",
   "id": "51fd86a8",
   "metadata": {},
   "source": [
    "### Create Pipeline"
   ]
  },
  {
   "cell_type": "markdown",
   "id": "f7d9950e",
   "metadata": {},
   "source": [
    "def pipeline(n_components):\n",
    "    pipe = Pipeline([\n",
    "        ('dict_vectorizer', DictVectorizer(sparse=False)),\n",
    "        ('pca', PCA(n_components=n_components))\n",
    "    ])\n",
    "    return pipe"
   ]
  },
  {
   "cell_type": "markdown",
   "id": "e9d7d369",
   "metadata": {},
   "source": [
    "pipe = pipeline(n_components)\n",
    "pipe.fit(df.bow.tolist())"
   ]
  },
  {
   "cell_type": "markdown",
   "id": "424dad69",
   "metadata": {},
   "source": [
    "sample_test = \n",
    "df_filtered = df[df['co2']]\n",
    "X2 = pipe.transform(df.bow.tolist())"
   ]
  },
  {
   "cell_type": "markdown",
   "id": "289df4a2",
   "metadata": {},
   "source": [
    "# Export the data"
   ]
  },
  {
   "cell_type": "markdown",
   "id": "38492c64",
   "metadata": {},
   "source": [
    "## Export the data"
   ]
  },
  {
   "cell_type": "markdown",
   "id": "65171658",
   "metadata": {},
   "source": [
    "### Vectorized dataframe"
   ]
  },
  {
   "cell_type": "code",
   "execution_count": 27,
   "id": "b7491dfe",
   "metadata": {},
   "outputs": [],
   "source": [
    "with open(\"../foodprint.ai/data/cached_vectorized_data.pickle\", \"wb\") as file:\n",
    "    pickle.dump(pd.DataFrame(X, index=df.id), file)"
   ]
  },
  {
   "cell_type": "markdown",
   "id": "3c80ee54",
   "metadata": {},
   "source": [
    "### Informational dataframe"
   ]
  },
  {
   "cell_type": "code",
   "execution_count": 28,
   "id": "84f4b5aa",
   "metadata": {},
   "outputs": [],
   "source": [
    "with open(\"../foodprint.ai/data/cached_informational_data.pickle\", \"wb\") as file:\n",
    "    pickle.dump(df, file)"
   ]
  },
  {
   "cell_type": "markdown",
   "id": "9f8a0c30",
   "metadata": {},
   "source": [
    "## Export the pipeline"
   ]
  },
  {
   "cell_type": "code",
   "execution_count": null,
   "id": "0edb5efa",
   "metadata": {},
   "outputs": [],
   "source": [
    "with open(\"../foodprint.ai/data/pipeline.pickle\", \"wb\") as file:\n",
    "    pickle.dump(pd.DataFrame(X, index=df.id), file)"
   ]
  },
  {
   "cell_type": "markdown",
   "id": "2b6ce9c4",
   "metadata": {},
   "source": [
    "## Exporte the model"
   ]
  },
  {
   "cell_type": "code",
   "execution_count": 29,
   "id": "7da9f98d",
   "metadata": {},
   "outputs": [],
   "source": [
    "# Export pipeline as pickle file\n",
    "with open(\"../models/nneighbors_model.pkl\", \"wb\") as file:\n",
    "    pickle.dump(nn, file)"
   ]
  },
  {
   "cell_type": "markdown",
   "id": "b97a6080",
   "metadata": {},
   "source": [
    "# Test All"
   ]
  },
  {
   "cell_type": "markdown",
   "id": "f29cc316",
   "metadata": {},
   "source": [
    "### Id is provided"
   ]
  },
  {
   "cell_type": "code",
   "execution_count": 30,
   "id": "32a9184b",
   "metadata": {},
   "outputs": [],
   "source": [
    "id = 'Pork-ramen-soup-310007'"
   ]
  },
  {
   "cell_type": "markdown",
   "id": "ba9acc0d",
   "metadata": {},
   "source": [
    "### load the data"
   ]
  },
  {
   "cell_type": "code",
   "execution_count": 46,
   "id": "24c44b2d",
   "metadata": {},
   "outputs": [],
   "source": [
    "# Load dataframe from pickle file\n",
    "df_loaded = pickle.load(open(\"../foodprint.ai/data/cached_vectorized_data.pickle\",\"rb\"))"
   ]
  },
  {
   "cell_type": "code",
   "execution_count": 47,
   "id": "46767d2a",
   "metadata": {},
   "outputs": [
    {
     "data": {
      "text/html": [
       "<div>\n",
       "<style scoped>\n",
       "    .dataframe tbody tr th:only-of-type {\n",
       "        vertical-align: middle;\n",
       "    }\n",
       "\n",
       "    .dataframe tbody tr th {\n",
       "        vertical-align: top;\n",
       "    }\n",
       "\n",
       "    .dataframe thead th {\n",
       "        text-align: right;\n",
       "    }\n",
       "</style>\n",
       "<table border=\"1\" class=\"dataframe\">\n",
       "  <thead>\n",
       "    <tr style=\"text-align: right;\">\n",
       "      <th></th>\n",
       "      <th>0</th>\n",
       "      <th>1</th>\n",
       "      <th>2</th>\n",
       "      <th>3</th>\n",
       "      <th>4</th>\n",
       "      <th>5</th>\n",
       "      <th>6</th>\n",
       "      <th>7</th>\n",
       "      <th>8</th>\n",
       "      <th>9</th>\n",
       "      <th>...</th>\n",
       "      <th>281</th>\n",
       "      <th>282</th>\n",
       "      <th>283</th>\n",
       "      <th>284</th>\n",
       "      <th>285</th>\n",
       "      <th>286</th>\n",
       "      <th>287</th>\n",
       "      <th>288</th>\n",
       "      <th>289</th>\n",
       "      <th>290</th>\n",
       "    </tr>\n",
       "    <tr>\n",
       "      <th>id</th>\n",
       "      <th></th>\n",
       "      <th></th>\n",
       "      <th></th>\n",
       "      <th></th>\n",
       "      <th></th>\n",
       "      <th></th>\n",
       "      <th></th>\n",
       "      <th></th>\n",
       "      <th></th>\n",
       "      <th></th>\n",
       "      <th></th>\n",
       "      <th></th>\n",
       "      <th></th>\n",
       "      <th></th>\n",
       "      <th></th>\n",
       "      <th></th>\n",
       "      <th></th>\n",
       "      <th></th>\n",
       "      <th></th>\n",
       "      <th></th>\n",
       "      <th></th>\n",
       "    </tr>\n",
       "  </thead>\n",
       "  <tbody>\n",
       "    <tr>\n",
       "      <th>Yakitori-1364355</th>\n",
       "      <td>-0.353806</td>\n",
       "      <td>0.999220</td>\n",
       "      <td>-0.200715</td>\n",
       "      <td>0.379974</td>\n",
       "      <td>0.168254</td>\n",
       "      <td>-0.142290</td>\n",
       "      <td>-0.378290</td>\n",
       "      <td>-0.148765</td>\n",
       "      <td>0.005069</td>\n",
       "      <td>0.079685</td>\n",
       "      <td>...</td>\n",
       "      <td>0.073059</td>\n",
       "      <td>0.057032</td>\n",
       "      <td>0.107048</td>\n",
       "      <td>0.056688</td>\n",
       "      <td>0.069363</td>\n",
       "      <td>-0.041214</td>\n",
       "      <td>0.005301</td>\n",
       "      <td>-0.011283</td>\n",
       "      <td>-0.005929</td>\n",
       "      <td>-0.076245</td>\n",
       "    </tr>\n",
       "    <tr>\n",
       "      <th>Unagi-Don-_Unadon_-1685775</th>\n",
       "      <td>-0.382455</td>\n",
       "      <td>1.164432</td>\n",
       "      <td>-0.245601</td>\n",
       "      <td>0.549309</td>\n",
       "      <td>0.272621</td>\n",
       "      <td>-0.389244</td>\n",
       "      <td>-0.585609</td>\n",
       "      <td>-0.211398</td>\n",
       "      <td>0.036710</td>\n",
       "      <td>0.127688</td>\n",
       "      <td>...</td>\n",
       "      <td>-0.079797</td>\n",
       "      <td>-0.021161</td>\n",
       "      <td>0.002013</td>\n",
       "      <td>-0.052319</td>\n",
       "      <td>-0.012897</td>\n",
       "      <td>-0.012998</td>\n",
       "      <td>-0.009860</td>\n",
       "      <td>-0.007369</td>\n",
       "      <td>0.187747</td>\n",
       "      <td>-0.074363</td>\n",
       "    </tr>\n",
       "    <tr>\n",
       "      <th>Pork-ramen-soup-310007</th>\n",
       "      <td>-0.519883</td>\n",
       "      <td>0.954891</td>\n",
       "      <td>-0.200681</td>\n",
       "      <td>0.341186</td>\n",
       "      <td>0.113570</td>\n",
       "      <td>-0.065693</td>\n",
       "      <td>0.141853</td>\n",
       "      <td>-0.005009</td>\n",
       "      <td>0.490105</td>\n",
       "      <td>0.256206</td>\n",
       "      <td>...</td>\n",
       "      <td>0.088457</td>\n",
       "      <td>-0.117316</td>\n",
       "      <td>-0.126929</td>\n",
       "      <td>0.029173</td>\n",
       "      <td>-0.006908</td>\n",
       "      <td>0.065811</td>\n",
       "      <td>-0.016248</td>\n",
       "      <td>-0.145355</td>\n",
       "      <td>0.088424</td>\n",
       "      <td>0.098802</td>\n",
       "    </tr>\n",
       "    <tr>\n",
       "      <th>YAKITORI-DONBURI-975550</th>\n",
       "      <td>-0.386306</td>\n",
       "      <td>0.957796</td>\n",
       "      <td>-0.192687</td>\n",
       "      <td>0.351233</td>\n",
       "      <td>0.151482</td>\n",
       "      <td>-0.260122</td>\n",
       "      <td>-0.197049</td>\n",
       "      <td>-0.043983</td>\n",
       "      <td>-0.094353</td>\n",
       "      <td>0.169310</td>\n",
       "      <td>...</td>\n",
       "      <td>-0.045888</td>\n",
       "      <td>0.061324</td>\n",
       "      <td>0.071691</td>\n",
       "      <td>-0.047037</td>\n",
       "      <td>-0.004942</td>\n",
       "      <td>-0.052357</td>\n",
       "      <td>-0.040199</td>\n",
       "      <td>0.034378</td>\n",
       "      <td>0.015324</td>\n",
       "      <td>0.052117</td>\n",
       "    </tr>\n",
       "    <tr>\n",
       "      <th>Pork-Ramen-1436556</th>\n",
       "      <td>-0.815049</td>\n",
       "      <td>0.849178</td>\n",
       "      <td>-0.234903</td>\n",
       "      <td>0.714602</td>\n",
       "      <td>0.370272</td>\n",
       "      <td>-0.538211</td>\n",
       "      <td>0.419926</td>\n",
       "      <td>0.122475</td>\n",
       "      <td>0.681596</td>\n",
       "      <td>-0.052846</td>\n",
       "      <td>...</td>\n",
       "      <td>-0.090468</td>\n",
       "      <td>0.062528</td>\n",
       "      <td>-0.049339</td>\n",
       "      <td>-0.089947</td>\n",
       "      <td>0.004328</td>\n",
       "      <td>0.106523</td>\n",
       "      <td>0.005663</td>\n",
       "      <td>0.120271</td>\n",
       "      <td>0.017372</td>\n",
       "      <td>0.045058</td>\n",
       "    </tr>\n",
       "  </tbody>\n",
       "</table>\n",
       "<p>5 rows × 291 columns</p>\n",
       "</div>"
      ],
      "text/plain": [
       "                                 0         1         2         3         4    \\\n",
       "id                                                                             \n",
       "Yakitori-1364355           -0.353806  0.999220 -0.200715  0.379974  0.168254   \n",
       "Unagi-Don-_Unadon_-1685775 -0.382455  1.164432 -0.245601  0.549309  0.272621   \n",
       "Pork-ramen-soup-310007     -0.519883  0.954891 -0.200681  0.341186  0.113570   \n",
       "YAKITORI-DONBURI-975550    -0.386306  0.957796 -0.192687  0.351233  0.151482   \n",
       "Pork-Ramen-1436556         -0.815049  0.849178 -0.234903  0.714602  0.370272   \n",
       "\n",
       "                                 5         6         7         8         9    \\\n",
       "id                                                                             \n",
       "Yakitori-1364355           -0.142290 -0.378290 -0.148765  0.005069  0.079685   \n",
       "Unagi-Don-_Unadon_-1685775 -0.389244 -0.585609 -0.211398  0.036710  0.127688   \n",
       "Pork-ramen-soup-310007     -0.065693  0.141853 -0.005009  0.490105  0.256206   \n",
       "YAKITORI-DONBURI-975550    -0.260122 -0.197049 -0.043983 -0.094353  0.169310   \n",
       "Pork-Ramen-1436556         -0.538211  0.419926  0.122475  0.681596 -0.052846   \n",
       "\n",
       "                            ...       281       282       283       284  \\\n",
       "id                          ...                                           \n",
       "Yakitori-1364355            ...  0.073059  0.057032  0.107048  0.056688   \n",
       "Unagi-Don-_Unadon_-1685775  ... -0.079797 -0.021161  0.002013 -0.052319   \n",
       "Pork-ramen-soup-310007      ...  0.088457 -0.117316 -0.126929  0.029173   \n",
       "YAKITORI-DONBURI-975550     ... -0.045888  0.061324  0.071691 -0.047037   \n",
       "Pork-Ramen-1436556          ... -0.090468  0.062528 -0.049339 -0.089947   \n",
       "\n",
       "                                 285       286       287       288       289  \\\n",
       "id                                                                             \n",
       "Yakitori-1364355            0.069363 -0.041214  0.005301 -0.011283 -0.005929   \n",
       "Unagi-Don-_Unadon_-1685775 -0.012897 -0.012998 -0.009860 -0.007369  0.187747   \n",
       "Pork-ramen-soup-310007     -0.006908  0.065811 -0.016248 -0.145355  0.088424   \n",
       "YAKITORI-DONBURI-975550    -0.004942 -0.052357 -0.040199  0.034378  0.015324   \n",
       "Pork-Ramen-1436556          0.004328  0.106523  0.005663  0.120271  0.017372   \n",
       "\n",
       "                                 290  \n",
       "id                                    \n",
       "Yakitori-1364355           -0.076245  \n",
       "Unagi-Don-_Unadon_-1685775 -0.074363  \n",
       "Pork-ramen-soup-310007      0.098802  \n",
       "YAKITORI-DONBURI-975550     0.052117  \n",
       "Pork-Ramen-1436556          0.045058  \n",
       "\n",
       "[5 rows x 291 columns]"
      ]
     },
     "execution_count": 47,
     "metadata": {},
     "output_type": "execute_result"
    }
   ],
   "source": [
    "df_loaded.head()"
   ]
  },
  {
   "cell_type": "code",
   "execution_count": 49,
   "id": "225cd4d3",
   "metadata": {},
   "outputs": [
    {
     "data": {
      "text/plain": [
       "(871, 291)"
      ]
     },
     "execution_count": 49,
     "metadata": {},
     "output_type": "execute_result"
    }
   ],
   "source": [
    "np.array(df_loaded).shape"
   ]
  },
  {
   "cell_type": "markdown",
   "id": "3f5ddef1",
   "metadata": {},
   "source": [
    "### Get the recipe"
   ]
  },
  {
   "cell_type": "code",
   "execution_count": null,
   "id": "ae9ed13b",
   "metadata": {},
   "outputs": [],
   "source": [
    "recipe = np.array(df_loaded.loc[id]).reshape(-1,1).T"
   ]
  },
  {
   "cell_type": "code",
   "execution_count": null,
   "id": "f2778e9f",
   "metadata": {},
   "outputs": [],
   "source": [
    "recipe.shape"
   ]
  },
  {
   "cell_type": "markdown",
   "id": "3867dcfa",
   "metadata": {},
   "source": [
    "### Load the model"
   ]
  },
  {
   "cell_type": "code",
   "execution_count": null,
   "id": "df14d846",
   "metadata": {},
   "outputs": [],
   "source": [
    "# Load model from pickle file\n",
    "nn_loaded = pickle.load(open(\"../models/nneighbors_model.pkl\",\"rb\"))"
   ]
  },
  {
   "cell_type": "markdown",
   "id": "8e8c58f2",
   "metadata": {},
   "source": [
    "### find the neighbors"
   ]
  },
  {
   "cell_type": "code",
   "execution_count": null,
   "id": "4290b882",
   "metadata": {
    "scrolled": true
   },
   "outputs": [],
   "source": [
    "n_neighbors = 5\n",
    "neighbors = nn_loaded.kneighbors(X=recipe, n_neighbors=n_neighbors, return_distance=True)"
   ]
  },
  {
   "cell_type": "code",
   "execution_count": null,
   "id": "a325e24a",
   "metadata": {},
   "outputs": [],
   "source": []
  }
 ],
 "metadata": {
  "kernelspec": {
   "display_name": "Python 3 (ipykernel)",
   "language": "python",
   "name": "python3"
  },
  "language_info": {
   "codemirror_mode": {
    "name": "ipython",
    "version": 3
   },
   "file_extension": ".py",
   "mimetype": "text/x-python",
   "name": "python",
   "nbconvert_exporter": "python",
   "pygments_lexer": "ipython3",
   "version": "3.8.6"
  },
  "toc": {
   "base_numbering": 1,
   "nav_menu": {},
   "number_sections": true,
   "sideBar": true,
   "skip_h1_title": false,
   "title_cell": "Table of Contents",
   "title_sidebar": "Contents",
   "toc_cell": false,
   "toc_position": {},
   "toc_section_display": true,
   "toc_window_display": false
  }
 },
 "nbformat": 4,
 "nbformat_minor": 5
}
