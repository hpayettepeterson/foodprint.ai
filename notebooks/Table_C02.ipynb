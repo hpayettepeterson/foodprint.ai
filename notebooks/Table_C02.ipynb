{
 "cells": [
  {
   "cell_type": "code",
   "execution_count": 1,
   "id": "89729224",
   "metadata": {},
   "outputs": [],
   "source": [
    "import matplotlib\n",
    "%matplotlib inline\n",
    "import numpy as np\n",
    "import pandas as pd"
   ]
  },
  {
   "cell_type": "markdown",
   "id": "b17c0ff5",
   "metadata": {},
   "source": [
    "## Notes\n",
    "- don't forget to use the C02 for direct ones\n",
    "- almost all values missing \n",
    "- hard replacement at the end!"
   ]
  },
  {
   "cell_type": "code",
   "execution_count": 2,
   "id": "7c99cfb0",
   "metadata": {},
   "outputs": [],
   "source": [
    "df = pd.read_csv('../raw_data/ingredients.csv')"
   ]
  },
  {
   "cell_type": "code",
   "execution_count": 3,
   "id": "44de06ff",
   "metadata": {},
   "outputs": [],
   "source": [
    "df['category'] = \"unknown\"\n",
    "df['C02_per_kilo'] = 0\n",
    "df.set_index('ingredients',inplace=True)"
   ]
  },
  {
   "cell_type": "code",
   "execution_count": 4,
   "id": "64c34687",
   "metadata": {},
   "outputs": [
    {
     "data": {
      "text/html": [
       "<div>\n",
       "<style scoped>\n",
       "    .dataframe tbody tr th:only-of-type {\n",
       "        vertical-align: middle;\n",
       "    }\n",
       "\n",
       "    .dataframe tbody tr th {\n",
       "        vertical-align: top;\n",
       "    }\n",
       "\n",
       "    .dataframe thead th {\n",
       "        text-align: right;\n",
       "    }\n",
       "</style>\n",
       "<table border=\"1\" class=\"dataframe\">\n",
       "  <thead>\n",
       "    <tr style=\"text-align: right;\">\n",
       "      <th></th>\n",
       "      <th>category</th>\n",
       "      <th>C02_per_kilo</th>\n",
       "    </tr>\n",
       "    <tr>\n",
       "      <th>ingredients</th>\n",
       "      <th></th>\n",
       "      <th></th>\n",
       "    </tr>\n",
       "  </thead>\n",
       "  <tbody>\n",
       "    <tr>\n",
       "      <th>tomato sauce</th>\n",
       "      <td>unknown</td>\n",
       "      <td>0</td>\n",
       "    </tr>\n",
       "    <tr>\n",
       "      <th>tomato paste</th>\n",
       "      <td>unknown</td>\n",
       "      <td>0</td>\n",
       "    </tr>\n",
       "    <tr>\n",
       "      <th>american cheese</th>\n",
       "      <td>unknown</td>\n",
       "      <td>0</td>\n",
       "    </tr>\n",
       "    <tr>\n",
       "      <th>beef broth</th>\n",
       "      <td>unknown</td>\n",
       "      <td>0</td>\n",
       "    </tr>\n",
       "    <tr>\n",
       "      <th>chicken broth</th>\n",
       "      <td>unknown</td>\n",
       "      <td>0</td>\n",
       "    </tr>\n",
       "    <tr>\n",
       "      <th>...</th>\n",
       "      <td>...</td>\n",
       "      <td>...</td>\n",
       "    </tr>\n",
       "    <tr>\n",
       "      <th>ziti</th>\n",
       "      <td>unknown</td>\n",
       "      <td>0</td>\n",
       "    </tr>\n",
       "    <tr>\n",
       "      <th>zitronensaft</th>\n",
       "      <td>unknown</td>\n",
       "      <td>0</td>\n",
       "    </tr>\n",
       "    <tr>\n",
       "      <th>zucchini</th>\n",
       "      <td>unknown</td>\n",
       "      <td>0</td>\n",
       "    </tr>\n",
       "    <tr>\n",
       "      <th>zucchini blossoms</th>\n",
       "      <td>unknown</td>\n",
       "      <td>0</td>\n",
       "    </tr>\n",
       "    <tr>\n",
       "      <th>zucchini noodles</th>\n",
       "      <td>unknown</td>\n",
       "      <td>0</td>\n",
       "    </tr>\n",
       "  </tbody>\n",
       "</table>\n",
       "<p>4822 rows × 2 columns</p>\n",
       "</div>"
      ],
      "text/plain": [
       "                  category  C02_per_kilo\n",
       "ingredients                             \n",
       "tomato sauce       unknown             0\n",
       "tomato paste       unknown             0\n",
       "american cheese    unknown             0\n",
       "beef broth         unknown             0\n",
       "chicken broth      unknown             0\n",
       "...                    ...           ...\n",
       "ziti               unknown             0\n",
       "zitronensaft       unknown             0\n",
       "zucchini           unknown             0\n",
       "zucchini blossoms  unknown             0\n",
       "zucchini noodles   unknown             0\n",
       "\n",
       "[4822 rows x 2 columns]"
      ]
     },
     "execution_count": 4,
     "metadata": {},
     "output_type": "execute_result"
    }
   ],
   "source": [
    "df"
   ]
  },
  {
   "cell_type": "markdown",
   "id": "6117c1c1",
   "metadata": {},
   "source": [
    "df.loc[(df.index == 'ziti'),'category']='alcohol'\n",
    "df.loc[(df.index == 'ziti'),'C02_per_kilo']='2.1'"
   ]
  },
  {
   "cell_type": "markdown",
   "id": "ad95f0e2",
   "metadata": {},
   "source": [
    "# CODE BLUEPRINT"
   ]
  },
  {
   "cell_type": "markdown",
   "id": "95a06dee",
   "metadata": {},
   "source": [
    "df.loc[(df.index == 'ziti'),'category']='alcohol'\n",
    "df.loc[(df.index == 'ziti'),'C02_per_kilo']='2.1'\n",
    "\n",
    "df.loc[df.index.str.contains('beef'), 'category'] = 'beef'\n",
    "df.loc[df.index.str.contains('beef'), 'C02_per_kilo'] = '0.2'\n",
    "\n",
    "for spice in testlistspices:\n",
    "    df.loc[df.index.str.contains(spice), 'category'] = 'spices'\n",
    "    df.loc[df.index.str.contains(spice), 'C02_per_kilo'] = '0.3'"
   ]
  },
  {
   "cell_type": "markdown",
   "id": "e01d9fe2",
   "metadata": {},
   "source": [
    "# Data Input"
   ]
  },
  {
   "cell_type": "markdown",
   "id": "2bb074cb",
   "metadata": {},
   "source": [
    "## spices"
   ]
  },
  {
   "cell_type": "code",
   "execution_count": 62,
   "id": "1c357ae3",
   "metadata": {},
   "outputs": [
    {
     "data": {
      "text/plain": [
       "category\n",
       "Poultry_meat      12\n",
       "beer              19\n",
       "booze             24\n",
       "broth            247\n",
       "cheese           146\n",
       "chicken           59\n",
       "coconut           26\n",
       "cow              125\n",
       "eggs              35\n",
       "fish              96\n",
       "fruit             11\n",
       "greenspices      241\n",
       "juice             55\n",
       "milk              45\n",
       "noodles          159\n",
       "pig              141\n",
       "rice              88\n",
       "sauces           250\n",
       "sausage           13\n",
       "soft drinks       12\n",
       "spices           524\n",
       "sugar             35\n",
       "turkey            35\n",
       "unknown         2046\n",
       "vegetables       341\n",
       "wine              37\n",
       "dtype: int64"
      ]
     },
     "execution_count": 62,
     "metadata": {},
     "output_type": "execute_result"
    }
   ],
   "source": [
    "spices_list = [\"powder\", \"spices\", \"cayenne pepper\", \"cayenne\", \"allspice\", \"miso\",\"cinnamon\", \"seasoning\", \"star anise\", \"purpose seasoning\", \"allpurpose rub\", \"baobab fruit powder\", \"seasoning\", \"cayenne\", \"msg\", \"pfeffer\", \"schwarzpfeffer\", \"salt\", \"mix\", \"adobo allpurpose ing\", \"ing\", \"wasabi\", \"cinnamon\", \"gluten\", \"ginger\", \"gelatin\", \"shoots\", \"five spice\", \"chili\", \"chiffonade\", \"cardamon\", \"allspice\", \"anis\"]\n",
    "spices_cat =\"spices\"\n",
    "spcies_C02 = 0.3\n",
    "for item in spices_list:\n",
    "        df.loc[df.index.str.contains(item), 'category'] = spices_cat\n",
    "        df.loc[df.index.str.contains(item), 'C02_per_kilo'] = spcies_C02\n",
    "df.groupby(['category']).size()"
   ]
  },
  {
   "cell_type": "markdown",
   "id": "fdddd29e",
   "metadata": {},
   "source": [
    "## liquid spices"
   ]
  },
  {
   "cell_type": "code",
   "execution_count": 6,
   "id": "5a046b97",
   "metadata": {},
   "outputs": [
    {
     "data": {
      "text/plain": [
       "category\n",
       "sauces      347\n",
       "spices      490\n",
       "unknown    3985\n",
       "dtype: int64"
      ]
     },
     "execution_count": 6,
     "metadata": {},
     "output_type": "execute_result"
    }
   ],
   "source": [
    "liqspices_list = [\"sauce\", \"soy sauce\", \"soy\",  \"vinegar\", \"fish sauce\", \"pesto\", \"salsa\", \"chipotle\", \"doubanjiang\", \"chimichurri\", \"catsup\", \"paste\", \"mustard\", \"honey\"]\n",
    "liqspices_cat =\"sauces\"\n",
    "liqspcies_C02 = 5\n",
    "for item in liqspices_list:\n",
    "    df.loc[df.index.str.contains(item), 'category'] = liqspices_cat\n",
    "    df.loc[df.index.str.contains(item), 'C02_per_kilo'] = liqspcies_C02\n",
    "df.groupby(['category']).size()"
   ]
  },
  {
   "cell_type": "markdown",
   "id": "138c27de",
   "metadata": {},
   "source": [
    "## green spices (herbs)"
   ]
  },
  {
   "cell_type": "code",
   "execution_count": 7,
   "id": "f7024754",
   "metadata": {},
   "outputs": [
    {
     "data": {
      "text/plain": [
       "category\n",
       "greenspices     303\n",
       "sauces          327\n",
       "spices          446\n",
       "unknown        3746\n",
       "dtype: int64"
      ]
     },
     "execution_count": 7,
     "metadata": {},
     "output_type": "execute_result"
    }
   ],
   "source": [
    "greenspices_list = [\"bay leaves\", \"cilantro\", \"ginger\", \"garlic\", \"herb seasoning\", \"herb\", \"kuttelkraut\", \"kÃ¼mmel\", \"kÃ¼mmelpulver\", \"leave\", \"leaves\", \"rosmary\", \"wacholderbeeren\", \"sage\", \"mint\", \"thyme\", \"herbs\", \"horseradish\", \"garland chrysanthemum\", \"gari\", \"garden cress\", \"garam masala\", \"rosemary\", \"dill\", \"coriander\", \"lavender\", \"cilantro\", \"chives\", \"cilantro\", \"oregano\", \"celery\", \"cilantro\", \"chard\", \"epazote\", \"lavender\", \"basil\"]\n",
    "greenspices_cat =\"greenspices\"\n",
    "greenspices_C02 = 0.3\n",
    "for item in greenspices_list:\n",
    "        df.loc[df.index.str.contains(item), 'category'] = greenspices_cat\n",
    "        df.loc[df.index.str.contains(item), 'C02_per_kilo'] = greenspices_C02 \n",
    "df.groupby(['category']).size()"
   ]
  },
  {
   "cell_type": "markdown",
   "id": "731162e6",
   "metadata": {},
   "source": [
    "## broth"
   ]
  },
  {
   "cell_type": "code",
   "execution_count": 39,
   "id": "99f657af",
   "metadata": {},
   "outputs": [
    {
     "data": {
      "text/plain": [
       "category\n",
       "Poultry_meat      12\n",
       "beer              20\n",
       "booze             24\n",
       "broth            276\n",
       "cheese           158\n",
       "chicken           69\n",
       "coconut           37\n",
       "cow              133\n",
       "eggs              51\n",
       "fish             104\n",
       "fruit             14\n",
       "greenspices      285\n",
       "juice             56\n",
       "milk              33\n",
       "noodles          120\n",
       "pig              147\n",
       "sauces           283\n",
       "sausage           14\n",
       "soft drinks       12\n",
       "spices           364\n",
       "sugar             36\n",
       "turkey            36\n",
       "unknown         2283\n",
       "vegetables       208\n",
       "wine              47\n",
       "dtype: int64"
      ]
     },
     "execution_count": 39,
     "metadata": {},
     "output_type": "execute_result"
    }
   ],
   "source": [
    "broth_list = [\"stock\", \"broth\", \"bouillon\", \"fond\", \"granules\", \"base\", \"glace\", \"bone\", \"soup\"]\n",
    "broth_cat =\"broth\"\n",
    "broth_C02 = 0.1\n",
    "for item in broth_list:\n",
    "        df.loc[df.index.str.contains(item), 'category'] = broth_cat\n",
    "        df.loc[df.index.str.contains(item), 'C02_per_kilo'] = broth_C02 \n",
    "df.groupby(['category']).size()"
   ]
  },
  {
   "cell_type": "markdown",
   "id": "86ed7050",
   "metadata": {},
   "source": [
    "## pig "
   ]
  },
  {
   "cell_type": "code",
   "execution_count": 9,
   "id": "6ed25f25",
   "metadata": {},
   "outputs": [
    {
     "data": {
      "text/plain": [
       "category\n",
       "broth           216\n",
       "greenspices     303\n",
       "pig             177\n",
       "sauces          323\n",
       "spices          427\n",
       "unknown        3376\n",
       "dtype: int64"
      ]
     },
     "execution_count": 9,
     "metadata": {},
     "output_type": "execute_result"
    }
   ],
   "source": [
    "pig_list=[\"pig\", \"bacon\", \"pork\", \"speck\", \"ham\", \"liverwurst\", \"liver pate\", \"schweinefleisch\", \"schinken\", \"pork\", \"salami\"]\n",
    "pig_cat =\"pig\"\n",
    "pig_C02 = 45\n",
    "for item in pig_list:\n",
    "        df.loc[df.index.str.contains(item), 'category'] = pig_cat\n",
    "        df.loc[df.index.str.contains(item), 'C02_per_kilo'] = pig_C02 \n",
    "df.groupby(['category']).size()"
   ]
  },
  {
   "cell_type": "markdown",
   "id": "981f113a",
   "metadata": {},
   "source": [
    "## Sausage"
   ]
  },
  {
   "cell_type": "code",
   "execution_count": 10,
   "id": "2d4c285d",
   "metadata": {},
   "outputs": [
    {
     "data": {
      "text/plain": [
       "category\n",
       "broth           216\n",
       "greenspices     303\n",
       "pig             177\n",
       "sauces          322\n",
       "sausage          15\n",
       "spices          426\n",
       "unknown        3363\n",
       "dtype: int64"
      ]
     },
     "execution_count": 10,
     "metadata": {},
     "output_type": "execute_result"
    }
   ],
   "source": [
    "sausage_list=[\"frankfurters\", \"weisswurst\", \"bauernwurst\", \"bockwurst\", \"chorizo\", \"bratwurst\"]\n",
    "sausage_cat =\"sausage\"\n",
    "sausage_C02 = 45\n",
    "for item in sausage_list:\n",
    "        df.loc[df.index.str.contains(item), 'category'] = sausage_cat\n",
    "        df.loc[df.index.str.contains(item), 'C02_per_kilo'] = sausage_C02 \n",
    "df.groupby(['category']).size()"
   ]
  },
  {
   "cell_type": "markdown",
   "id": "3a252dd6",
   "metadata": {},
   "source": [
    "## cow"
   ]
  },
  {
   "cell_type": "code",
   "execution_count": 11,
   "id": "9ce9aac6",
   "metadata": {},
   "outputs": [
    {
     "data": {
      "text/plain": [
       "category\n",
       "broth           168\n",
       "cow             185\n",
       "greenspices     303\n",
       "pig             174\n",
       "sauces          320\n",
       "sausage          15\n",
       "spices          417\n",
       "unknown        3240\n",
       "dtype: int64"
      ]
     },
     "execution_count": 11,
     "metadata": {},
     "output_type": "execute_result"
    }
   ],
   "source": [
    "cow_list=[\"cow\", \"beef\", \"steak\", \"steak tips\", \"tri tip\", \"rindfleisch\", \"rindergehacktes\", \"veal\", \"Schnitzel\", \"chuck roast\", \"eye steak\"]\n",
    "cow_cat =\"cow\"\n",
    "cow_C02 = 45\n",
    "for item in cow_list:\n",
    "        df.loc[df.index.str.contains(item), 'category'] = cow_cat\n",
    "        df.loc[df.index.str.contains(item), 'C02_per_kilo'] = cow_C02 \n",
    "df.groupby(['category']).size()"
   ]
  },
  {
   "cell_type": "markdown",
   "id": "058f3e0b",
   "metadata": {},
   "source": [
    "## chicken"
   ]
  },
  {
   "cell_type": "code",
   "execution_count": 12,
   "id": "a9a0ae0f",
   "metadata": {},
   "outputs": [
    {
     "data": {
      "text/plain": [
       "category\n",
       "broth            85\n",
       "chicken         161\n",
       "cow             185\n",
       "greenspices     303\n",
       "pig             174\n",
       "sauces          320\n",
       "sausage          15\n",
       "spices          408\n",
       "unknown        3171\n",
       "dtype: int64"
      ]
     },
     "execution_count": 12,
     "metadata": {},
     "output_type": "execute_result"
    }
   ],
   "source": [
    "chicken_list=[\"chicken\"]\n",
    "chicken_cat =\"chicken\"\n",
    "chicken_C02 = 45\n",
    "for item in chicken_list:\n",
    "        df.loc[df.index.str.contains(item), 'category'] = chicken_cat\n",
    "        df.loc[df.index.str.contains(item), 'C02_per_kilo'] = chicken_C02 \n",
    "df.groupby(['category']).size()"
   ]
  },
  {
   "cell_type": "markdown",
   "id": "8eabacb6",
   "metadata": {},
   "source": [
    "## turkey"
   ]
  },
  {
   "cell_type": "code",
   "execution_count": 13,
   "id": "492076ba",
   "metadata": {},
   "outputs": [
    {
     "data": {
      "text/plain": [
       "category\n",
       "broth            76\n",
       "chicken         161\n",
       "cow             185\n",
       "greenspices     303\n",
       "pig             172\n",
       "sauces          317\n",
       "sausage          15\n",
       "spices          407\n",
       "turkey           45\n",
       "unknown        3141\n",
       "dtype: int64"
      ]
     },
     "execution_count": 13,
     "metadata": {},
     "output_type": "execute_result"
    }
   ],
   "source": [
    "turkey_list=[\"turkey\"]\n",
    "turkey_cat =\"turkey\"\n",
    "turkey_C02 = 45\n",
    "for item in turkey_list:\n",
    "        df.loc[df.index.str.contains(item), 'category'] = turkey_cat\n",
    "        df.loc[df.index.str.contains(item), 'C02_per_kilo'] = turkey_C02 \n",
    "df.groupby(['category']).size()"
   ]
  },
  {
   "cell_type": "markdown",
   "id": "b9f4d57f",
   "metadata": {},
   "source": [
    "## eggs "
   ]
  },
  {
   "cell_type": "code",
   "execution_count": 37,
   "id": "daa5a8e5",
   "metadata": {},
   "outputs": [
    {
     "data": {
      "text/plain": [
       "category\n",
       "Poultry_meat      18\n",
       "beer              20\n",
       "booze             24\n",
       "broth             61\n",
       "cheese           161\n",
       "chicken          159\n",
       "coconut           37\n",
       "cow              181\n",
       "eggs              51\n",
       "fish             114\n",
       "fruit             14\n",
       "greenspices      289\n",
       "juice             56\n",
       "milk              33\n",
       "noodles          120\n",
       "pig              164\n",
       "sauces           283\n",
       "sausage           14\n",
       "soft drinks       12\n",
       "spices           371\n",
       "sugar             36\n",
       "turkey            45\n",
       "unknown         2300\n",
       "vegetables       212\n",
       "wine              47\n",
       "dtype: int64"
      ]
     },
     "execution_count": 37,
     "metadata": {},
     "output_type": "execute_result"
    }
   ],
   "source": [
    "eggs_list=[\"eggs\", \"egg\"]\n",
    "eggs_cat =\"eggs\"\n",
    "eggs_C02 = 45\n",
    "for item in eggs_list:\n",
    "        df.loc[df.index.str.contains(item), 'category'] = eggs_cat\n",
    "        df.loc[df.index.str.contains(item), 'C02_per_kilo'] = eggs_C02 \n",
    "df.groupby(['category']).size()"
   ]
  },
  {
   "cell_type": "markdown",
   "id": "229eedc5",
   "metadata": {},
   "source": [
    "## fish (SPLIT THIS!) (includes other sea animals)"
   ]
  },
  {
   "cell_type": "code",
   "execution_count": 15,
   "id": "86beeadb",
   "metadata": {},
   "outputs": [
    {
     "data": {
      "text/plain": [
       "category\n",
       "broth            67\n",
       "chicken         161\n",
       "cow             183\n",
       "eggs             15\n",
       "fish            117\n",
       "greenspices     302\n",
       "pig             172\n",
       "sauces          311\n",
       "sausage          15\n",
       "spices          400\n",
       "turkey           45\n",
       "unknown        3034\n",
       "dtype: int64"
      ]
     },
     "execution_count": 15,
     "metadata": {},
     "output_type": "execute_result"
    }
   ],
   "source": [
    "fish_list=[\"Crustaceans\", \"shrimp\", \"prawn\", \"scampi\", \"lobster\",\n",
    "           \"crab\", \"fish\", \"eel\", \"rockfish\", \"dogfish\",\"mahimahi\", \n",
    "           \"whiting\",\"bass\", \"cod\", \"english sole\", \"codfish\", \"catfish\"]\n",
    "fish_cat =\"fish\"\n",
    "fish_C02 = 45\n",
    "for item in fish_list:\n",
    "        df.loc[df.index.str.contains(item), 'category'] = fish_cat\n",
    "        df.loc[df.index.str.contains(item), 'C02_per_kilo'] = fish_C02 \n",
    "df.groupby(['category']).size()"
   ]
  },
  {
   "cell_type": "markdown",
   "id": "25b3731b",
   "metadata": {},
   "source": [
    "## wine"
   ]
  },
  {
   "cell_type": "code",
   "execution_count": 16,
   "id": "6d19ac34",
   "metadata": {},
   "outputs": [
    {
     "data": {
      "text/plain": [
       "category\n",
       "broth            67\n",
       "chicken         161\n",
       "cow             183\n",
       "eggs             15\n",
       "fish            117\n",
       "greenspices     302\n",
       "pig             171\n",
       "sauces          301\n",
       "sausage          15\n",
       "spices          394\n",
       "turkey           45\n",
       "unknown        3004\n",
       "wine             47\n",
       "dtype: int64"
      ]
     },
     "execution_count": 16,
     "metadata": {},
     "output_type": "execute_result"
    }
   ],
   "source": [
    "wine_list=[\"wine\", \"riesling\", \"zinfandel\", \"rotwein\", \"wein\", \"cider\"]\n",
    "wine_cat =\"wine\"\n",
    "wine_C02 = 45\n",
    "for item in wine_list:\n",
    "        df.loc[df.index.str.contains(item), 'category'] = wine_cat\n",
    "        df.loc[df.index.str.contains(item), 'C02_per_kilo'] = wine_C02 \n",
    "df.groupby(['category']).size()"
   ]
  },
  {
   "cell_type": "markdown",
   "id": "5783d647",
   "metadata": {},
   "source": [
    "## beer"
   ]
  },
  {
   "cell_type": "code",
   "execution_count": 17,
   "id": "81abd1b6",
   "metadata": {},
   "outputs": [
    {
     "data": {
      "text/plain": [
       "category\n",
       "beer             20\n",
       "broth            67\n",
       "chicken         161\n",
       "cow             183\n",
       "eggs             15\n",
       "fish            117\n",
       "greenspices     301\n",
       "pig             171\n",
       "sauces          301\n",
       "sausage          15\n",
       "spices          393\n",
       "turkey           45\n",
       "unknown        2986\n",
       "wine             47\n",
       "dtype: int64"
      ]
     },
     "execution_count": 17,
     "metadata": {},
     "output_type": "execute_result"
    }
   ],
   "source": [
    "beer_list=[\"beer\", \"pilsner\", \"wheat beer\", \"bier\",\" root beer\", \"yuengling beer\"]\n",
    "beer_cat =\"beer\"\n",
    "beer_C02 = 10\n",
    "for item in beer_list:\n",
    "        df.loc[df.index.str.contains(item), 'category'] = beer_cat\n",
    "        df.loc[df.index.str.contains(item), 'C02_per_kilo'] = beer_C02 \n",
    "df.groupby(['category']).size()"
   ]
  },
  {
   "cell_type": "markdown",
   "id": "99b7c75a",
   "metadata": {},
   "source": [
    "## booze  "
   ]
  },
  {
   "cell_type": "code",
   "execution_count": 18,
   "id": "16422ab1",
   "metadata": {},
   "outputs": [
    {
     "data": {
      "text/plain": [
       "category\n",
       "beer             20\n",
       "booze            24\n",
       "broth            67\n",
       "chicken         161\n",
       "cow             183\n",
       "eggs             15\n",
       "fish            117\n",
       "greenspices     301\n",
       "pig             171\n",
       "sauces          301\n",
       "sausage          15\n",
       "spices          393\n",
       "turkey           45\n",
       "unknown        2962\n",
       "wine             47\n",
       "dtype: int64"
      ]
     },
     "execution_count": 18,
     "metadata": {},
     "output_type": "execute_result"
    }
   ],
   "source": [
    "booze_list=[\"schnaps\", \"whiskey\",\"jack daniels\", \"alcohol\", \"liquor\", \"whisky\", \"vodka\", \"vermouth\", \"tequila\", \"cognac\", \"brandy\", \"schnapps\"]\n",
    "booze_cat =\"booze\"\n",
    "booze_C02 = 10\n",
    "for item in booze_list:\n",
    "        df.loc[df.index.str.contains(item), 'category'] = booze_cat\n",
    "        df.loc[(df.index == 'rum'),'category']=booze_cat\n",
    "        df.loc[(df.index == 'gin'),'category']=booze_cat        \n",
    "        df.loc[df.index.str.contains(item), 'C02_per_kilo'] = booze_C02 \n",
    "df.groupby(['category']).size()"
   ]
  },
  {
   "cell_type": "code",
   "execution_count": 19,
   "id": "9f49c6b5",
   "metadata": {},
   "outputs": [
    {
     "data": {
      "text/html": [
       "<div>\n",
       "<style scoped>\n",
       "    .dataframe tbody tr th:only-of-type {\n",
       "        vertical-align: middle;\n",
       "    }\n",
       "\n",
       "    .dataframe tbody tr th {\n",
       "        vertical-align: top;\n",
       "    }\n",
       "\n",
       "    .dataframe thead th {\n",
       "        text-align: right;\n",
       "    }\n",
       "</style>\n",
       "<table border=\"1\" class=\"dataframe\">\n",
       "  <thead>\n",
       "    <tr style=\"text-align: right;\">\n",
       "      <th></th>\n",
       "      <th>category</th>\n",
       "      <th>C02_per_kilo</th>\n",
       "    </tr>\n",
       "    <tr>\n",
       "      <th>ingredients</th>\n",
       "      <th></th>\n",
       "      <th></th>\n",
       "    </tr>\n",
       "  </thead>\n",
       "  <tbody>\n",
       "    <tr>\n",
       "      <th>alcohol</th>\n",
       "      <td>booze</td>\n",
       "      <td>10.0</td>\n",
       "    </tr>\n",
       "    <tr>\n",
       "      <th>apple brandy</th>\n",
       "      <td>booze</td>\n",
       "      <td>10.0</td>\n",
       "    </tr>\n",
       "    <tr>\n",
       "      <th>apple schnapps</th>\n",
       "      <td>booze</td>\n",
       "      <td>10.0</td>\n",
       "    </tr>\n",
       "    <tr>\n",
       "      <th>bourbon whiskey</th>\n",
       "      <td>booze</td>\n",
       "      <td>10.0</td>\n",
       "    </tr>\n",
       "    <tr>\n",
       "      <th>brandy</th>\n",
       "      <td>booze</td>\n",
       "      <td>10.0</td>\n",
       "    </tr>\n",
       "    <tr>\n",
       "      <th>cognac</th>\n",
       "      <td>booze</td>\n",
       "      <td>10.0</td>\n",
       "    </tr>\n",
       "    <tr>\n",
       "      <th>dry vermouth</th>\n",
       "      <td>booze</td>\n",
       "      <td>10.0</td>\n",
       "    </tr>\n",
       "    <tr>\n",
       "      <th>gin</th>\n",
       "      <td>booze</td>\n",
       "      <td>0.0</td>\n",
       "    </tr>\n",
       "    <tr>\n",
       "      <th>gold tequila</th>\n",
       "      <td>booze</td>\n",
       "      <td>10.0</td>\n",
       "    </tr>\n",
       "    <tr>\n",
       "      <th>irish whiskey</th>\n",
       "      <td>booze</td>\n",
       "      <td>10.0</td>\n",
       "    </tr>\n",
       "    <tr>\n",
       "      <th>jack daniels</th>\n",
       "      <td>booze</td>\n",
       "      <td>10.0</td>\n",
       "    </tr>\n",
       "    <tr>\n",
       "      <th>jack daniels whiskey</th>\n",
       "      <td>booze</td>\n",
       "      <td>10.0</td>\n",
       "    </tr>\n",
       "    <tr>\n",
       "      <th>jameson irish whiskey</th>\n",
       "      <td>booze</td>\n",
       "      <td>10.0</td>\n",
       "    </tr>\n",
       "    <tr>\n",
       "      <th>liquor</th>\n",
       "      <td>booze</td>\n",
       "      <td>10.0</td>\n",
       "    </tr>\n",
       "    <tr>\n",
       "      <th>rum</th>\n",
       "      <td>booze</td>\n",
       "      <td>0.0</td>\n",
       "    </tr>\n",
       "    <tr>\n",
       "      <th>rye whiskey</th>\n",
       "      <td>booze</td>\n",
       "      <td>10.0</td>\n",
       "    </tr>\n",
       "    <tr>\n",
       "      <th>silver tequila</th>\n",
       "      <td>booze</td>\n",
       "      <td>10.0</td>\n",
       "    </tr>\n",
       "    <tr>\n",
       "      <th>sweet vermouth</th>\n",
       "      <td>booze</td>\n",
       "      <td>10.0</td>\n",
       "    </tr>\n",
       "    <tr>\n",
       "      <th>tequila</th>\n",
       "      <td>booze</td>\n",
       "      <td>10.0</td>\n",
       "    </tr>\n",
       "    <tr>\n",
       "      <th>vermouth</th>\n",
       "      <td>booze</td>\n",
       "      <td>10.0</td>\n",
       "    </tr>\n",
       "    <tr>\n",
       "      <th>vodka</th>\n",
       "      <td>booze</td>\n",
       "      <td>10.0</td>\n",
       "    </tr>\n",
       "    <tr>\n",
       "      <th>whiskey</th>\n",
       "      <td>booze</td>\n",
       "      <td>10.0</td>\n",
       "    </tr>\n",
       "    <tr>\n",
       "      <th>whisky</th>\n",
       "      <td>booze</td>\n",
       "      <td>10.0</td>\n",
       "    </tr>\n",
       "    <tr>\n",
       "      <th>white vermouth</th>\n",
       "      <td>booze</td>\n",
       "      <td>10.0</td>\n",
       "    </tr>\n",
       "  </tbody>\n",
       "</table>\n",
       "</div>"
      ],
      "text/plain": [
       "                      category  C02_per_kilo\n",
       "ingredients                                 \n",
       "alcohol                  booze          10.0\n",
       "apple brandy             booze          10.0\n",
       "apple schnapps           booze          10.0\n",
       "bourbon whiskey          booze          10.0\n",
       "brandy                   booze          10.0\n",
       "cognac                   booze          10.0\n",
       "dry vermouth             booze          10.0\n",
       "gin                      booze           0.0\n",
       "gold tequila             booze          10.0\n",
       "irish whiskey            booze          10.0\n",
       "jack daniels             booze          10.0\n",
       "jack daniels whiskey     booze          10.0\n",
       "jameson irish whiskey    booze          10.0\n",
       "liquor                   booze          10.0\n",
       "rum                      booze           0.0\n",
       "rye whiskey              booze          10.0\n",
       "silver tequila           booze          10.0\n",
       "sweet vermouth           booze          10.0\n",
       "tequila                  booze          10.0\n",
       "vermouth                 booze          10.0\n",
       "vodka                    booze          10.0\n",
       "whiskey                  booze          10.0\n",
       "whisky                   booze          10.0\n",
       "white vermouth           booze          10.0"
      ]
     },
     "execution_count": 19,
     "metadata": {},
     "output_type": "execute_result"
    }
   ],
   "source": [
    "df[df[\"category\"] == \"booze\"]"
   ]
  },
  {
   "cell_type": "markdown",
   "id": "77dfa978",
   "metadata": {},
   "source": [
    "## bread "
   ]
  },
  {
   "cell_type": "code",
   "execution_count": 20,
   "id": "3e0cc7f4",
   "metadata": {},
   "outputs": [
    {
     "data": {
      "text/plain": [
       "category\n",
       "beer             20\n",
       "booze            24\n",
       "bread           121\n",
       "broth            67\n",
       "chicken         161\n",
       "cow             183\n",
       "eggs             15\n",
       "fish            117\n",
       "greenspices     296\n",
       "pig             166\n",
       "sauces          301\n",
       "sausage          14\n",
       "spices          388\n",
       "turkey           45\n",
       "unknown        2857\n",
       "wine             47\n",
       "dtype: int64"
      ]
     },
     "execution_count": 20,
     "metadata": {},
     "output_type": "execute_result"
    }
   ],
   "source": [
    "bread_list=[\"bread\", \"bun\", \"bread rounds\", \"crumbs\", \"ciabatta\", \"baguette\", \"filo\", \"submarine\"]\n",
    "bread_cat =\"bread\"\n",
    "bread_C02 = 5\n",
    "for item in bread_list:\n",
    "        df.loc[df.index.str.contains(item), 'category'] = bread_cat      \n",
    "        df.loc[df.index.str.contains(item), 'C02_per_kilo'] = bread_C02 \n",
    "df.groupby(['category']).size()"
   ]
  },
  {
   "cell_type": "markdown",
   "id": "2a45b12d",
   "metadata": {},
   "source": [
    "## noodles"
   ]
  },
  {
   "cell_type": "code",
   "execution_count": 66,
   "id": "e0868db7",
   "metadata": {},
   "outputs": [
    {
     "data": {
      "text/plain": [
       "category\n",
       "Poultry_meat      12\n",
       "beer              19\n",
       "booze             24\n",
       "broth            243\n",
       "cheese           146\n",
       "chicken           59\n",
       "coconut           26\n",
       "cow              123\n",
       "eggs              34\n",
       "fish              96\n",
       "fruit             11\n",
       "greenspices      240\n",
       "juice             55\n",
       "milk              45\n",
       "noodles          218\n",
       "pig              141\n",
       "rice              79\n",
       "sauces           244\n",
       "sausage           13\n",
       "soft drinks       12\n",
       "spices           489\n",
       "sugar             35\n",
       "turkey            35\n",
       "unknown         1977\n",
       "vegetables       409\n",
       "wine              37\n",
       "dtype: int64"
      ]
     },
     "execution_count": 66,
     "metadata": {},
     "output_type": "execute_result"
    }
   ],
   "source": [
    "noodles_list=[\"noodles\",\"noodle\", \"pasta\",  \"fideos\", \"fedelini\", \"fettuche\", \"macaroni\", \"ramen\"]\n",
    "noodles_cat =\"noodles\"\n",
    "noodles_C02 = 5\n",
    "for item in noodles_list:\n",
    "        df.loc[df.index.str.contains(item), 'category'] = noodles_cat      \n",
    "        df.loc[df.index.str.contains(item), 'C02_per_kilo'] = noodles_C02 \n",
    "df.groupby(['category']).size()"
   ]
  },
  {
   "cell_type": "markdown",
   "id": "9aa7733d",
   "metadata": {},
   "source": [
    "## sugar"
   ]
  },
  {
   "cell_type": "code",
   "execution_count": 22,
   "id": "1d4694cd",
   "metadata": {},
   "outputs": [
    {
     "data": {
      "text/plain": [
       "category\n",
       "beer             20\n",
       "booze            24\n",
       "broth            67\n",
       "chicken         161\n",
       "cow             183\n",
       "eggs             15\n",
       "fish            117\n",
       "greenspices     296\n",
       "noodles         121\n",
       "pig             166\n",
       "sauces          301\n",
       "sausage          14\n",
       "spices          387\n",
       "sugar            37\n",
       "turkey           45\n",
       "unknown        2821\n",
       "wine             47\n",
       "dtype: int64"
      ]
     },
     "execution_count": 22,
     "metadata": {},
     "output_type": "execute_result"
    }
   ],
   "source": [
    "sugar_list=[\"sugar\"]\n",
    "sugar_cat =\"sugar\"\n",
    "sugar_C02 = 3\n",
    "for item in sugar_list:\n",
    "        df.loc[df.index.str.contains(item), 'category'] = sugar_cat      \n",
    "        df.loc[df.index.str.contains(item), 'C02_per_kilo'] = sugar_C02 \n",
    "df.groupby(['category']).size()"
   ]
  },
  {
   "cell_type": "markdown",
   "id": "29ea0b65",
   "metadata": {},
   "source": [
    "## poultry_meat (duck, goose)"
   ]
  },
  {
   "cell_type": "code",
   "execution_count": 23,
   "id": "d5b50ead",
   "metadata": {},
   "outputs": [
    {
     "data": {
      "text/plain": [
       "category\n",
       "Poultry_meat      18\n",
       "beer              20\n",
       "booze             24\n",
       "broth             61\n",
       "chicken          161\n",
       "cow              183\n",
       "eggs              15\n",
       "fish             117\n",
       "greenspices      296\n",
       "noodles          121\n",
       "pig              166\n",
       "sauces           300\n",
       "sausage           14\n",
       "spices           387\n",
       "sugar             37\n",
       "turkey            45\n",
       "unknown         2810\n",
       "wine              47\n",
       "dtype: int64"
      ]
     },
     "execution_count": 23,
     "metadata": {},
     "output_type": "execute_result"
    }
   ],
   "source": [
    "poultry_meat_list=[\"duck\", \"goose\"]\n",
    "poultry_meat_cat =\"Poultry_meat\"\n",
    "poultry_meat_C02 = 5.4\n",
    "for item in poultry_meat_list:\n",
    "        df.loc[df.index.str.contains(item), 'category'] = poultry_meat_cat      \n",
    "        df.loc[df.index.str.contains(item), 'C02_per_kilo'] = poultry_meat_C02 \n",
    "df.groupby(['category']).size()"
   ]
  },
  {
   "cell_type": "markdown",
   "id": "5ee58f5c",
   "metadata": {},
   "source": [
    "## vegetables (MORE!)"
   ]
  },
  {
   "cell_type": "code",
   "execution_count": 63,
   "id": "588ed4f4",
   "metadata": {},
   "outputs": [
    {
     "data": {
      "text/plain": [
       "category\n",
       "Poultry_meat      12\n",
       "beer              19\n",
       "booze             24\n",
       "broth            243\n",
       "cheese           146\n",
       "chicken           59\n",
       "coconut           26\n",
       "cow              125\n",
       "eggs              35\n",
       "fish              96\n",
       "fruit             11\n",
       "greenspices      241\n",
       "juice             55\n",
       "milk              45\n",
       "noodles          159\n",
       "pig              141\n",
       "rice              88\n",
       "sauces           250\n",
       "sausage           13\n",
       "soft drinks       12\n",
       "spices           492\n",
       "sugar             35\n",
       "turkey            35\n",
       "unknown         2012\n",
       "vegetables       411\n",
       "wine              37\n",
       "dtype: int64"
      ]
     },
     "execution_count": 63,
     "metadata": {},
     "output_type": "execute_result"
    }
   ],
   "source": [
    "vegetables_list=[\"carrots\",\"beans\", \"onion\", \"pepper\", \"yucca\",\"yuca\",\"potatoes\", \"garden peas\", \"frisee\", \"fronds\", \"peas\", \"cucumber\", \"eggplant\", \"edamame\", \"edam\", \"flowers\", \"tomatoes\", \"zucchini\",\"tomato\"]\n",
    "vegetables_cat =\"vegetables\"\n",
    "vegetables_C02 = 1.6\n",
    "for item in vegetables_list:\n",
    "        df.loc[df.index.str.contains(item), 'category'] = vegetables_cat      \n",
    "        df.loc[df.index.str.contains(item), 'C02_per_kilo'] = vegetables_C02\n",
    "df.groupby(['category']).size()"
   ]
  },
  {
   "cell_type": "markdown",
   "id": "f49a5609",
   "metadata": {},
   "source": [
    "## fruits "
   ]
  },
  {
   "cell_type": "code",
   "execution_count": 25,
   "id": "398f0aab",
   "metadata": {},
   "outputs": [
    {
     "data": {
      "text/plain": [
       "category\n",
       "Poultry_meat      18\n",
       "beer              20\n",
       "booze             24\n",
       "broth             61\n",
       "chicken          160\n",
       "cow              182\n",
       "eggs              15\n",
       "fish             114\n",
       "fruit             16\n",
       "greenspices      291\n",
       "noodles          120\n",
       "pig              165\n",
       "sauces           289\n",
       "sausage           14\n",
       "spices           382\n",
       "sugar             37\n",
       "turkey            45\n",
       "unknown         2676\n",
       "vegetables       146\n",
       "wine              47\n",
       "dtype: int64"
      ]
     },
     "execution_count": 25,
     "metadata": {},
     "output_type": "execute_result"
    }
   ],
   "source": [
    "fruit_list=[\"fruit\"]\n",
    "fruit_cat =\"fruit\"\n",
    "fruit_C02 = 1.6\n",
    "for item in fruit_list:\n",
    "        df.loc[df.index.str.contains(item), 'category'] = fruit_cat      \n",
    "        df.loc[df.index.str.contains(item), 'C02_per_kilo'] = fruit_C02 \n",
    "df.groupby(['category']).size()"
   ]
  },
  {
   "cell_type": "markdown",
   "id": "14fe90d5",
   "metadata": {},
   "source": [
    "## coconut"
   ]
  },
  {
   "cell_type": "code",
   "execution_count": 34,
   "id": "e7099a9c",
   "metadata": {},
   "outputs": [
    {
     "data": {
      "text/plain": [
       "category\n",
       "Poultry_meat      18\n",
       "beer              20\n",
       "booze             24\n",
       "broth             61\n",
       "cheese           163\n",
       "chicken          160\n",
       "coconut           37\n",
       "cow              181\n",
       "eggs              15\n",
       "fish             114\n",
       "fruit             14\n",
       "greenspices      289\n",
       "juice             56\n",
       "milk              33\n",
       "noodles          120\n",
       "pig              164\n",
       "sauces           283\n",
       "sausage           14\n",
       "soft drinks       12\n",
       "spices           371\n",
       "sugar             36\n",
       "turkey            45\n",
       "unknown         2335\n",
       "vegetables       210\n",
       "wine              47\n",
       "dtype: int64"
      ]
     },
     "execution_count": 34,
     "metadata": {},
     "output_type": "execute_result"
    }
   ],
   "source": [
    "coconut_list=[\"coconut\"]\n",
    "coconut_cat =\"coconut\"\n",
    "coconut_C02 = 1.6\n",
    "for item in coconut_list:\n",
    "        df.loc[df.index.str.contains(item), 'category'] = coconut_cat      \n",
    "        df.loc[df.index.str.contains(item), 'C02_per_kilo'] = coconut_C02 \n",
    "df.groupby(['category']).size()"
   ]
  },
  {
   "cell_type": "markdown",
   "id": "337e4ff9",
   "metadata": {},
   "source": [
    "## soft drinks "
   ]
  },
  {
   "cell_type": "code",
   "execution_count": 26,
   "id": "1f64e524",
   "metadata": {},
   "outputs": [
    {
     "data": {
      "text/plain": [
       "category\n",
       "Poultry_meat      18\n",
       "beer              20\n",
       "booze             24\n",
       "broth             61\n",
       "chicken          160\n",
       "cow              182\n",
       "eggs              15\n",
       "fish             114\n",
       "fruit             16\n",
       "greenspices      291\n",
       "noodles          120\n",
       "pig              165\n",
       "sauces           289\n",
       "sausage           14\n",
       "soft drinks       12\n",
       "spices           382\n",
       "sugar             37\n",
       "turkey            45\n",
       "unknown         2664\n",
       "vegetables       146\n",
       "wine              47\n",
       "dtype: int64"
      ]
     },
     "execution_count": 26,
     "metadata": {},
     "output_type": "execute_result"
    }
   ],
   "source": [
    "soft_drinks_list=[\"coke\", \"cola\", \"club soda\", \"mineral water\", \"carbonated water\"]\n",
    "soft_drinks_cat =\"soft drinks\"\n",
    "soft_drinks_C02 = 1.72\n",
    "for item in soft_drinks_list:\n",
    "        df.loc[df.index.str.contains(item), 'category'] = soft_drinks_cat      \n",
    "        df.loc[df.index.str.contains(item), 'C02_per_kilo'] = soft_drinks_C02 \n",
    "df.groupby(['category']).size()"
   ]
  },
  {
   "cell_type": "code",
   "execution_count": 27,
   "id": "c9ee395c",
   "metadata": {},
   "outputs": [
    {
     "data": {
      "text/html": [
       "<div>\n",
       "<style scoped>\n",
       "    .dataframe tbody tr th:only-of-type {\n",
       "        vertical-align: middle;\n",
       "    }\n",
       "\n",
       "    .dataframe tbody tr th {\n",
       "        vertical-align: top;\n",
       "    }\n",
       "\n",
       "    .dataframe thead th {\n",
       "        text-align: right;\n",
       "    }\n",
       "</style>\n",
       "<table border=\"1\" class=\"dataframe\">\n",
       "  <thead>\n",
       "    <tr style=\"text-align: right;\">\n",
       "      <th></th>\n",
       "      <th>category</th>\n",
       "      <th>C02_per_kilo</th>\n",
       "    </tr>\n",
       "    <tr>\n",
       "      <th>ingredients</th>\n",
       "      <th></th>\n",
       "      <th></th>\n",
       "    </tr>\n",
       "  </thead>\n",
       "  <tbody>\n",
       "    <tr>\n",
       "      <th>bittersweet chocolate</th>\n",
       "      <td>soft drinks</td>\n",
       "      <td>1.72</td>\n",
       "    </tr>\n",
       "    <tr>\n",
       "      <th>bittersweet chocolate chips</th>\n",
       "      <td>soft drinks</td>\n",
       "      <td>1.72</td>\n",
       "    </tr>\n",
       "    <tr>\n",
       "      <th>carbonated water</th>\n",
       "      <td>soft drinks</td>\n",
       "      <td>1.72</td>\n",
       "    </tr>\n",
       "    <tr>\n",
       "      <th>cherry coke</th>\n",
       "      <td>soft drinks</td>\n",
       "      <td>1.72</td>\n",
       "    </tr>\n",
       "    <tr>\n",
       "      <th>club soda</th>\n",
       "      <td>soft drinks</td>\n",
       "      <td>1.72</td>\n",
       "    </tr>\n",
       "    <tr>\n",
       "      <th>cocacola</th>\n",
       "      <td>soft drinks</td>\n",
       "      <td>1.72</td>\n",
       "    </tr>\n",
       "    <tr>\n",
       "      <th>coke</th>\n",
       "      <td>soft drinks</td>\n",
       "      <td>1.72</td>\n",
       "    </tr>\n",
       "    <tr>\n",
       "      <th>cola</th>\n",
       "      <td>soft drinks</td>\n",
       "      <td>1.72</td>\n",
       "    </tr>\n",
       "    <tr>\n",
       "      <th>dark chocolate</th>\n",
       "      <td>soft drinks</td>\n",
       "      <td>1.72</td>\n",
       "    </tr>\n",
       "    <tr>\n",
       "      <th>mineral water</th>\n",
       "      <td>soft drinks</td>\n",
       "      <td>1.72</td>\n",
       "    </tr>\n",
       "    <tr>\n",
       "      <th>rucola</th>\n",
       "      <td>soft drinks</td>\n",
       "      <td>1.72</td>\n",
       "    </tr>\n",
       "    <tr>\n",
       "      <th>semisweet chocolate</th>\n",
       "      <td>soft drinks</td>\n",
       "      <td>1.72</td>\n",
       "    </tr>\n",
       "  </tbody>\n",
       "</table>\n",
       "</div>"
      ],
      "text/plain": [
       "                                category  C02_per_kilo\n",
       "ingredients                                           \n",
       "bittersweet chocolate        soft drinks          1.72\n",
       "bittersweet chocolate chips  soft drinks          1.72\n",
       "carbonated water             soft drinks          1.72\n",
       "cherry coke                  soft drinks          1.72\n",
       "club soda                    soft drinks          1.72\n",
       "cocacola                     soft drinks          1.72\n",
       "coke                         soft drinks          1.72\n",
       "cola                         soft drinks          1.72\n",
       "dark chocolate               soft drinks          1.72\n",
       "mineral water                soft drinks          1.72\n",
       "rucola                       soft drinks          1.72\n",
       "semisweet chocolate          soft drinks          1.72"
      ]
     },
     "execution_count": 27,
     "metadata": {},
     "output_type": "execute_result"
    }
   ],
   "source": [
    "df[df[\"category\"] == \"soft drinks\"]"
   ]
  },
  {
   "cell_type": "markdown",
   "id": "07153a5c",
   "metadata": {},
   "source": [
    "## juice "
   ]
  },
  {
   "cell_type": "code",
   "execution_count": 28,
   "id": "1effd520",
   "metadata": {},
   "outputs": [
    {
     "data": {
      "text/plain": [
       "category\n",
       "Poultry_meat      18\n",
       "beer              20\n",
       "booze             24\n",
       "broth             61\n",
       "chicken          160\n",
       "cow              182\n",
       "eggs              15\n",
       "fish             114\n",
       "fruit             14\n",
       "greenspices      290\n",
       "juice             60\n",
       "noodles          120\n",
       "pig              165\n",
       "sauces           288\n",
       "sausage           14\n",
       "soft drinks       12\n",
       "spices           382\n",
       "sugar             37\n",
       "turkey            45\n",
       "unknown         2611\n",
       "vegetables       143\n",
       "wine              47\n",
       "dtype: int64"
      ]
     },
     "execution_count": 28,
     "metadata": {},
     "output_type": "execute_result"
    }
   ],
   "source": [
    "juice_list=[\"juice\", \"zitronensaft\", \"cocktail\"]\n",
    "juice_cat =\"juice\"\n",
    "juice_C02 = 1.72\n",
    "for item in juice_list:\n",
    "        df.loc[df.index.str.contains(item), 'category'] = juice_cat      \n",
    "        df.loc[df.index.str.contains(item), 'C02_per_kilo'] = juice_C02 \n",
    "df.groupby(['category']).size()"
   ]
  },
  {
   "cell_type": "markdown",
   "id": "5293e3c0",
   "metadata": {},
   "source": [
    "## milk "
   ]
  },
  {
   "cell_type": "code",
   "execution_count": 55,
   "id": "6233df54",
   "metadata": {},
   "outputs": [
    {
     "data": {
      "text/plain": [
       "category\n",
       "Poultry_meat      12\n",
       "beer              20\n",
       "booze             24\n",
       "broth            269\n",
       "cheese           153\n",
       "chicken           67\n",
       "coconut           26\n",
       "cow              133\n",
       "eggs              35\n",
       "fish             104\n",
       "fruit             14\n",
       "greenspices      285\n",
       "juice             56\n",
       "milk              49\n",
       "noodles          167\n",
       "pig              147\n",
       "rice              97\n",
       "sauces           276\n",
       "sausage           14\n",
       "soft drinks       12\n",
       "spices           352\n",
       "sugar             36\n",
       "turkey            36\n",
       "unknown         2140\n",
       "vegetables       255\n",
       "wine              43\n",
       "dtype: int64"
      ]
     },
     "execution_count": 55,
     "metadata": {},
     "output_type": "execute_result"
    }
   ],
   "source": [
    "#half and half\n",
    "milk_list=[\"milk\", \"yogurt\"]\n",
    "milk_cat =\"milk\"\n",
    "milk_C02 = 1.72\n",
    "for item in milk_list:\n",
    "        df.loc[df.index.str.contains(item), 'category'] = milk_cat      \n",
    "        df.loc[df.index.str.contains(item), 'C02_per_kilo'] = milk_C02 \n",
    "df.groupby(['category']).size()"
   ]
  },
  {
   "cell_type": "markdown",
   "id": "09d6085c",
   "metadata": {},
   "source": [
    "## cheese "
   ]
  },
  {
   "cell_type": "code",
   "execution_count": 67,
   "id": "73172514",
   "metadata": {},
   "outputs": [
    {
     "data": {
      "text/plain": [
       "category\n",
       "Poultry_meat      12\n",
       "beer              19\n",
       "booze             24\n",
       "broth            240\n",
       "cheese           168\n",
       "chicken           59\n",
       "coconut           26\n",
       "cow              123\n",
       "eggs              32\n",
       "fish              96\n",
       "fruit             11\n",
       "greenspices      240\n",
       "juice             55\n",
       "milk              41\n",
       "noodles          216\n",
       "pig              141\n",
       "rice              79\n",
       "sauces           243\n",
       "sausage           13\n",
       "soft drinks       12\n",
       "spices           485\n",
       "sugar             35\n",
       "turkey            35\n",
       "unknown         1975\n",
       "vegetables       405\n",
       "wine              37\n",
       "dtype: int64"
      ]
     },
     "execution_count": 67,
     "metadata": {},
     "output_type": "execute_result"
    }
   ],
   "source": [
    "cheese_list=[\"cheese\", \"cheddar\", \"chedar\"]\n",
    "cheese_cat =\"cheese\"\n",
    "cheese_C02 = 1.72\n",
    "for item in cheese_list:\n",
    "        df.loc[df.index.str.contains(item), 'category'] = cheese_cat      \n",
    "        df.loc[df.index.str.contains(item), 'C02_per_kilo'] = cheese_C02 \n",
    "df.groupby(['category']).size()"
   ]
  },
  {
   "cell_type": "markdown",
   "id": "2e582d54",
   "metadata": {},
   "source": [
    "## rice "
   ]
  },
  {
   "cell_type": "code",
   "execution_count": 47,
   "id": "076b0ba0",
   "metadata": {},
   "outputs": [
    {
     "data": {
      "text/plain": [
       "category\n",
       "Poultry_meat      12\n",
       "beer              20\n",
       "booze             24\n",
       "broth            273\n",
       "cheese           157\n",
       "chicken           67\n",
       "coconut           37\n",
       "cow              133\n",
       "eggs              44\n",
       "fish             104\n",
       "fruit             14\n",
       "greenspices      285\n",
       "juice             56\n",
       "milk              32\n",
       "noodles          169\n",
       "pig              147\n",
       "rice              98\n",
       "sauces           276\n",
       "sausage           14\n",
       "soft drinks       12\n",
       "spices           355\n",
       "sugar             36\n",
       "turkey            36\n",
       "unknown         2172\n",
       "vegetables       206\n",
       "wine              43\n",
       "dtype: int64"
      ]
     },
     "execution_count": 47,
     "metadata": {},
     "output_type": "execute_result"
    }
   ],
   "source": [
    "rice_list=[\"rice\"]\n",
    "rice_cat =\"rice\"\n",
    "rice_C02 = 1.72\n",
    "for item in rice_list:\n",
    "        df.loc[df.index.str.contains(item), 'category'] = rice_cat      \n",
    "        df.loc[df.index.str.contains(item), 'C02_per_kilo'] = rice_C02 \n",
    "df.groupby(['category']).size()"
   ]
  },
  {
   "cell_type": "markdown",
   "id": "d53646d1",
   "metadata": {},
   "source": [
    "## mayonnaise, cream, mzarella\t"
   ]
  },
  {
   "cell_type": "code",
   "execution_count": 78,
   "id": "cff6331e",
   "metadata": {},
   "outputs": [
    {
     "data": {
      "text/plain": [
       "category\n",
       "Poultry_meat      12\n",
       "beer              19\n",
       "booze             24\n",
       "broth            224\n",
       "cheese           149\n",
       "chicken           59\n",
       "coconut           25\n",
       "cow              123\n",
       "eggs              32\n",
       "fish              96\n",
       "fruit             11\n",
       "greenspices      238\n",
       "juice             54\n",
       "mayonnaise       109\n",
       "milk              39\n",
       "noodles          215\n",
       "pig              141\n",
       "rice              79\n",
       "sauces           240\n",
       "sausage           13\n",
       "soft drinks       12\n",
       "spices           479\n",
       "sugar             35\n",
       "turkey            35\n",
       "unknown         1917\n",
       "vegetables       405\n",
       "wine              37\n",
       "dtype: int64"
      ]
     },
     "execution_count": 78,
     "metadata": {},
     "output_type": "execute_result"
    }
   ],
   "source": [
    "mayonnaise_list=[\"mayonnaise\", \"cream\", \"mzarella\", \"mayonnais\"]\n",
    "mayonnaise_cat =\"mayonnaise\"\n",
    "mayonnaise_C02 = 1.72\n",
    "for item in mayonnaise_list:\n",
    "        df.loc[df.index.str.contains(item), 'category'] = mayonnaise_cat      \n",
    "        df.loc[df.index.str.contains(item), 'C02_per_kilo'] = mayonnaise_C02 \n",
    "df.groupby(['category']).size()"
   ]
  },
  {
   "cell_type": "code",
   "execution_count": 80,
   "id": "53992d95",
   "metadata": {},
   "outputs": [
    {
     "data": {
      "text/html": [
       "<div>\n",
       "<style scoped>\n",
       "    .dataframe tbody tr th:only-of-type {\n",
       "        vertical-align: middle;\n",
       "    }\n",
       "\n",
       "    .dataframe tbody tr th {\n",
       "        vertical-align: top;\n",
       "    }\n",
       "\n",
       "    .dataframe thead th {\n",
       "        text-align: right;\n",
       "    }\n",
       "</style>\n",
       "<table border=\"1\" class=\"dataframe\">\n",
       "  <thead>\n",
       "    <tr style=\"text-align: right;\">\n",
       "      <th></th>\n",
       "      <th>category</th>\n",
       "      <th>C02_per_kilo</th>\n",
       "    </tr>\n",
       "    <tr>\n",
       "      <th>ingredients</th>\n",
       "      <th></th>\n",
       "      <th></th>\n",
       "    </tr>\n",
       "  </thead>\n",
       "  <tbody>\n",
       "    <tr>\n",
       "      <th>yeast extract</th>\n",
       "      <td>unknown</td>\n",
       "      <td>0.0</td>\n",
       "    </tr>\n",
       "    <tr>\n",
       "      <th>yellow corn</th>\n",
       "      <td>unknown</td>\n",
       "      <td>0.0</td>\n",
       "    </tr>\n",
       "    <tr>\n",
       "      <th>yellow cornmeal</th>\n",
       "      <td>unknown</td>\n",
       "      <td>0.0</td>\n",
       "    </tr>\n",
       "    <tr>\n",
       "      <th>yellow lentils</th>\n",
       "      <td>unknown</td>\n",
       "      <td>0.0</td>\n",
       "    </tr>\n",
       "    <tr>\n",
       "      <th>yellow squash</th>\n",
       "      <td>unknown</td>\n",
       "      <td>0.0</td>\n",
       "    </tr>\n",
       "    <tr>\n",
       "      <th>yellow summer squash</th>\n",
       "      <td>unknown</td>\n",
       "      <td>0.0</td>\n",
       "    </tr>\n",
       "    <tr>\n",
       "      <th>yellowtail</th>\n",
       "      <td>unknown</td>\n",
       "      <td>0.0</td>\n",
       "    </tr>\n",
       "    <tr>\n",
       "      <th>yolk</th>\n",
       "      <td>unknown</td>\n",
       "      <td>0.0</td>\n",
       "    </tr>\n",
       "    <tr>\n",
       "      <th>yoplait</th>\n",
       "      <td>unknown</td>\n",
       "      <td>0.0</td>\n",
       "    </tr>\n",
       "    <tr>\n",
       "      <th>yukon gold</th>\n",
       "      <td>unknown</td>\n",
       "      <td>0.0</td>\n",
       "    </tr>\n",
       "    <tr>\n",
       "      <th>yuzu</th>\n",
       "      <td>unknown</td>\n",
       "      <td>0.0</td>\n",
       "    </tr>\n",
       "    <tr>\n",
       "      <th>yuzukosho</th>\n",
       "      <td>unknown</td>\n",
       "      <td>0.0</td>\n",
       "    </tr>\n",
       "    <tr>\n",
       "      <th>zaatar</th>\n",
       "      <td>unknown</td>\n",
       "      <td>0.0</td>\n",
       "    </tr>\n",
       "    <tr>\n",
       "      <th>zest</th>\n",
       "      <td>unknown</td>\n",
       "      <td>0.0</td>\n",
       "    </tr>\n",
       "    <tr>\n",
       "      <th>ziti</th>\n",
       "      <td>unknown</td>\n",
       "      <td>0.0</td>\n",
       "    </tr>\n",
       "  </tbody>\n",
       "</table>\n",
       "</div>"
      ],
      "text/plain": [
       "                     category  C02_per_kilo\n",
       "ingredients                                \n",
       "yeast extract         unknown           0.0\n",
       "yellow corn           unknown           0.0\n",
       "yellow cornmeal       unknown           0.0\n",
       "yellow lentils        unknown           0.0\n",
       "yellow squash         unknown           0.0\n",
       "yellow summer squash  unknown           0.0\n",
       "yellowtail            unknown           0.0\n",
       "yolk                  unknown           0.0\n",
       "yoplait               unknown           0.0\n",
       "yukon gold            unknown           0.0\n",
       "yuzu                  unknown           0.0\n",
       "yuzukosho             unknown           0.0\n",
       "zaatar                unknown           0.0\n",
       "zest                  unknown           0.0\n",
       "ziti                  unknown           0.0"
      ]
     },
     "execution_count": 80,
     "metadata": {},
     "output_type": "execute_result"
    }
   ],
   "source": [
    "df[df[\"category\"] == \"unknown\"].tail(15)"
   ]
  },
  {
   "cell_type": "markdown",
   "id": "aaa1b741",
   "metadata": {},
   "source": [
    "# HARD INPUT (ALWAYS LAST!)"
   ]
  },
  {
   "cell_type": "code",
   "execution_count": null,
   "id": "28d9da43",
   "metadata": {},
   "outputs": [],
   "source": []
  },
  {
   "cell_type": "code",
   "execution_count": null,
   "id": "31194e6a",
   "metadata": {},
   "outputs": [],
   "source": []
  }
 ],
 "metadata": {
  "kernelspec": {
   "display_name": "Python 3 (ipykernel)",
   "language": "python",
   "name": "python3"
  },
  "language_info": {
   "codemirror_mode": {
    "name": "ipython",
    "version": 3
   },
   "file_extension": ".py",
   "mimetype": "text/x-python",
   "name": "python",
   "nbconvert_exporter": "python",
   "pygments_lexer": "ipython3",
   "version": "3.8.6"
  },
  "toc": {
   "base_numbering": 1,
   "nav_menu": {},
   "number_sections": true,
   "sideBar": true,
   "skip_h1_title": false,
   "title_cell": "Table of Contents",
   "title_sidebar": "Contents",
   "toc_cell": false,
   "toc_position": {},
   "toc_section_display": true,
   "toc_window_display": false
  }
 },
 "nbformat": 4,
 "nbformat_minor": 5
}
