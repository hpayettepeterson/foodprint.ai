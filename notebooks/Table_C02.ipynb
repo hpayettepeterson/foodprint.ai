{
 "cells": [
  {
   "cell_type": "code",
   "execution_count": 1,
   "id": "ab20a763",
   "metadata": {},
   "outputs": [],
   "source": [
    "import matplotlib\n",
    "%matplotlib inline\n",
    "import numpy as np\n",
    "import pandas as pd"
   ]
  },
  {
   "cell_type": "markdown",
   "id": "097b338c",
   "metadata": {},
   "source": [
    "# Notes\n",
    "- don't forget to use the C02 for direct ones\n",
    "- almost all values missing \n",
    "- hard replacement at the end!"
   ]
  },
  {
   "cell_type": "code",
   "execution_count": 2,
   "id": "cc084077",
   "metadata": {},
   "outputs": [],
   "source": [
    "df = pd.read_csv('../raw_data/ingredients.csv')"
   ]
  },
  {
   "cell_type": "code",
   "execution_count": 3,
   "id": "cc09d907",
   "metadata": {},
   "outputs": [],
   "source": [
    "df['category'] = \"unknown\"\n",
    "df['C02_per_kilo'] = 0.404\n",
    "df.set_index('ingredients',inplace=True)"
   ]
  },
  {
   "cell_type": "code",
   "execution_count": 4,
   "id": "03594690",
   "metadata": {},
   "outputs": [
    {
     "data": {
      "text/html": [
       "<div>\n",
       "<style scoped>\n",
       "    .dataframe tbody tr th:only-of-type {\n",
       "        vertical-align: middle;\n",
       "    }\n",
       "\n",
       "    .dataframe tbody tr th {\n",
       "        vertical-align: top;\n",
       "    }\n",
       "\n",
       "    .dataframe thead th {\n",
       "        text-align: right;\n",
       "    }\n",
       "</style>\n",
       "<table border=\"1\" class=\"dataframe\">\n",
       "  <thead>\n",
       "    <tr style=\"text-align: right;\">\n",
       "      <th></th>\n",
       "      <th>category</th>\n",
       "      <th>C02_per_kilo</th>\n",
       "    </tr>\n",
       "    <tr>\n",
       "      <th>ingredients</th>\n",
       "      <th></th>\n",
       "      <th></th>\n",
       "    </tr>\n",
       "  </thead>\n",
       "  <tbody>\n",
       "    <tr>\n",
       "      <th>tomato sauce</th>\n",
       "      <td>unknown</td>\n",
       "      <td>0.404</td>\n",
       "    </tr>\n",
       "    <tr>\n",
       "      <th>tomato paste</th>\n",
       "      <td>unknown</td>\n",
       "      <td>0.404</td>\n",
       "    </tr>\n",
       "    <tr>\n",
       "      <th>american cheese</th>\n",
       "      <td>unknown</td>\n",
       "      <td>0.404</td>\n",
       "    </tr>\n",
       "    <tr>\n",
       "      <th>beef broth</th>\n",
       "      <td>unknown</td>\n",
       "      <td>0.404</td>\n",
       "    </tr>\n",
       "    <tr>\n",
       "      <th>chicken broth</th>\n",
       "      <td>unknown</td>\n",
       "      <td>0.404</td>\n",
       "    </tr>\n",
       "    <tr>\n",
       "      <th>...</th>\n",
       "      <td>...</td>\n",
       "      <td>...</td>\n",
       "    </tr>\n",
       "    <tr>\n",
       "      <th>ziti</th>\n",
       "      <td>unknown</td>\n",
       "      <td>0.404</td>\n",
       "    </tr>\n",
       "    <tr>\n",
       "      <th>zitronensaft</th>\n",
       "      <td>unknown</td>\n",
       "      <td>0.404</td>\n",
       "    </tr>\n",
       "    <tr>\n",
       "      <th>zucchini</th>\n",
       "      <td>unknown</td>\n",
       "      <td>0.404</td>\n",
       "    </tr>\n",
       "    <tr>\n",
       "      <th>zucchini blossoms</th>\n",
       "      <td>unknown</td>\n",
       "      <td>0.404</td>\n",
       "    </tr>\n",
       "    <tr>\n",
       "      <th>zucchini noodles</th>\n",
       "      <td>unknown</td>\n",
       "      <td>0.404</td>\n",
       "    </tr>\n",
       "  </tbody>\n",
       "</table>\n",
       "<p>4822 rows × 2 columns</p>\n",
       "</div>"
      ],
      "text/plain": [
       "                  category  C02_per_kilo\n",
       "ingredients                             \n",
       "tomato sauce       unknown         0.404\n",
       "tomato paste       unknown         0.404\n",
       "american cheese    unknown         0.404\n",
       "beef broth         unknown         0.404\n",
       "chicken broth      unknown         0.404\n",
       "...                    ...           ...\n",
       "ziti               unknown         0.404\n",
       "zitronensaft       unknown         0.404\n",
       "zucchini           unknown         0.404\n",
       "zucchini blossoms  unknown         0.404\n",
       "zucchini noodles   unknown         0.404\n",
       "\n",
       "[4822 rows x 2 columns]"
      ]
     },
     "execution_count": 4,
     "metadata": {},
     "output_type": "execute_result"
    }
   ],
   "source": [
    "df"
   ]
  },
  {
   "cell_type": "markdown",
   "id": "97ae4fd3",
   "metadata": {},
   "source": [
    "df.loc[(df.index == 'ziti'),'category']='alcohol'\n",
    "df.loc[(df.index == 'ziti'),'C02_per_kilo']='2.1'"
   ]
  },
  {
   "cell_type": "markdown",
   "id": "f2f1e287",
   "metadata": {},
   "source": [
    "# CODE BLUEPRINT"
   ]
  },
  {
   "cell_type": "markdown",
   "id": "d30ba2c8",
   "metadata": {},
   "source": [
    "df.loc[(df.index == 'ziti'),'category']='alcohol'\n",
    "df.loc[(df.index == 'ziti'),'C02_per_kilo']='2.1'\n",
    "\n",
    "df.loc[df.index.str.contains('beef'), 'category'] = 'beef'\n",
    "df.loc[df.index.str.contains('beef'), 'C02_per_kilo'] = '0.2'\n",
    "\n",
    "for spice in testlistspices:\n",
    "    df.loc[df.index.str.contains(spice), 'category'] = 'spices'\n",
    "    df.loc[df.index.str.contains(spice), 'C02_per_kilo'] = '0.3'"
   ]
  },
  {
   "cell_type": "code",
   "execution_count": 5,
   "id": "62e2bdb2",
   "metadata": {},
   "outputs": [],
   "source": [
    "other_cat = \"other\"\n",
    "otherdrinks_cat= \"other_drinks\""
   ]
  },
  {
   "cell_type": "markdown",
   "id": "940cc8e3",
   "metadata": {},
   "source": [
    "# Spreaders - Data Input"
   ]
  },
  {
   "cell_type": "markdown",
   "id": "42a867e4",
   "metadata": {},
   "source": [
    "## Animals "
   ]
  },
  {
   "cell_type": "markdown",
   "id": "a9979037",
   "metadata": {},
   "source": [
    "### fats "
   ]
  },
  {
   "cell_type": "code",
   "execution_count": 6,
   "id": "d9294997",
   "metadata": {},
   "outputs": [
    {
     "data": {
      "text/plain": [
       "category\n",
       "fats          2\n",
       "unknown    4820\n",
       "dtype: int64"
      ]
     },
     "execution_count": 6,
     "metadata": {},
     "output_type": "execute_result"
    }
   ],
   "source": [
    "fats_list=[\"fats\", \"offals\"]\n",
    "fats_cat =\"fats\"\n",
    "fats_C02 = 40\n",
    "for item in fats_list:\n",
    "        df.loc[df.index.str.contains(item), 'category'] = fats_cat\n",
    "        df.loc[df.index.str.contains(item), 'C02_per_kilo'] = fats_C02 \n",
    "df.groupby(['category']).size()"
   ]
  },
  {
   "cell_type": "markdown",
   "id": "80fd918e",
   "metadata": {},
   "source": [
    "### lamb"
   ]
  },
  {
   "cell_type": "code",
   "execution_count": 7,
   "id": "4bb7e263",
   "metadata": {},
   "outputs": [
    {
     "data": {
      "text/plain": [
       "category\n",
       "fats          2\n",
       "lamb         43\n",
       "unknown    4777\n",
       "dtype: int64"
      ]
     },
     "execution_count": 7,
     "metadata": {},
     "output_type": "execute_result"
    }
   ],
   "source": [
    "lamb_list=[\"lamb\", \"mutton\", \"goat\"]\n",
    "lamb_cat =\"lamb\"\n",
    "lamb_C02 = 39.2 # conflict 64\n",
    "for item in lamb_list:\n",
    "        df.loc[df.index.str.contains(item), 'category'] = lamb_cat\n",
    "        df.loc[df.index.str.contains(item), 'C02_per_kilo'] = lamb_C02 \n",
    "df.groupby(['category']).size()"
   ]
  },
  {
   "cell_type": "code",
   "execution_count": null,
   "id": "d0b23fff",
   "metadata": {},
   "outputs": [],
   "source": []
  },
  {
   "cell_type": "markdown",
   "id": "82e8f95f",
   "metadata": {},
   "source": [
    "### pig "
   ]
  },
  {
   "cell_type": "code",
   "execution_count": 8,
   "id": "9a720cf9",
   "metadata": {},
   "outputs": [
    {
     "data": {
      "text/plain": [
       "category\n",
       "fats          2\n",
       "lamb         43\n",
       "pig         126\n",
       "unknown    4651\n",
       "dtype: int64"
      ]
     },
     "execution_count": 8,
     "metadata": {},
     "output_type": "execute_result"
    }
   ],
   "source": [
    "pig_list=[\"pig\", \"bacon\", \"pepperoni\",\"pork\", \"speck\", \"liverwurst\", \"liver pate\", \"schweinefleisch\", \"schinken\", \"pork\", \"salami\"]\n",
    "pig_cat =\"pig\"\n",
    "pig_C02 = 12.1\n",
    "for item in pig_list:\n",
    "        df.loc[df.index.str.contains(item), 'category'] = pig_cat\n",
    "        df.loc[df.index.str.contains(item), 'C02_per_kilo'] = pig_C02 \n",
    "df.groupby(['category']).size()"
   ]
  },
  {
   "cell_type": "markdown",
   "id": "2f1074da",
   "metadata": {},
   "source": [
    "### Sausage"
   ]
  },
  {
   "cell_type": "code",
   "execution_count": 9,
   "id": "24edffad",
   "metadata": {},
   "outputs": [
    {
     "data": {
      "text/plain": [
       "category\n",
       "fats          2\n",
       "lamb         43\n",
       "pig         125\n",
       "sausage      70\n",
       "unknown    4582\n",
       "dtype: int64"
      ]
     },
     "execution_count": 9,
     "metadata": {},
     "output_type": "execute_result"
    }
   ],
   "source": [
    "sausage_list=[\"frankfurters\", \"weisswurst\", \"ham\", \"bauernwurst\", \"bockwurst\", \"chorizo\", \"bratwurst\"]\n",
    "sausage_cat =\"sausage\"\n",
    "sausage_C02 = 9.54\n",
    "for item in sausage_list:\n",
    "        df.loc[df.index.str.contains(item), 'category'] = sausage_cat\n",
    "        df.loc[df.index.str.contains(item), 'C02_per_kilo'] = sausage_C02 \n",
    "df.groupby(['category']).size()"
   ]
  },
  {
   "cell_type": "markdown",
   "id": "0a48ba53",
   "metadata": {},
   "source": [
    "### cow"
   ]
  },
  {
   "cell_type": "code",
   "execution_count": 10,
   "id": "ee4e7f4a",
   "metadata": {},
   "outputs": [
    {
     "data": {
      "text/plain": [
       "category\n",
       "cow         185\n",
       "fats          2\n",
       "lamb         41\n",
       "pig         123\n",
       "sausage      69\n",
       "unknown    4402\n",
       "dtype: int64"
      ]
     },
     "execution_count": 10,
     "metadata": {},
     "output_type": "execute_result"
    }
   ],
   "source": [
    "cow_list=[\"cow\", \"beef\", \"steak\", \"steak tips\", \"tri tip\", \"rindfleisch\", \"rindergehacktes\", \"veal\", \"Schnitzel\", \"chuck roast\", \"eye steak\"]\n",
    "cow_cat =\"cow\"\n",
    "cow_C02 = 45 #conflict 68\n",
    "for item in cow_list:\n",
    "        df.loc[df.index.str.contains(item), 'category'] = cow_cat\n",
    "        df.loc[df.index.str.contains(item), 'C02_per_kilo'] = cow_C02 \n",
    "df.groupby(['category']).size()"
   ]
  },
  {
   "cell_type": "markdown",
   "id": "6cfd4b57",
   "metadata": {},
   "source": [
    "### chicken"
   ]
  },
  {
   "cell_type": "code",
   "execution_count": 11,
   "id": "29687d2d",
   "metadata": {},
   "outputs": [
    {
     "data": {
      "text/plain": [
       "category\n",
       "chicken     161\n",
       "cow         185\n",
       "fats          2\n",
       "lamb         41\n",
       "pig         123\n",
       "sausage      69\n",
       "unknown    4241\n",
       "dtype: int64"
      ]
     },
     "execution_count": 11,
     "metadata": {},
     "output_type": "execute_result"
    }
   ],
   "source": [
    "chicken_list=[\"chicken\"]\n",
    "chicken_cat =\"chicken\"\n",
    "chicken_C02 = 6.9\n",
    "for item in chicken_list:\n",
    "        df.loc[df.index.str.contains(item), 'category'] = chicken_cat\n",
    "        df.loc[df.index.str.contains(item), 'C02_per_kilo'] = chicken_C02 \n",
    "df.groupby(['category']).size()"
   ]
  },
  {
   "cell_type": "markdown",
   "id": "c564360e",
   "metadata": {},
   "source": [
    "### turkey"
   ]
  },
  {
   "cell_type": "code",
   "execution_count": 12,
   "id": "83f872dd",
   "metadata": {},
   "outputs": [
    {
     "data": {
      "text/plain": [
       "category\n",
       "chicken     161\n",
       "cow         185\n",
       "fats          2\n",
       "lamb         41\n",
       "pig         122\n",
       "sausage      68\n",
       "turkey       45\n",
       "unknown    4198\n",
       "dtype: int64"
      ]
     },
     "execution_count": 12,
     "metadata": {},
     "output_type": "execute_result"
    }
   ],
   "source": [
    "turkey_list=[\"turkey\"]\n",
    "turkey_cat =\"turkey\"\n",
    "turkey_C02 = 10.9 # conflict 5.4\n",
    "for item in turkey_list:\n",
    "        df.loc[df.index.str.contains(item), 'category'] = turkey_cat\n",
    "        df.loc[df.index.str.contains(item), 'C02_per_kilo'] = turkey_C02 \n",
    "df.groupby(['category']).size()"
   ]
  },
  {
   "cell_type": "markdown",
   "id": "d1a8e435",
   "metadata": {},
   "source": [
    "### fish (SPLIT THIS!) (includes other sea animals)"
   ]
  },
  {
   "cell_type": "code",
   "execution_count": 13,
   "id": "4045e8cc",
   "metadata": {},
   "outputs": [
    {
     "data": {
      "text/plain": [
       "category\n",
       "chicken     161\n",
       "cow         180\n",
       "fats          2\n",
       "fish        136\n",
       "lamb         41\n",
       "pig         122\n",
       "sausage      68\n",
       "turkey       45\n",
       "unknown    4067\n",
       "dtype: int64"
      ]
     },
     "execution_count": 13,
     "metadata": {},
     "output_type": "execute_result"
    }
   ],
   "source": [
    "fish_list=[\"pelagic\", \"marine\", \"freshwater\",\"Crustaceans\", \"shrimp\", \"prawn\", \"scampi\", \"lobster\",\n",
    "           \"crab\", \"fish\", \"eel\", \"rockfish\", \"dogfish\",\"mahimahi\", \n",
    "           \"whiting\",\"bass\", \"cod\", \"english sole\", \"codfish\", \"catfish\", \"tuna\", \"snapper\"]\n",
    "fish_cat =\"fish\"\n",
    "fish_C02 = 5.4\n",
    "for item in fish_list:\n",
    "        df.loc[df.index.str.contains(item), 'category'] = fish_cat\n",
    "        df.loc[df.index.str.contains(item), 'C02_per_kilo'] = fish_C02 \n",
    "df.groupby(['category']).size()"
   ]
  },
  {
   "cell_type": "markdown",
   "id": "cc1cb21a",
   "metadata": {},
   "source": [
    "### poultry_meat (duck, goose)"
   ]
  },
  {
   "cell_type": "code",
   "execution_count": 14,
   "id": "848985b3",
   "metadata": {},
   "outputs": [
    {
     "data": {
      "text/plain": [
       "category\n",
       "Poultry_meat      18\n",
       "chicken          161\n",
       "cow              180\n",
       "fats               2\n",
       "fish             136\n",
       "lamb              41\n",
       "pig              122\n",
       "sausage           68\n",
       "turkey            45\n",
       "unknown         4049\n",
       "dtype: int64"
      ]
     },
     "execution_count": 14,
     "metadata": {},
     "output_type": "execute_result"
    }
   ],
   "source": [
    "poultry_meat_list=[\"duck\", \"goose\"]\n",
    "poultry_meat_cat =\"Poultry_meat\"\n",
    "poultry_meat_C02 = 5.4\n",
    "for item in poultry_meat_list:\n",
    "        df.loc[df.index.str.contains(item), 'category'] = poultry_meat_cat      \n",
    "        df.loc[df.index.str.contains(item), 'C02_per_kilo'] = poultry_meat_C02 \n",
    "df.groupby(['category']).size()"
   ]
  },
  {
   "cell_type": "markdown",
   "id": "5e4c82f0",
   "metadata": {},
   "source": [
    "### other animals (wild etc.)"
   ]
  },
  {
   "cell_type": "code",
   "execution_count": 15,
   "id": "ebad724a",
   "metadata": {},
   "outputs": [
    {
     "data": {
      "text/plain": [
       "category\n",
       "Poultry_meat       18\n",
       "chicken           161\n",
       "cow               180\n",
       "fats                2\n",
       "fish              136\n",
       "lamb               41\n",
       "other_animals       3\n",
       "pig               122\n",
       "sausage            68\n",
       "turkey             45\n",
       "unknown          4046\n",
       "dtype: int64"
      ]
     },
     "execution_count": 15,
     "metadata": {},
     "output_type": "execute_result"
    }
   ],
   "source": [
    "other_animals_list=[\"rehfleisch\", \"reindeer\", \"boar\"]\n",
    "other_animals_cat =\"other_animals\"\n",
    "other_animals_C02 = 5.4\n",
    "for item in other_animals_list:\n",
    "        df.loc[df.index.str.contains(item), 'category'] = other_animals_cat      \n",
    "        df.loc[df.index.str.contains(item), 'C02_per_kilo'] = other_animals_C02 \n",
    "df.groupby(['category']).size()"
   ]
  },
  {
   "cell_type": "markdown",
   "id": "73c9e1a5",
   "metadata": {},
   "source": [
    "## Animal Products (vegetarian)"
   ]
  },
  {
   "cell_type": "markdown",
   "id": "afa237cd",
   "metadata": {},
   "source": [
    "### eggs "
   ]
  },
  {
   "cell_type": "code",
   "execution_count": 16,
   "id": "6bca8e27",
   "metadata": {},
   "outputs": [
    {
     "data": {
      "text/plain": [
       "category\n",
       "Poultry_meat       18\n",
       "chicken           160\n",
       "cow               180\n",
       "eggs               52\n",
       "fats                2\n",
       "fish              136\n",
       "lamb               41\n",
       "other_animals       3\n",
       "pig               122\n",
       "sausage            68\n",
       "turkey             45\n",
       "unknown          3995\n",
       "dtype: int64"
      ]
     },
     "execution_count": 16,
     "metadata": {},
     "output_type": "execute_result"
    }
   ],
   "source": [
    "eggs_list=[\"eggs\", \"egg\",  \"yolk\", \"egg white\", \"egg wash\"]\n",
    "eggs_cat =\"eggs\"\n",
    "eggs_C02 = 4.8 # conflict 2.8\n",
    "for item in eggs_list:\n",
    "        df.loc[df.index.str.contains(item), 'category'] = eggs_cat\n",
    "        df.loc[df.index.str.contains(item), 'C02_per_kilo'] = eggs_C02 \n",
    "df.groupby(['category']).size()"
   ]
  },
  {
   "cell_type": "markdown",
   "id": "e1a24f33",
   "metadata": {},
   "source": [
    "### milk "
   ]
  },
  {
   "cell_type": "code",
   "execution_count": 17,
   "id": "cf568c6d",
   "metadata": {},
   "outputs": [
    {
     "data": {
      "text/plain": [
       "category\n",
       "Poultry_meat       18\n",
       "chicken           160\n",
       "cow               180\n",
       "eggs               52\n",
       "fats                2\n",
       "fish              136\n",
       "lamb               41\n",
       "milk               83\n",
       "other_animals       3\n",
       "pig               121\n",
       "sausage            68\n",
       "turkey             45\n",
       "unknown          3913\n",
       "dtype: int64"
      ]
     },
     "execution_count": 17,
     "metadata": {},
     "output_type": "execute_result"
    }
   ],
   "source": [
    "#half and half\n",
    "milk_list=[\"milk\", \"yogurt\", \"dressing\"]\n",
    "milk_cat =\"milk\"\n",
    "milk_C02 = 1.9\n",
    "for item in milk_list:\n",
    "        df.loc[df.index.str.contains(item), 'category'] = milk_cat      \n",
    "        df.loc[df.index.str.contains(item), 'C02_per_kilo'] = milk_C02 \n",
    "df.groupby(['category']).size()"
   ]
  },
  {
   "cell_type": "code",
   "execution_count": 18,
   "id": "6848cb0f",
   "metadata": {},
   "outputs": [],
   "source": [
    "df.loc[df.index.str.contains(\"butter\"), 'category'] = milk_cat      \n",
    "df.loc[df.index.str.contains(\"butter\"), 'C02_per_kilo'] = 1.17\n"
   ]
  },
  {
   "cell_type": "markdown",
   "id": "f416762e",
   "metadata": {},
   "source": [
    "### cheese "
   ]
  },
  {
   "cell_type": "code",
   "execution_count": 19,
   "id": "5907a411",
   "metadata": {},
   "outputs": [
    {
     "data": {
      "text/plain": [
       "category\n",
       "Poultry_meat       18\n",
       "cheese            169\n",
       "chicken           160\n",
       "cow               179\n",
       "eggs               50\n",
       "fats                2\n",
       "fish              135\n",
       "lamb               35\n",
       "milk              127\n",
       "other_animals       3\n",
       "pig               121\n",
       "sausage            68\n",
       "turkey             45\n",
       "unknown          3710\n",
       "dtype: int64"
      ]
     },
     "execution_count": 19,
     "metadata": {},
     "output_type": "execute_result"
    }
   ],
   "source": [
    "cheese_list=[\"cheese\", \"cheddar\", \"chedar\", \"colby\"]\n",
    "cheese_cat =\"cheese\"\n",
    "cheese_C02 = 13.5 #9.82\n",
    "for item in cheese_list:\n",
    "        df.loc[df.index.str.contains(item), 'category'] = cheese_cat      \n",
    "        df.loc[df.index.str.contains(item), 'C02_per_kilo'] = cheese_C02 \n",
    "df.groupby(['category']).size()"
   ]
  },
  {
   "cell_type": "markdown",
   "id": "4d3bec2b",
   "metadata": {},
   "source": [
    "### mayonnaise, cream, mzarella\t"
   ]
  },
  {
   "cell_type": "code",
   "execution_count": 20,
   "id": "20a350a0",
   "metadata": {},
   "outputs": [
    {
     "data": {
      "text/plain": [
       "category\n",
       "Poultry_meat       18\n",
       "cheese            150\n",
       "chicken           155\n",
       "cow               179\n",
       "eggs               50\n",
       "fats                2\n",
       "fish              134\n",
       "lamb               35\n",
       "mayonnaise        109\n",
       "milk              118\n",
       "other_animals       3\n",
       "pig               121\n",
       "sausage            68\n",
       "turkey             45\n",
       "unknown          3635\n",
       "dtype: int64"
      ]
     },
     "execution_count": 20,
     "metadata": {},
     "output_type": "execute_result"
    }
   ],
   "source": [
    "mayonnaise_list=[\"mayonnaise\", \"cream\", \"mzarella\", \"mayonnais\"]\n",
    "mayonnaise_cat =\"mayonnaise\"\n",
    "mayonnaise_C02 = 2.4 # for cream\n",
    "for item in mayonnaise_list:\n",
    "        df.loc[df.index.str.contains(item), 'category'] = mayonnaise_cat      \n",
    "        df.loc[df.index.str.contains(item), 'C02_per_kilo'] = mayonnaise_C02 \n",
    "df.groupby(['category']).size()"
   ]
  },
  {
   "cell_type": "markdown",
   "id": "dc520ccc",
   "metadata": {},
   "source": [
    "## VEGAN (Typical like Tofu)"
   ]
  },
  {
   "cell_type": "markdown",
   "id": "f00eceed",
   "metadata": {},
   "source": [
    "### vegan : TOFU and related products"
   ]
  },
  {
   "cell_type": "code",
   "execution_count": 21,
   "id": "da266bf5",
   "metadata": {},
   "outputs": [
    {
     "data": {
      "text/plain": [
       "category\n",
       "Poultry_meat       18\n",
       "cheese            150\n",
       "chicken           155\n",
       "cow               179\n",
       "eggs               50\n",
       "fats                2\n",
       "fish              134\n",
       "lamb               35\n",
       "mayonnaise        108\n",
       "milk              118\n",
       "other_animals       3\n",
       "pig               120\n",
       "sausage            68\n",
       "turkey             45\n",
       "unknown          3622\n",
       "vegan              15\n",
       "dtype: int64"
      ]
     },
     "execution_count": 21,
     "metadata": {},
     "output_type": "execute_result"
    }
   ],
   "source": [
    "vegan_list=[\"tofu\"]\n",
    "vegan_cat =\"vegan\"\n",
    "vegan_C02 = 2.0\n",
    "for item in vegan_list:\n",
    "        df.loc[df.index.str.contains(item), 'category'] = vegan_cat      \n",
    "        df.loc[df.index.str.contains(item), 'C02_per_kilo'] = vegan_C02\n",
    "df.groupby(['category']).size()"
   ]
  },
  {
   "cell_type": "markdown",
   "id": "d94fdb57",
   "metadata": {},
   "source": [
    "### vegetables (MORE!)"
   ]
  },
  {
   "cell_type": "code",
   "execution_count": 22,
   "id": "3e20153f",
   "metadata": {
    "scrolled": false
   },
   "outputs": [],
   "source": [
    "vegetables_list=[\"carrots\",\"beans\", \"onion\", \"pepper\", \n",
    "                 \"yucca\",\"yuca\",\"potatoes\",  \"potatoe\",\n",
    "                 \"frisee\", \"fronds\", \"peas\", \"cucumber\", \"eggplant\", \"zucchini\",\n",
    "                 \"edamame\", \"edam\", \"flowers\", \"tomatoes\", \"zucchini\",\"tomato\", \"paprika\", \"spinach\"]\n",
    "vegetables_cat =\"vegetables\"\n",
    "vegetables_C02 = 1.6\n",
    "for item in vegetables_list:\n",
    "        df.loc[df.index.str.contains(item), 'category'] = vegetables_cat      \n",
    "        df.loc[df.index.str.contains(item), 'C02_per_kilo'] = vegetables_C02"
   ]
  },
  {
   "cell_type": "code",
   "execution_count": 23,
   "id": "65e74d28",
   "metadata": {},
   "outputs": [],
   "source": [
    "df.loc[df.index.str.contains(\"tomato\"), 'category'] = vegetables_cat      \n",
    "df.loc[df.index.str.contains(\"tomato\"), 'C02_per_kilo'] = 1.1\n",
    "df.loc[df.index.str.contains(\"beans\"), 'category'] = vegetables_cat      \n",
    "df.loc[df.index.str.contains(\"beans\"), 'C02_per_kilo'] = 2"
   ]
  },
  {
   "cell_type": "markdown",
   "id": "53500b05",
   "metadata": {},
   "source": [
    "### fruits "
   ]
  },
  {
   "cell_type": "code",
   "execution_count": 24,
   "id": "286c5522",
   "metadata": {},
   "outputs": [
    {
     "data": {
      "text/plain": [
       "category\n",
       "Poultry_meat       18\n",
       "cheese            146\n",
       "chicken           154\n",
       "cow               178\n",
       "eggs               41\n",
       "fats                2\n",
       "fish              122\n",
       "fruit             212\n",
       "lamb               35\n",
       "mayonnaise        106\n",
       "milk              115\n",
       "other_animals       3\n",
       "pig               113\n",
       "sausage            67\n",
       "turkey             45\n",
       "unknown          3030\n",
       "vegan              15\n",
       "vegetables        420\n",
       "dtype: int64"
      ]
     },
     "execution_count": 24,
     "metadata": {},
     "output_type": "execute_result"
    }
   ],
   "source": [
    "fruit_list=[\"fruit\", \"lemon\", \"lime\", \"orange\",\"grapes\",\"apple\", \"citrus\",\"melon\", \"pears\", \"banana\",\"mango\", \"apricots\", \"cherry\", \"berries\"]\n",
    "fruit_cat =\"fruit\"\n",
    "fruit_C02 = 0.9\n",
    "for item in fruit_list:\n",
    "        df.loc[df.index.str.contains(item), 'category'] = fruit_cat      \n",
    "        df.loc[df.index.str.contains(item), 'C02_per_kilo'] = fruit_C02 \n",
    "df.groupby(['category']).size()"
   ]
  },
  {
   "cell_type": "markdown",
   "id": "34f9f444",
   "metadata": {},
   "source": [
    "### coconut"
   ]
  },
  {
   "cell_type": "code",
   "execution_count": 25,
   "id": "3692f334",
   "metadata": {},
   "outputs": [
    {
     "data": {
      "text/plain": [
       "category\n",
       "Poultry_meat       18\n",
       "cheese            146\n",
       "chicken           154\n",
       "coconut            37\n",
       "cow               178\n",
       "eggs               41\n",
       "fats                2\n",
       "fish              122\n",
       "fruit             212\n",
       "lamb               35\n",
       "mayonnaise        105\n",
       "milk              104\n",
       "other_animals       3\n",
       "pig               113\n",
       "sausage            67\n",
       "turkey             45\n",
       "unknown          3005\n",
       "vegan              15\n",
       "vegetables        420\n",
       "dtype: int64"
      ]
     },
     "execution_count": 25,
     "metadata": {},
     "output_type": "execute_result"
    }
   ],
   "source": [
    "coconut_list=[\"coconut\"]\n",
    "coconut_cat =\"coconut\"\n",
    "coconut_C02 = 2.1 # conflict 1.6\n",
    "for item in coconut_list:\n",
    "        df.loc[df.index.str.contains(item), 'category'] = coconut_cat      \n",
    "        df.loc[df.index.str.contains(item), 'C02_per_kilo'] = coconut_C02 \n",
    "df.groupby(['category']).size()"
   ]
  },
  {
   "cell_type": "markdown",
   "id": "879c6a03",
   "metadata": {},
   "source": [
    "### mushrooms "
   ]
  },
  {
   "cell_type": "code",
   "execution_count": 26,
   "id": "20b31ade",
   "metadata": {},
   "outputs": [
    {
     "data": {
      "text/plain": [
       "category\n",
       "Poultry_meat       18\n",
       "cheese            146\n",
       "chicken           154\n",
       "coconut            37\n",
       "cow               178\n",
       "eggs               41\n",
       "fats                2\n",
       "fish              122\n",
       "fruit             212\n",
       "lamb               35\n",
       "mayonnaise         98\n",
       "milk              104\n",
       "mushrooms          59\n",
       "other_animals       3\n",
       "pig               113\n",
       "sausage            67\n",
       "turkey             45\n",
       "unknown          2953\n",
       "vegan              15\n",
       "vegetables        420\n",
       "dtype: int64"
      ]
     },
     "execution_count": 26,
     "metadata": {},
     "output_type": "execute_result"
    }
   ],
   "source": [
    "mushrooms_list=[\"enokitake\", \"mushrooms\",\"mushroom\", \"yeast\"]\n",
    "mushrooms_cat =\"mushrooms\"\n",
    "mushrooms_C02 = 1.72\n",
    "for item in mushrooms_list:\n",
    "        df.loc[df.index.str.contains(item), 'category'] = mushrooms_cat      \n",
    "        df.loc[df.index.str.contains(item), 'C02_per_kilo'] = mushrooms_C02 \n",
    "df.groupby(['category']).size()"
   ]
  },
  {
   "cell_type": "markdown",
   "id": "0b227ead",
   "metadata": {},
   "source": [
    "### rice "
   ]
  },
  {
   "cell_type": "code",
   "execution_count": 27,
   "id": "10da9d32",
   "metadata": {},
   "outputs": [
    {
     "data": {
      "text/plain": [
       "category\n",
       "Poultry_meat       18\n",
       "cheese            146\n",
       "chicken           151\n",
       "coconut            37\n",
       "cow               178\n",
       "eggs               41\n",
       "fats                2\n",
       "fish              122\n",
       "fruit             212\n",
       "lamb               35\n",
       "mayonnaise         98\n",
       "milk              103\n",
       "mushrooms          59\n",
       "other_animals       3\n",
       "pig               113\n",
       "rice               98\n",
       "sausage            67\n",
       "turkey             45\n",
       "unknown          2859\n",
       "vegan              15\n",
       "vegetables        420\n",
       "dtype: int64"
      ]
     },
     "execution_count": 27,
     "metadata": {},
     "output_type": "execute_result"
    }
   ],
   "source": [
    "rice_list=[\"rice\"]\n",
    "rice_cat =\"rice\"\n",
    "rice_C02 = 2.7\n",
    "for item in rice_list:\n",
    "        df.loc[df.index.str.contains(item), 'category'] = rice_cat      \n",
    "        df.loc[df.index.str.contains(item), 'C02_per_kilo'] = rice_C02 \n",
    "df.groupby(['category']).size()"
   ]
  },
  {
   "cell_type": "markdown",
   "id": "731ad45c",
   "metadata": {},
   "source": [
    "### starchy roots "
   ]
  },
  {
   "cell_type": "code",
   "execution_count": 28,
   "id": "b8eb7762",
   "metadata": {},
   "outputs": [
    {
     "data": {
      "text/plain": [
       "category\n",
       "Poultry_meat       18\n",
       "cheese            146\n",
       "chicken           151\n",
       "coconut            37\n",
       "cow               178\n",
       "eggs               41\n",
       "fats                2\n",
       "fish              122\n",
       "fruit             212\n",
       "lamb               35\n",
       "mayonnaise         98\n",
       "milk              103\n",
       "mushrooms          59\n",
       "other_animals       3\n",
       "pig               113\n",
       "rice               98\n",
       "sausage            67\n",
       "starchy roots       5\n",
       "turkey             45\n",
       "unknown          2854\n",
       "vegan              15\n",
       "vegetables        420\n",
       "dtype: int64"
      ]
     },
     "execution_count": 28,
     "metadata": {},
     "output_type": "execute_result"
    }
   ],
   "source": [
    "staro_list=[\"parsnips\", \"turnips\", \"jicama\"]\n",
    "staro_cat =\"starchy roots\"\n",
    "staro_C02 = 0.4\n",
    "for item in staro_list:\n",
    "        df.loc[df.index.str.contains(item), 'category'] = staro_cat      \n",
    "        df.loc[df.index.str.contains(item), 'C02_per_kilo'] = staro_C02 \n",
    "df.groupby(['category']).size()"
   ]
  },
  {
   "cell_type": "markdown",
   "id": "501dc355",
   "metadata": {},
   "source": [
    "### aquatic plants "
   ]
  },
  {
   "cell_type": "code",
   "execution_count": 29,
   "id": "2eec9c31",
   "metadata": {},
   "outputs": [
    {
     "data": {
      "text/plain": [
       "category\n",
       "Poultry_meat        18\n",
       "aquatic plants       4\n",
       "cheese             146\n",
       "chicken            151\n",
       "coconut             37\n",
       "cow                178\n",
       "eggs                41\n",
       "fats                 2\n",
       "fish               122\n",
       "fruit              212\n",
       "lamb                35\n",
       "mayonnaise          98\n",
       "milk               103\n",
       "mushrooms           59\n",
       "other_animals        3\n",
       "pig                113\n",
       "rice                98\n",
       "sausage             67\n",
       "starchy roots        5\n",
       "turkey              45\n",
       "unknown           2850\n",
       "vegan               15\n",
       "vegetables         420\n",
       "dtype: int64"
      ]
     },
     "execution_count": 29,
     "metadata": {},
     "output_type": "execute_result"
    }
   ],
   "source": [
    "aquaplants_list=[\"seaweed\", \"weed\", \"seagrass\"]\n",
    "aquaplants_cat =\"aquatic plants\"\n",
    "aquaplants_C02 = 0.01\n",
    "for item in aquaplants_list:\n",
    "        df.loc[df.index.str.contains(item), 'category'] = aquaplants_cat      \n",
    "        df.loc[df.index.str.contains(item), 'C02_per_kilo'] = aquaplants_C02 \n",
    "df.groupby(['category']).size()"
   ]
  },
  {
   "cell_type": "markdown",
   "id": "309fdde4",
   "metadata": {},
   "source": [
    "## flour based products "
   ]
  },
  {
   "cell_type": "code",
   "execution_count": 30,
   "id": "8d51f8eb",
   "metadata": {},
   "outputs": [],
   "source": [
    "df.loc[df.index.str.contains('wheat'), 'category'] = other_cat \n",
    "df.loc[df.index.str.contains('wheat'), 'C02_per_kilo'] = 1"
   ]
  },
  {
   "cell_type": "markdown",
   "id": "87c9576c",
   "metadata": {},
   "source": [
    "### bread "
   ]
  },
  {
   "cell_type": "code",
   "execution_count": 31,
   "id": "25ce57d8",
   "metadata": {},
   "outputs": [
    {
     "data": {
      "text/plain": [
       "category\n",
       "Poultry_meat        18\n",
       "aquatic plants       4\n",
       "bread              126\n",
       "cheese             145\n",
       "chicken            151\n",
       "coconut             37\n",
       "cow                178\n",
       "eggs                40\n",
       "fats                 2\n",
       "fish               120\n",
       "fruit              211\n",
       "lamb                35\n",
       "mayonnaise          98\n",
       "milk               101\n",
       "mushrooms           58\n",
       "other               43\n",
       "other_animals        3\n",
       "pig                113\n",
       "rice                98\n",
       "sausage             61\n",
       "starchy roots        5\n",
       "turkey              45\n",
       "unknown           2696\n",
       "vegan               15\n",
       "vegetables         419\n",
       "dtype: int64"
      ]
     },
     "execution_count": 31,
     "metadata": {},
     "output_type": "execute_result"
    }
   ],
   "source": [
    "bread_list=[\"bread\", \"buns\", \"bread rounds\", \"crumbs\", \"ciabatta\", \"baguette\", \"filo\", \"submarine\", \"croutons\", \"waffle\"]\n",
    "bread_cat =\"bread\"\n",
    "bread_C02 = 5\n",
    "for item in bread_list:\n",
    "        df.loc[df.index.str.contains(item), 'category'] = bread_cat      \n",
    "        df.loc[df.index.str.contains(item), 'C02_per_kilo'] = bread_C02 \n",
    "df.groupby(['category']).size()"
   ]
  },
  {
   "cell_type": "markdown",
   "id": "c15a3261",
   "metadata": {},
   "source": [
    "### noodles"
   ]
  },
  {
   "cell_type": "code",
   "execution_count": 32,
   "id": "82aa2c79",
   "metadata": {
    "scrolled": true
   },
   "outputs": [
    {
     "data": {
      "text/plain": [
       "category\n",
       "Poultry_meat        18\n",
       "aquatic plants       4\n",
       "bread              126\n",
       "cheese             143\n",
       "chicken            150\n",
       "coconut             37\n",
       "cow                176\n",
       "eggs                33\n",
       "fats                 2\n",
       "fish               120\n",
       "fruit              211\n",
       "lamb                35\n",
       "mayonnaise          98\n",
       "milk               101\n",
       "mushrooms           58\n",
       "noodles            118\n",
       "other               29\n",
       "other_animals        3\n",
       "pig                113\n",
       "rice                89\n",
       "sausage             61\n",
       "starchy roots        5\n",
       "turkey              45\n",
       "unknown           2615\n",
       "vegan               15\n",
       "vegetables         417\n",
       "dtype: int64"
      ]
     },
     "execution_count": 32,
     "metadata": {},
     "output_type": "execute_result"
    }
   ],
   "source": [
    "noodles_list=[\"noodles\",\"noodle\", \"spaghetti\", \"pasta\",  \"fideos\", \"fedelini\", \"fettuche\", \"macaroni\", \"ramen\", \"penne\", \"macaroni\"]\n",
    "noodles_cat =\"noodles\"\n",
    "noodles_C02 = 1.24 # s\n",
    "for item in noodles_list:\n",
    "        df.loc[df.index.str.contains(item), 'category'] = noodles_cat      \n",
    "        df.loc[df.index.str.contains(item), 'C02_per_kilo'] = noodles_C02 \n",
    "df.groupby(['category']).size()"
   ]
  },
  {
   "cell_type": "markdown",
   "id": "25aac640",
   "metadata": {},
   "source": [
    "## other incredients (nuts, sugar)"
   ]
  },
  {
   "cell_type": "markdown",
   "id": "b7f13154",
   "metadata": {},
   "source": [
    "### sugar"
   ]
  },
  {
   "cell_type": "code",
   "execution_count": 33,
   "id": "487f3062",
   "metadata": {
    "scrolled": false
   },
   "outputs": [
    {
     "data": {
      "text/plain": [
       "category\n",
       "Poultry_meat        18\n",
       "aquatic plants       4\n",
       "bread              126\n",
       "cheese             143\n",
       "chicken            150\n",
       "coconut             36\n",
       "cow                176\n",
       "eggs                33\n",
       "fats                 2\n",
       "fish               120\n",
       "fruit              211\n",
       "lamb                35\n",
       "mayonnaise          98\n",
       "milk               101\n",
       "mushrooms           58\n",
       "noodles            118\n",
       "other               29\n",
       "other_animals        3\n",
       "pig                113\n",
       "rice                89\n",
       "sausage             61\n",
       "starchy roots        5\n",
       "sugar               37\n",
       "turkey              45\n",
       "unknown           2579\n",
       "vegan               15\n",
       "vegetables         417\n",
       "dtype: int64"
      ]
     },
     "execution_count": 33,
     "metadata": {},
     "output_type": "execute_result"
    }
   ],
   "source": [
    "sugar_list=[\"sugar\"]\n",
    "sugar_cat =\"sugar\"\n",
    "sugar_C02 = 3.5\n",
    "for item in sugar_list:\n",
    "        df.loc[df.index.str.contains(item), 'category'] = sugar_cat      \n",
    "        df.loc[df.index.str.contains(item), 'C02_per_kilo'] = sugar_C02 \n",
    "df.groupby(['category']).size()"
   ]
  },
  {
   "cell_type": "markdown",
   "id": "c6c7d058",
   "metadata": {},
   "source": [
    "### corn"
   ]
  },
  {
   "cell_type": "code",
   "execution_count": 34,
   "id": "5c3fb17b",
   "metadata": {},
   "outputs": [
    {
     "data": {
      "text/plain": [
       "category\n",
       "Poultry_meat        18\n",
       "aquatic plants       4\n",
       "bread              119\n",
       "cheese             143\n",
       "chicken            149\n",
       "coconut             36\n",
       "corn                75\n",
       "cow                174\n",
       "eggs                33\n",
       "fats                 2\n",
       "fish               120\n",
       "fruit              211\n",
       "lamb                35\n",
       "mayonnaise          97\n",
       "milk               101\n",
       "mushrooms           58\n",
       "noodles            118\n",
       "other               29\n",
       "other_animals        3\n",
       "pig                113\n",
       "rice                89\n",
       "sausage             61\n",
       "starchy roots        5\n",
       "sugar               37\n",
       "turkey              45\n",
       "unknown           2523\n",
       "vegan               15\n",
       "vegetables         409\n",
       "dtype: int64"
      ]
     },
     "execution_count": 34,
     "metadata": {},
     "output_type": "execute_result"
    }
   ],
   "source": [
    "corn_list=[\"corn\"]\n",
    "corn_cat =\"corn\"\n",
    "corn_C02 = 3\n",
    "for item in corn_list:\n",
    "        df.loc[df.index.str.contains(item), 'category'] = corn_cat      \n",
    "        df.loc[df.index.str.contains(item), 'C02_per_kilo'] = corn_C02 \n",
    "df.groupby(['category']).size()"
   ]
  },
  {
   "cell_type": "markdown",
   "id": "63379229",
   "metadata": {},
   "source": [
    "### nuts "
   ]
  },
  {
   "cell_type": "code",
   "execution_count": 35,
   "id": "bb184710",
   "metadata": {},
   "outputs": [
    {
     "data": {
      "text/plain": [
       "category\n",
       "Poultry_meat        18\n",
       "aquatic plants       4\n",
       "bread              119\n",
       "cheese             143\n",
       "chicken            149\n",
       "coconut             36\n",
       "corn                75\n",
       "cow                174\n",
       "eggs                33\n",
       "fats                 2\n",
       "fish               120\n",
       "fruit              211\n",
       "lamb                35\n",
       "mayonnaise          93\n",
       "milk                92\n",
       "mushrooms           58\n",
       "noodles            118\n",
       "nuts                85\n",
       "other               29\n",
       "other_animals        3\n",
       "pig                113\n",
       "rice                89\n",
       "sausage             61\n",
       "starchy roots        5\n",
       "sugar               37\n",
       "turkey              45\n",
       "unknown           2451\n",
       "vegan               15\n",
       "vegetables         409\n",
       "dtype: int64"
      ]
     },
     "execution_count": 35,
     "metadata": {},
     "output_type": "execute_result"
    }
   ],
   "source": [
    "nuts_list=[\"nuts\", \"cashew\", \"peanut\", \"pecans\", \"hazelnuts\",\"pistachios\", \"walnut\", \"almonds\"]\n",
    "nuts_cat =\"nuts\"\n",
    "nuts_C02 = 2.0\n",
    "for item in nuts_list:\n",
    "        df.loc[df.index.str.contains(item), 'category'] = nuts_cat      \n",
    "        df.loc[df.index.str.contains(item), 'C02_per_kilo'] = nuts_C02 \n",
    "df.groupby(['category']).size()"
   ]
  },
  {
   "cell_type": "markdown",
   "id": "cae5b6aa",
   "metadata": {},
   "source": [
    "### seeds "
   ]
  },
  {
   "cell_type": "code",
   "execution_count": 36,
   "id": "4f3ece90",
   "metadata": {},
   "outputs": [
    {
     "data": {
      "text/plain": [
       "category\n",
       "Poultry_meat        18\n",
       "aquatic plants       4\n",
       "bread              118\n",
       "cheese             143\n",
       "chicken            149\n",
       "coconut             36\n",
       "corn                75\n",
       "cow                174\n",
       "eggs                33\n",
       "fats                 2\n",
       "fish               120\n",
       "fruit              211\n",
       "lamb                35\n",
       "mayonnaise          93\n",
       "milk                92\n",
       "mushrooms           58\n",
       "noodles            118\n",
       "nuts                85\n",
       "other               29\n",
       "other_animals        3\n",
       "pig                113\n",
       "rice                89\n",
       "sausage             61\n",
       "seeds               32\n",
       "starchy roots        5\n",
       "sugar               37\n",
       "turkey              45\n",
       "unknown           2421\n",
       "vegan               15\n",
       "vegetables         408\n",
       "dtype: int64"
      ]
     },
     "execution_count": 36,
     "metadata": {},
     "output_type": "execute_result"
    }
   ],
   "source": [
    "seeds_list=[\"seeds\"]\n",
    "seeds_cat =\"seeds\"\n",
    "seeds_C02 = 4\n",
    "for item in seeds_list:\n",
    "        df.loc[df.index.str.contains(item), 'category'] = seeds_cat      \n",
    "        df.loc[df.index.str.contains(item), 'C02_per_kilo'] = seeds_C02 \n",
    "df.groupby(['category']).size()"
   ]
  },
  {
   "cell_type": "code",
   "execution_count": 37,
   "id": "e3e63ab3",
   "metadata": {},
   "outputs": [],
   "source": [
    "### pulses"
   ]
  },
  {
   "cell_type": "code",
   "execution_count": 38,
   "id": "13fe0c28",
   "metadata": {},
   "outputs": [
    {
     "data": {
      "text/plain": [
       "category\n",
       "Poultry_meat        18\n",
       "aquatic plants       4\n",
       "bread              118\n",
       "cheese             143\n",
       "chicken            149\n",
       "coconut             36\n",
       "corn                75\n",
       "cow                174\n",
       "eggs                33\n",
       "fats                 2\n",
       "fish               120\n",
       "fruit              211\n",
       "lamb                35\n",
       "mayonnaise          93\n",
       "milk                92\n",
       "mushrooms           58\n",
       "noodles            118\n",
       "nuts                85\n",
       "other               29\n",
       "other_animals        3\n",
       "pig                113\n",
       "pulses              10\n",
       "rice                89\n",
       "sausage             61\n",
       "seeds               32\n",
       "starchy roots        5\n",
       "sugar               37\n",
       "turkey              45\n",
       "unknown           2411\n",
       "vegan               15\n",
       "vegetables         408\n",
       "dtype: int64"
      ]
     },
     "execution_count": 38,
     "metadata": {},
     "output_type": "execute_result"
    }
   ],
   "source": [
    "pulses_list= [\"pulses\", \"legumes\", \"alfalfa\", \"clover\", \"lupins\", \"mesquite\", \"carob\", \"tamarind\"]\n",
    "pulses_cat =\"pulses\"\n",
    "pulses_C02 = 3.5\n",
    "for item in pulses_list:\n",
    "        df.loc[df.index.str.contains(item), 'category'] = pulses_cat      \n",
    "        df.loc[df.index.str.contains(item), 'C02_per_kilo'] = pulses_C02 \n",
    "df.groupby(['category']).size()\n"
   ]
  },
  {
   "cell_type": "markdown",
   "id": "2d21edb3",
   "metadata": {},
   "source": [
    "## drinks"
   ]
  },
  {
   "cell_type": "markdown",
   "id": "a7b8207f",
   "metadata": {},
   "source": [
    "### soft drinks "
   ]
  },
  {
   "cell_type": "code",
   "execution_count": 39,
   "id": "b6f69a55",
   "metadata": {},
   "outputs": [
    {
     "data": {
      "text/plain": [
       "category\n",
       "Poultry_meat        18\n",
       "aquatic plants       4\n",
       "bread              118\n",
       "cheese             143\n",
       "chicken            149\n",
       "coconut             36\n",
       "corn                75\n",
       "cow                174\n",
       "eggs                33\n",
       "fats                 2\n",
       "fish               120\n",
       "fruit              210\n",
       "lamb                35\n",
       "mayonnaise          93\n",
       "milk                92\n",
       "mushrooms           58\n",
       "noodles            118\n",
       "nuts                85\n",
       "other               29\n",
       "other_animals        3\n",
       "pig                113\n",
       "pulses              10\n",
       "rice                89\n",
       "sausage             61\n",
       "seeds               32\n",
       "soft drinks         13\n",
       "starchy roots        5\n",
       "sugar               37\n",
       "turkey              45\n",
       "unknown           2399\n",
       "vegan               15\n",
       "vegetables         408\n",
       "dtype: int64"
      ]
     },
     "execution_count": 39,
     "metadata": {},
     "output_type": "execute_result"
    }
   ],
   "source": [
    "soft_drinks_list=[\"coke\", \"cola\", \"club soda\", \"mineral water\", \"carbonated water\", \"sprite\"]\n",
    "soft_drinks_cat =\"soft drinks\"\n",
    "soft_drinks_C02 = 1.72\n",
    "for item in soft_drinks_list:\n",
    "        df.loc[df.index.str.contains(item), 'category'] = soft_drinks_cat      \n",
    "        df.loc[df.index.str.contains(item), 'C02_per_kilo'] = soft_drinks_C02 \n",
    "df.groupby(['category']).size()"
   ]
  },
  {
   "cell_type": "markdown",
   "id": "9edf9e24",
   "metadata": {},
   "source": [
    "### juice "
   ]
  },
  {
   "cell_type": "code",
   "execution_count": 40,
   "id": "4a73e8b6",
   "metadata": {},
   "outputs": [
    {
     "data": {
      "text/plain": [
       "category\n",
       "Poultry_meat        18\n",
       "aquatic plants       4\n",
       "bread              118\n",
       "cheese             143\n",
       "chicken            149\n",
       "coconut             34\n",
       "corn                75\n",
       "cow                174\n",
       "eggs                33\n",
       "fats                 2\n",
       "fish               120\n",
       "fruit              179\n",
       "juice               67\n",
       "lamb                35\n",
       "mayonnaise          93\n",
       "milk                92\n",
       "mushrooms           58\n",
       "noodles            118\n",
       "nuts                85\n",
       "other               29\n",
       "other_animals        3\n",
       "pig                113\n",
       "pulses               9\n",
       "rice                89\n",
       "sausage             61\n",
       "seeds               32\n",
       "soft drinks         13\n",
       "starchy roots        5\n",
       "sugar               37\n",
       "turkey              45\n",
       "unknown           2369\n",
       "vegan               15\n",
       "vegetables         405\n",
       "dtype: int64"
      ]
     },
     "execution_count": 40,
     "metadata": {},
     "output_type": "execute_result"
    }
   ],
   "source": [
    "juice_list=[\"juice\", \"zitronensaft\", \"cocktail\", \"nectar\"]\n",
    "juice_cat =\"juice\"\n",
    "juice_C02 = 1.72\n",
    "for item in juice_list:\n",
    "        df.loc[df.index.str.contains(item), 'category'] = juice_cat      \n",
    "        df.loc[df.index.str.contains(item), 'C02_per_kilo'] = juice_C02 \n",
    "df.groupby(['category']).size()"
   ]
  },
  {
   "cell_type": "markdown",
   "id": "33fec70b",
   "metadata": {},
   "source": [
    "### wine"
   ]
  },
  {
   "cell_type": "code",
   "execution_count": 41,
   "id": "bc5f9ac5",
   "metadata": {},
   "outputs": [
    {
     "data": {
      "text/plain": [
       "category\n",
       "Poultry_meat        18\n",
       "aquatic plants       4\n",
       "bread              118\n",
       "cheese             143\n",
       "chicken            149\n",
       "coconut             34\n",
       "corn                75\n",
       "cow                174\n",
       "eggs                33\n",
       "fats                 2\n",
       "fish               120\n",
       "fruit              177\n",
       "juice               67\n",
       "lamb                35\n",
       "mayonnaise          93\n",
       "milk                92\n",
       "mushrooms           58\n",
       "noodles            118\n",
       "nuts                85\n",
       "other               29\n",
       "other_animals        3\n",
       "pig                112\n",
       "pulses               9\n",
       "rice                85\n",
       "sausage             61\n",
       "seeds               32\n",
       "soft drinks         13\n",
       "starchy roots        5\n",
       "sugar               37\n",
       "turkey              45\n",
       "unknown           2329\n",
       "vegan               15\n",
       "vegetables         405\n",
       "wine                47\n",
       "dtype: int64"
      ]
     },
     "execution_count": 41,
     "metadata": {},
     "output_type": "execute_result"
    }
   ],
   "source": [
    "wine_list=[\"wine\", \"riesling\", \"zinfandel\", \"rotwein\", \"wein\", \"cider\"]\n",
    "wine_cat =\"wine\"\n",
    "wine_C02 = 45\n",
    "for item in wine_list:\n",
    "        df.loc[df.index.str.contains(item), 'category'] = wine_cat\n",
    "        df.loc[df.index.str.contains(item), 'C02_per_kilo'] = wine_C02 \n",
    "df.groupby(['category']).size()"
   ]
  },
  {
   "cell_type": "markdown",
   "id": "accb7021",
   "metadata": {},
   "source": [
    "### beer"
   ]
  },
  {
   "cell_type": "code",
   "execution_count": 42,
   "id": "b1dd3343",
   "metadata": {},
   "outputs": [
    {
     "data": {
      "text/plain": [
       "category\n",
       "Poultry_meat        18\n",
       "aquatic plants       4\n",
       "beer                20\n",
       "bread              118\n",
       "cheese             143\n",
       "chicken            149\n",
       "coconut             34\n",
       "corn                75\n",
       "cow                174\n",
       "eggs                33\n",
       "fats                 2\n",
       "fish               120\n",
       "fruit              177\n",
       "juice               67\n",
       "lamb                35\n",
       "mayonnaise          93\n",
       "milk                92\n",
       "mushrooms           58\n",
       "noodles            118\n",
       "nuts                85\n",
       "other               28\n",
       "other_animals        3\n",
       "pig                112\n",
       "pulses               9\n",
       "rice                85\n",
       "sausage             61\n",
       "seeds               32\n",
       "soft drinks         13\n",
       "starchy roots        5\n",
       "sugar               37\n",
       "turkey              45\n",
       "unknown           2310\n",
       "vegan               15\n",
       "vegetables         405\n",
       "wine                47\n",
       "dtype: int64"
      ]
     },
     "execution_count": 42,
     "metadata": {},
     "output_type": "execute_result"
    }
   ],
   "source": [
    "beer_list=[\"beer\", \"pilsner\", \"bier\",\" root beer\", \"yuengling beer\"]\n",
    "beer_cat =\"beer\"\n",
    "beer_C02 = 3.8\n",
    "for item in beer_list:\n",
    "        df.loc[df.index.str.contains(item), 'category'] = beer_cat\n",
    "        df.loc[df.index.str.contains(item), 'C02_per_kilo'] = beer_C02 \n",
    "df.groupby(['category']).size()"
   ]
  },
  {
   "cell_type": "markdown",
   "id": "032414bf",
   "metadata": {},
   "source": [
    "### booze  "
   ]
  },
  {
   "cell_type": "code",
   "execution_count": 43,
   "id": "c8b5b8ad",
   "metadata": {},
   "outputs": [
    {
     "data": {
      "text/plain": [
       "category\n",
       "Poultry_meat        18\n",
       "aquatic plants       4\n",
       "beer                20\n",
       "booze               24\n",
       "bread              118\n",
       "cheese             143\n",
       "chicken            149\n",
       "coconut             34\n",
       "corn                75\n",
       "cow                174\n",
       "eggs                33\n",
       "fats                 2\n",
       "fish               120\n",
       "fruit              175\n",
       "juice               67\n",
       "lamb                35\n",
       "mayonnaise          93\n",
       "milk                92\n",
       "mushrooms           58\n",
       "noodles            118\n",
       "nuts                85\n",
       "other               28\n",
       "other_animals        3\n",
       "pig                112\n",
       "pulses               9\n",
       "rice                85\n",
       "sausage             61\n",
       "seeds               32\n",
       "soft drinks         13\n",
       "starchy roots        5\n",
       "sugar               37\n",
       "turkey              45\n",
       "unknown           2288\n",
       "vegan               15\n",
       "vegetables         405\n",
       "wine                47\n",
       "dtype: int64"
      ]
     },
     "execution_count": 43,
     "metadata": {},
     "output_type": "execute_result"
    }
   ],
   "source": [
    "booze_list=[\"schnaps\", \"whiskey\",\"jack daniels\", \"alcohol\", \"liquor\", \"whisky\", \"vodka\", \"vermouth\", \"tequila\", \"cognac\", \"brandy\", \"schnapps\"]\n",
    "booze_cat =\"booze\"\n",
    "booze_C02 = 2.7 #value for whiskey # conflict 3.5\n",
    "for item in booze_list:\n",
    "        df.loc[df.index.str.contains(item), 'category'] = booze_cat\n",
    "        df.loc[(df.index == 'rum'),'category']=booze_cat\n",
    "        df.loc[(df.index == 'rum'),'C02_per_kilo']=booze_cat\n",
    "        df.loc[(df.index == 'gin'),'category']=booze_cat      \n",
    "        df.loc[(df.index == 'gin'),'C02_per_kilo']=booze_cat\n",
    "        df.loc[df.index.str.contains(item), 'C02_per_kilo'] = booze_C02 \n",
    "df.groupby(['category']).size()"
   ]
  },
  {
   "cell_type": "code",
   "execution_count": 44,
   "id": "77db889e",
   "metadata": {},
   "outputs": [
    {
     "data": {
      "text/html": [
       "<div>\n",
       "<style scoped>\n",
       "    .dataframe tbody tr th:only-of-type {\n",
       "        vertical-align: middle;\n",
       "    }\n",
       "\n",
       "    .dataframe tbody tr th {\n",
       "        vertical-align: top;\n",
       "    }\n",
       "\n",
       "    .dataframe thead th {\n",
       "        text-align: right;\n",
       "    }\n",
       "</style>\n",
       "<table border=\"1\" class=\"dataframe\">\n",
       "  <thead>\n",
       "    <tr style=\"text-align: right;\">\n",
       "      <th></th>\n",
       "      <th>category</th>\n",
       "      <th>C02_per_kilo</th>\n",
       "    </tr>\n",
       "    <tr>\n",
       "      <th>ingredients</th>\n",
       "      <th></th>\n",
       "      <th></th>\n",
       "    </tr>\n",
       "  </thead>\n",
       "  <tbody>\n",
       "    <tr>\n",
       "      <th>alcohol</th>\n",
       "      <td>booze</td>\n",
       "      <td>2.7</td>\n",
       "    </tr>\n",
       "    <tr>\n",
       "      <th>apple brandy</th>\n",
       "      <td>booze</td>\n",
       "      <td>2.7</td>\n",
       "    </tr>\n",
       "    <tr>\n",
       "      <th>apple schnapps</th>\n",
       "      <td>booze</td>\n",
       "      <td>2.7</td>\n",
       "    </tr>\n",
       "    <tr>\n",
       "      <th>bourbon whiskey</th>\n",
       "      <td>booze</td>\n",
       "      <td>2.7</td>\n",
       "    </tr>\n",
       "    <tr>\n",
       "      <th>brandy</th>\n",
       "      <td>booze</td>\n",
       "      <td>2.7</td>\n",
       "    </tr>\n",
       "    <tr>\n",
       "      <th>cognac</th>\n",
       "      <td>booze</td>\n",
       "      <td>2.7</td>\n",
       "    </tr>\n",
       "    <tr>\n",
       "      <th>dry vermouth</th>\n",
       "      <td>booze</td>\n",
       "      <td>2.7</td>\n",
       "    </tr>\n",
       "    <tr>\n",
       "      <th>gin</th>\n",
       "      <td>booze</td>\n",
       "      <td>booze</td>\n",
       "    </tr>\n",
       "    <tr>\n",
       "      <th>gold tequila</th>\n",
       "      <td>booze</td>\n",
       "      <td>2.7</td>\n",
       "    </tr>\n",
       "    <tr>\n",
       "      <th>irish whiskey</th>\n",
       "      <td>booze</td>\n",
       "      <td>2.7</td>\n",
       "    </tr>\n",
       "    <tr>\n",
       "      <th>jack daniels</th>\n",
       "      <td>booze</td>\n",
       "      <td>2.7</td>\n",
       "    </tr>\n",
       "    <tr>\n",
       "      <th>jack daniels whiskey</th>\n",
       "      <td>booze</td>\n",
       "      <td>2.7</td>\n",
       "    </tr>\n",
       "    <tr>\n",
       "      <th>jameson irish whiskey</th>\n",
       "      <td>booze</td>\n",
       "      <td>2.7</td>\n",
       "    </tr>\n",
       "    <tr>\n",
       "      <th>liquor</th>\n",
       "      <td>booze</td>\n",
       "      <td>2.7</td>\n",
       "    </tr>\n",
       "    <tr>\n",
       "      <th>rum</th>\n",
       "      <td>booze</td>\n",
       "      <td>booze</td>\n",
       "    </tr>\n",
       "    <tr>\n",
       "      <th>rye whiskey</th>\n",
       "      <td>booze</td>\n",
       "      <td>2.7</td>\n",
       "    </tr>\n",
       "    <tr>\n",
       "      <th>silver tequila</th>\n",
       "      <td>booze</td>\n",
       "      <td>2.7</td>\n",
       "    </tr>\n",
       "    <tr>\n",
       "      <th>sweet vermouth</th>\n",
       "      <td>booze</td>\n",
       "      <td>2.7</td>\n",
       "    </tr>\n",
       "    <tr>\n",
       "      <th>tequila</th>\n",
       "      <td>booze</td>\n",
       "      <td>2.7</td>\n",
       "    </tr>\n",
       "    <tr>\n",
       "      <th>vermouth</th>\n",
       "      <td>booze</td>\n",
       "      <td>2.7</td>\n",
       "    </tr>\n",
       "    <tr>\n",
       "      <th>vodka</th>\n",
       "      <td>booze</td>\n",
       "      <td>2.7</td>\n",
       "    </tr>\n",
       "    <tr>\n",
       "      <th>whiskey</th>\n",
       "      <td>booze</td>\n",
       "      <td>2.7</td>\n",
       "    </tr>\n",
       "    <tr>\n",
       "      <th>whisky</th>\n",
       "      <td>booze</td>\n",
       "      <td>2.7</td>\n",
       "    </tr>\n",
       "    <tr>\n",
       "      <th>white vermouth</th>\n",
       "      <td>booze</td>\n",
       "      <td>2.7</td>\n",
       "    </tr>\n",
       "  </tbody>\n",
       "</table>\n",
       "</div>"
      ],
      "text/plain": [
       "                      category C02_per_kilo\n",
       "ingredients                                \n",
       "alcohol                  booze          2.7\n",
       "apple brandy             booze          2.7\n",
       "apple schnapps           booze          2.7\n",
       "bourbon whiskey          booze          2.7\n",
       "brandy                   booze          2.7\n",
       "cognac                   booze          2.7\n",
       "dry vermouth             booze          2.7\n",
       "gin                      booze        booze\n",
       "gold tequila             booze          2.7\n",
       "irish whiskey            booze          2.7\n",
       "jack daniels             booze          2.7\n",
       "jack daniels whiskey     booze          2.7\n",
       "jameson irish whiskey    booze          2.7\n",
       "liquor                   booze          2.7\n",
       "rum                      booze        booze\n",
       "rye whiskey              booze          2.7\n",
       "silver tequila           booze          2.7\n",
       "sweet vermouth           booze          2.7\n",
       "tequila                  booze          2.7\n",
       "vermouth                 booze          2.7\n",
       "vodka                    booze          2.7\n",
       "whiskey                  booze          2.7\n",
       "whisky                   booze          2.7\n",
       "white vermouth           booze          2.7"
      ]
     },
     "execution_count": 44,
     "metadata": {},
     "output_type": "execute_result"
    }
   ],
   "source": [
    "df[df[\"category\"] == \"booze\"]"
   ]
  },
  {
   "cell_type": "markdown",
   "id": "2f6b469d",
   "metadata": {},
   "source": [
    "# Breakers (like sauce, broth that replaces previous things -> chicken broth then is broth not chicken)"
   ]
  },
  {
   "cell_type": "markdown",
   "id": "facf3e48",
   "metadata": {},
   "source": [
    "## broth"
   ]
  },
  {
   "cell_type": "code",
   "execution_count": 45,
   "id": "86bf0325",
   "metadata": {},
   "outputs": [
    {
     "data": {
      "text/plain": [
       "category\n",
       "Poultry_meat        12\n",
       "aquatic plants       4\n",
       "beer                20\n",
       "booze               24\n",
       "bread              118\n",
       "broth              276\n",
       "cheese             140\n",
       "chicken             66\n",
       "coconut             34\n",
       "corn                75\n",
       "cow                126\n",
       "eggs                33\n",
       "fats                 2\n",
       "fish               111\n",
       "fruit              175\n",
       "juice               67\n",
       "lamb                29\n",
       "mayonnaise          84\n",
       "milk                88\n",
       "mushrooms           45\n",
       "noodles            116\n",
       "nuts                85\n",
       "other               28\n",
       "other_animals        3\n",
       "pig                102\n",
       "pulses               9\n",
       "rice                84\n",
       "sausage             54\n",
       "seeds               32\n",
       "soft drinks         13\n",
       "starchy roots        5\n",
       "sugar               37\n",
       "turkey              36\n",
       "unknown           2234\n",
       "vegan               15\n",
       "vegetables         393\n",
       "wine                47\n",
       "dtype: int64"
      ]
     },
     "execution_count": 45,
     "metadata": {},
     "output_type": "execute_result"
    }
   ],
   "source": [
    "broth_list = [\"stock\", \"broth\", \"bouillon\", \"fond\", \"granules\", \"base\", \"glace\", \"bone\", \"soup\"]\n",
    "broth_cat =\"broth\"\n",
    "broth_C02 = 0.1\n",
    "for item in broth_list:\n",
    "        df.loc[df.index.str.contains(item), 'category'] = broth_cat\n",
    "        df.loc[df.index.str.contains(item), 'C02_per_kilo'] = broth_C02 \n",
    "df.groupby(['category']).size()"
   ]
  },
  {
   "cell_type": "markdown",
   "id": "f81cad7b",
   "metadata": {},
   "source": [
    "## spices"
   ]
  },
  {
   "cell_type": "code",
   "execution_count": 46,
   "id": "d2ff111c",
   "metadata": {},
   "outputs": [
    {
     "data": {
      "text/plain": [
       "category\n",
       "Poultry_meat        12\n",
       "aquatic plants       4\n",
       "beer                19\n",
       "booze               24\n",
       "bread              113\n",
       "broth              253\n",
       "cheese             137\n",
       "chicken             58\n",
       "coconut             33\n",
       "corn                70\n",
       "cow                118\n",
       "eggs                33\n",
       "fats                 2\n",
       "fish               103\n",
       "fruit              161\n",
       "juice               66\n",
       "lamb                28\n",
       "mayonnaise          77\n",
       "milk                56\n",
       "mushrooms           42\n",
       "noodles            113\n",
       "nuts                68\n",
       "other               26\n",
       "other_animals        3\n",
       "pig                 98\n",
       "pulses               9\n",
       "rice                75\n",
       "sausage             53\n",
       "seeds               32\n",
       "soft drinks         13\n",
       "spices             524\n",
       "starchy roots        5\n",
       "sugar               36\n",
       "turkey              35\n",
       "unknown           1903\n",
       "vegan               15\n",
       "vegetables         364\n",
       "wine                41\n",
       "dtype: int64"
      ]
     },
     "execution_count": 46,
     "metadata": {},
     "output_type": "execute_result"
    }
   ],
   "source": [
    "spices_list = [\"powder\", \"spices\", \"cayenne pepper\", \"cayenne\", \"allspice\", \"miso\",\"cinnamon\", \"seasoning\", \"star anise\", \"purpose seasoning\", \"allpurpose rub\", \"baobab fruit powder\", \"seasoning\", \"cayenne\", \"msg\", \"pfeffer\", \"schwarzpfeffer\", \"salt\", \"mix\", \"adobo allpurpose ing\", \"ing\", \"wasabi\", \"cinnamon\", \"gluten\", \"ginger\", \"gelatin\", \"shoots\", \"five spice\", \"chili\", \"chiffonade\", \"cardamon\", \"allspice\", \"anis\"]\n",
    "spices_cat =\"spices\"\n",
    "spcies_C02 = 0.3\n",
    "for item in spices_list:\n",
    "        df.loc[df.index.str.contains(item), 'category'] = spices_cat\n",
    "        df.loc[df.index.str.contains(item), 'C02_per_kilo'] = spcies_C02\n",
    "df.groupby(['category']).size()"
   ]
  },
  {
   "cell_type": "markdown",
   "id": "dab0077f",
   "metadata": {},
   "source": [
    "## green spices (herbs)"
   ]
  },
  {
   "cell_type": "code",
   "execution_count": 47,
   "id": "41c106b7",
   "metadata": {
    "scrolled": true
   },
   "outputs": [
    {
     "data": {
      "text/plain": [
       "category\n",
       "Poultry_meat        12\n",
       "aquatic plants       2\n",
       "beer                18\n",
       "booze               24\n",
       "bread              110\n",
       "broth              250\n",
       "cheese             136\n",
       "chicken             58\n",
       "coconut             33\n",
       "corn                70\n",
       "cow                118\n",
       "eggs                33\n",
       "fats                 2\n",
       "fish               103\n",
       "fruit              156\n",
       "greenspices        303\n",
       "juice               66\n",
       "lamb                28\n",
       "mayonnaise          75\n",
       "milk                54\n",
       "mushrooms           42\n",
       "noodles            112\n",
       "nuts                68\n",
       "other               26\n",
       "other_animals        3\n",
       "pig                 98\n",
       "pulses               9\n",
       "rice                75\n",
       "sausage             53\n",
       "seeds               31\n",
       "soft drinks         13\n",
       "spices             477\n",
       "starchy roots        5\n",
       "sugar               36\n",
       "turkey              35\n",
       "unknown           1679\n",
       "vegan               14\n",
       "vegetables         354\n",
       "wine                41\n",
       "dtype: int64"
      ]
     },
     "execution_count": 47,
     "metadata": {},
     "output_type": "execute_result"
    }
   ],
   "source": [
    "greenspices_list = [\"bay leaves\", \"cilantro\", \"ginger\", \"garlic\", \"herb seasoning\", \"herb\", \"kuttelkraut\", \"kÃ¼mmel\", \"kÃ¼mmelpulver\", \"leave\", \"leaves\", \"rosmary\", \"wacholderbeeren\", \"sage\", \"mint\", \"thyme\", \"herbs\", \"horseradish\", \"garland chrysanthemum\", \"gari\", \"garden cress\", \"garam masala\", \"rosemary\", \"dill\", \"coriander\", \"lavender\", \"cilantro\", \"chives\", \"cilantro\", \"oregano\", \"celery\", \"cilantro\", \"chard\", \"epazote\", \"lavender\", \"basil\"]\n",
    "greenspices_cat =\"greenspices\"\n",
    "greenspices_C02 = 0.3\n",
    "for item in greenspices_list:\n",
    "        df.loc[df.index.str.contains(item), 'category'] = greenspices_cat\n",
    "        df.loc[df.index.str.contains(item), 'C02_per_kilo'] = greenspices_C02 \n",
    "df.groupby(['category']).size()"
   ]
  },
  {
   "cell_type": "markdown",
   "id": "ac043b37",
   "metadata": {},
   "source": [
    "## liquid spices"
   ]
  },
  {
   "cell_type": "code",
   "execution_count": 48,
   "id": "ded5cb75",
   "metadata": {},
   "outputs": [
    {
     "data": {
      "text/plain": [
       "category\n",
       "Poultry_meat        11\n",
       "aquatic plants       2\n",
       "beer                18\n",
       "booze               24\n",
       "bread              110\n",
       "broth              250\n",
       "cheese             134\n",
       "chicken             58\n",
       "coconut             32\n",
       "corn                68\n",
       "cow                116\n",
       "eggs                33\n",
       "fats                 2\n",
       "fish                97\n",
       "fruit              147\n",
       "greenspices        283\n",
       "juice               65\n",
       "lamb                28\n",
       "mayonnaise          72\n",
       "milk                51\n",
       "mushrooms           39\n",
       "noodles            105\n",
       "nuts                67\n",
       "other               25\n",
       "other_animals        3\n",
       "pig                 98\n",
       "pulses               7\n",
       "rice                68\n",
       "sauces             353\n",
       "sausage             48\n",
       "seeds               27\n",
       "soft drinks         13\n",
       "spices             457\n",
       "starchy roots        5\n",
       "sugar               36\n",
       "turkey              32\n",
       "unknown           1457\n",
       "vegan               14\n",
       "vegetables         336\n",
       "wine                31\n",
       "dtype: int64"
      ]
     },
     "execution_count": 48,
     "metadata": {},
     "output_type": "execute_result"
    }
   ],
   "source": [
    "liqspices_list = [\"marinade\",\"sauce\", \"soy sauce\", \"soy\",  \"vinegar\", \"fish sauce\", \"pesto\", \"salsa\", \"chipotle\", \"doubanjiang\", \"chimichurri\", \"catsup\", \"paste\", \"mustard\", \"honey\"]\n",
    "liqspices_cat =\"sauces\"\n",
    "liqspcies_C02 = 1.6 # spices average, also tomato paste \n",
    "for item in liqspices_list:\n",
    "    df.loc[df.index.str.contains(item), 'category'] = liqspices_cat\n",
    "    df.loc[df.index.str.contains(item), 'C02_per_kilo'] = liqspcies_C02\n",
    "df.groupby(['category']).size()"
   ]
  },
  {
   "cell_type": "markdown",
   "id": "06c77aaf",
   "metadata": {},
   "source": [
    "## flour/meal"
   ]
  },
  {
   "cell_type": "code",
   "execution_count": 49,
   "id": "a01a76de",
   "metadata": {},
   "outputs": [],
   "source": [
    "flour_list = [\"flour\", \"meal\"]\n",
    "flour_cat =\"flour\"\n",
    "flour_C02 = 5\n",
    "for item in flour_list:\n",
    "    df.loc[df.index.str.contains(item), 'category'] = flour_cat\n",
    "    df.loc[df.index.str.contains(item), 'C02_per_kilo'] = flour_C02"
   ]
  },
  {
   "cell_type": "markdown",
   "id": "992b50ac",
   "metadata": {},
   "source": [
    "## oils "
   ]
  },
  {
   "cell_type": "code",
   "execution_count": 50,
   "id": "6b3cc14c",
   "metadata": {},
   "outputs": [],
   "source": [
    "oil_list = [\"oil\"]\n",
    "oil_cat =\"oil\"\n",
    "oil_C02 = 1.8\n",
    "for item in oil_list:\n",
    "    df.loc[df.index.str.contains(item), 'category'] = oil_cat\n",
    "    df.loc[df.index.str.contains(item), 'C02_per_kilo'] = oil_C02"
   ]
  },
  {
   "cell_type": "markdown",
   "id": "154776d6",
   "metadata": {},
   "source": [
    "# HARD INPUT (ALWAYS LAST!)"
   ]
  },
  {
   "cell_type": "code",
   "execution_count": null,
   "id": "9b2b79aa",
   "metadata": {},
   "outputs": [],
   "source": []
  },
  {
   "cell_type": "code",
   "execution_count": 51,
   "id": "b0ee62eb",
   "metadata": {},
   "outputs": [],
   "source": [
    "# milk \n",
    "df.loc[(df.index == 'yoghurt'),'category']=milk_cat     \n",
    "df.loc[(df.index == 'yoghurt'),'C02_per_kilo']=2.2\n",
    "\n",
    "df.loc[(df.index == 'half and half'),'category']=milk_cat     \n",
    "df.loc[(df.index == 'half and half'),'C02_per_kilo']=2\n",
    "\n",
    "df.loc[(df.index == 'powdered milk'),'category']=milk_cat     \n",
    "df.loc[(df.index == 'powdered milk'),'C02_per_kilo']=9.71\n",
    "\n",
    "df.loc[(df.index == 'ghee'),'category']=milk_cat     \n",
    "df.loc[(df.index == 'ghee'),'C02_per_kilo']=1.8"
   ]
  },
  {
   "cell_type": "code",
   "execution_count": 52,
   "id": "b297fc56",
   "metadata": {},
   "outputs": [],
   "source": [
    "##fishes\n",
    "df.loc[df.index.str.contains(\"bass\"), 'category'] = fish_cat      \n",
    "df.loc[df.index.str.contains(\"bass\"), 'C02_per_kilo'] = 10.40\n",
    "\n",
    "df.loc[(df.index == 'salmon'),'category']=fish_cat     \n",
    "df.loc[(df.index == 'salmon'),'C02_per_kilo']=11.9 \n",
    "\n",
    "df.loc[(df.index == 'tuna'),'category']=fish_cat      \n",
    "df.loc[(df.index == 'tuna'),'C02_per_kilo']=6.1\n",
    "\n",
    "df.loc[(df.index == 'artic char'),'category']=fish_cat      \n",
    "df.loc[(df.index == 'artic char'),'C02_per_kilo']=18.39\n",
    "\n",
    "df.loc[(df.index == 'oysters'),'category']=fish_cat      \n",
    "df.loc[(df.index == 'oysters'),'C02_per_kilo']=11.41\n",
    "\n",
    "df.loc[(df.index == 'tilapia'),'category']=fish_cat      \n",
    "df.loc[(df.index == 'tilapia'),'C02_per_kilo']=10.55\n",
    "\n",
    "df.loc[(df.index == 'carb'),'category']=fish_cat      \n",
    "df.loc[(df.index == 'carb'),'C02_per_kilo']=5.3\n",
    "\n",
    "df.loc[(df.index == 'shrimp'),'category']=fish_cat      \n",
    "df.loc[(df.index == 'shrimp'),'C02_per_kilo']=7\n",
    "df.loc[(df.index == 'shrimps'),'category']=fish_cat      \n",
    "df.loc[(df.index == 'shrimps'),'C02_per_kilo']=7\n",
    "\n",
    "df.loc[(df.index == 'prawn'),'category']=fish_cat      \n",
    "df.loc[(df.index == 'prawn'),'C02_per_kilo']=4.5\n",
    "\n",
    "df.loc[(df.index == 'trout'),'category']=fish_cat      \n",
    "df.loc[(df.index == 'trout'),'C02_per_kilo']=4.5\n",
    "\n",
    "df.loc[(df.index == 'flatfish'),'category']=fish_cat      \n",
    "df.loc[(df.index == 'flatfish'),'C02_per_kilo']=6\n",
    "\n",
    "df.loc[(df.index == 'lobster'),'category']=fish_cat      \n",
    "df.loc[(df.index == 'lobster'),'C02_per_kilo']=5.3\n",
    "\n",
    "df.loc[(df.index == 'mullet'),'category']=fish_cat      \n",
    "df.loc[(df.index == 'mullet'),'C02_per_kilo']=5.3\n",
    "\n",
    "df.loc[(df.index == 'silver carb'),'category']=fish_cat      \n",
    "df.loc[(df.index == 'silver carb'),'C02_per_kilo']=5.3\n",
    "\n",
    "df.loc[(df.index == 'herring'),'category']=fish_cat      \n",
    "df.loc[(df.index == 'herring'),'C02_per_kilo']=2\n",
    "\n",
    "df.loc[(df.index == 'mackerel'),'category']=fish_cat      \n",
    "df.loc[(df.index == 'mackerel'),'C02_per_kilo']=2\n",
    "\n",
    "df.loc[(df.index == 'squid'),'category']=fish_cat      \n",
    "df.loc[(df.index == 'squid'),'C02_per_kilo']=5.4\n",
    "\n",
    "df.loc[(df.index == 'octopus'),'category']=fish_cat      \n",
    "df.loc[(df.index == 'octopus'),'C02_per_kilo']=5.4\n",
    "df.loc[(df.index == 'demersal fish'),'category']=fish_cat      \n",
    "df.loc[(df.index == 'demersal fish'),'C02_per_kilo']=5.4\n"
   ]
  },
  {
   "cell_type": "code",
   "execution_count": 53,
   "id": "2b66d4dd",
   "metadata": {},
   "outputs": [],
   "source": [
    "#### meat\n",
    "df.loc[(df.index == 'pepperoni'),'category']=pig_cat      \n",
    "df.loc[(df.index == 'pepperoni'),'C02_per_kilo']=13.06"
   ]
  },
  {
   "cell_type": "code",
   "execution_count": 54,
   "id": "846f734b",
   "metadata": {},
   "outputs": [],
   "source": [
    "## fruit\n",
    "df.loc[(df.index == 'apples'),'category']=fruit_cat      \n",
    "df.loc[(df.index == 'apples'),'C02_per_kilo']=0.6\n",
    "df.loc[(df.index == 'apple'),'category']=fruit_cat      \n",
    "df.loc[(df.index == 'apple'),'C02_per_kilo']=0.6\n",
    "\n",
    "df.loc[(df.index == 'pineapple'),'category']=fruit_cat      \n",
    "df.loc[(df.index == 'pineapple'),'C02_per_kilo']=1.9\n",
    "\n",
    "df.loc[(df.index == 'dates'),'category']=fruit_cat      \n",
    "df.loc[(df.index == 'dates'),'C02_per_kilo']=0.2 # conflict 1.1\n",
    "\n",
    "df.loc[(df.index == 'blood oranges'),'category']=fruit_cat      \n",
    "df.loc[(df.index == 'blood oranges'),'C02_per_kilo']=0.2\n",
    "\n",
    "\n",
    "df.loc[(df.index == 'guava'),'category']=fruit_cat      \n",
    "df.loc[(df.index == 'guava'),'C02_per_kilo']=0.15\n",
    "\n",
    "df.loc[(df.index == 'cantaloupe'),'category']=fruit_cat      \n",
    "df.loc[(df.index == 'cantaloupe'),'C02_per_kilo']=0.14\n",
    "\n",
    "df.loc[(df.index == 'melons'),'category']=fruit_cat      \n",
    "df.loc[(df.index == 'melons'),'C02_per_kilo']=0.14\n",
    "\n",
    "df.loc[(df.index == 'honeydew melon'),'category']=fruit_cat      \n",
    "df.loc[(df.index == 'honeydew melon'),'C02_per_kilo']=0.14\n",
    "\n",
    "df.loc[(df.index == 'water melon'),'category']=fruit_cat      \n",
    "df.loc[(df.index == 'water melon'),'C02_per_kilo']=0.14\n",
    "\n",
    "df.loc[(df.index == 'pears'),'category']=fruit_cat      \n",
    "df.loc[(df.index == 'pears'),'C02_per_kilo']=0.14\n",
    "\n",
    "df.loc[(df.index == 'pumpkins'),'category']=fruit_cat      \n",
    "df.loc[(df.index == 'pumpkins'),'C02_per_kilo']=0.14\n",
    "\n",
    "df.loc[(df.index == 'oranges'),'category']=fruit_cat      \n",
    "df.loc[(df.index == 'oranges'),'C02_per_kilo']=0.13\n",
    "df.loc[(df.index == 'orange'),'category']=fruit_cat      \n",
    "df.loc[(df.index == 'orange'),'C02_per_kilo']=0.13\n",
    "\n",
    "df.loc[(df.index == 'beets'),'category']=fruit_cat      \n",
    "df.loc[(df.index == 'beets'),'C02_per_kilo']=0.05\n",
    "\n",
    "df.loc[(df.index == 'plantains'),'category']=fruit_cat      \n",
    "df.loc[(df.index == 'plantains'),'C02_per_kilo']=1.6"
   ]
  },
  {
   "cell_type": "code",
   "execution_count": 55,
   "id": "124e62e8",
   "metadata": {},
   "outputs": [],
   "source": [
    "## vegis\n",
    "df.loc[(df.index == 'asparagus'),'category']=vegetables_cat      \n",
    "df.loc[(df.index == 'asparagus'),'C02_per_kilo']=1.5\n",
    "\n",
    "\n",
    "\n",
    "df.loc[(df.index == 'onions'),'category']=vegetables_cat      \n",
    "df.loc[(df.index == 'onions'),'C02_per_kilo']=0.5\n",
    "\n",
    "df.loc[(df.index == 'peas'),'category']=vegetables_cat      \n",
    "df.loc[(df.index == 'peas'),'C02_per_kilo']=1.2\n",
    "\n",
    "df.loc[(df.index == 'maize'),'category']=vegetables_cat      \n",
    "df.loc[(df.index == 'maize'),'C02_per_kilo']=0.7\n",
    "\n",
    "df.loc[(df.index == 'hash browns'),'category']=vegetables_cat      \n",
    "df.loc[(df.index == 'hash browns'),'C02_per_kilo']=4\n",
    "\n",
    "df.loc[(df.index == 'potatoe'),'category']=vegetables_cat      \n",
    "df.loc[(df.index == 'potatoe'),'C02_per_kilo']=2.9 # conflict 0.4\n",
    "df.loc[(df.index == 'potatoes'),'category']=vegetables_cat      \n",
    "df.loc[(df.index == 'potatoes'),'C02_per_kilo']=2.9 # conflict 0.4\n",
    "\n",
    "df.loc[(df.index == 'broccoli'),'category']=vegetables_cat     \n",
    "df.loc[(df.index == 'broccoli'),'C02_per_kilo']=2.0\n",
    "\n",
    "df.loc[(df.index == 'lentils'),'category']=vegetables_cat     \n",
    "df.loc[(df.index == 'lentils'),'C02_per_kilo']=0.9\n",
    "\n",
    "df.loc[(df.index == 'lettuche'),'category']=vegetables_cat     \n",
    "df.loc[(df.index == 'lettuche'),'C02_per_kilo']=9.81 #conflikt 0.2\n",
    "\n",
    "df.loc[(df.index == 'lima beans'),'category']=vegetables_cat     \n",
    "df.loc[(df.index == 'lima beans'),'C02_per_kilo']=1.14\n",
    "\n",
    "df.loc[(df.index == 'olives'),'category']=vegetables_cat     \n",
    "df.loc[(df.index == 'olives'),'C02_per_kilo']=0.2 # conflict 4.5 \n",
    "df.loc[(df.index == 'olive'),'category']=vegetables_cat     \n",
    "df.loc[(df.index == 'olive'),'C02_per_kilo']=0.2\n",
    "\n",
    "df.loc[(df.index == 'radishes'),'category']=vegetables_cat      \n",
    "df.loc[(df.index == 'radishes'),'C02_per_kilo']=0.16\n",
    "\n",
    "df.loc[(df.index == 'parsley'),'category']=vegetables_cat      \n",
    "df.loc[(df.index == 'parsley'),'C02_per_kilo']=0.15\n",
    "\n",
    "df.loc[(df.index == 'cucumbers'),'category']=vegetables_cat     \n",
    "df.loc[(df.index == 'cucumbers'),'C02_per_kilo']=0.1\n",
    "\n",
    "df.loc[df.index.str.contains('cabbage'), 'category'] = vegetables_cat     \n",
    "df.loc[df.index.str.contains('cabbage'), 'C02_per_kilo'] = 0.1 \n",
    "\n",
    "df.loc[(df.index == 'celery'),'category']=vegetables_cat     \n",
    "df.loc[(df.index == 'celery'),'C02_per_kilo']=0.12\n",
    "df.loc[(df.index == 'carrots'),'category']=vegetables_cat     \n",
    "df.loc[(df.index == 'carrots'),'C02_per_kilo']=0.12\n",
    "\n",
    "df.loc[(df.index == 'eggplant'),'category']=vegetables_cat     \n",
    "df.loc[(df.index == 'eggplant'),'C02_per_kilo']=0.09\n",
    "\n",
    "df.loc[(df.index == 'pepper'),'category']=vegetables_cat     \n",
    "df.loc[(df.index == 'pepper'),'C02_per_kilo']=2.5\n",
    "\n",
    "df.loc[(df.index == 'soybeans'),'category']=vegetables_cat     \n",
    "df.loc[(df.index == 'soybeans'),'C02_per_kilo']=2.0"
   ]
  },
  {
   "cell_type": "code",
   "execution_count": 56,
   "id": "a13d21d3",
   "metadata": {},
   "outputs": [],
   "source": [
    "## juice \n",
    "df.loc[(df.index == 'orange juice'),'category']=juice_cat     \n",
    "df.loc[(df.index == 'orange juice'),'C02_per_kilo']=7.97 #214"
   ]
  },
  {
   "cell_type": "code",
   "execution_count": 57,
   "id": "f443137f",
   "metadata": {},
   "outputs": [],
   "source": [
    "## others \n",
    "df.loc[(df.index == 'porridge'),'category']= other_cat     \n",
    "df.loc[(df.index == 'porridge'),'C02_per_kilo']=0.3\n",
    "\n",
    "df.loc[(df.index == 'peanut butter'),'category']= other_cat     \n",
    "df.loc[(df.index == 'peanut butter'),'C02_per_kilo']=2.5\n",
    "\n",
    "df.loc[(df.index == 'potato chips'),'category']= other_cat     \n",
    "df.loc[(df.index == 'potato chips'),'C02_per_kilo']=3.43\n",
    "\n",
    "df.loc[(df.index == 'ketchup'),'category']= other_cat     \n",
    "df.loc[(df.index == 'ketchup'),'C02_per_kilo']=2.25\n",
    "\n",
    "df.loc[(df.index == 'cereal'),'category']= other_cat     \n",
    "df.loc[(df.index == 'cereal'),'C02_per_kilo']=1.8\n",
    "\n",
    "df.loc[(df.index == 'oats'),'category']= other_cat     \n",
    "df.loc[(df.index == 'oats'),'C02_per_kilo']=1\n",
    "\n",
    "df.loc[(df.index == 'rye'),'category']= other_cat     \n",
    "df.loc[(df.index == 'rye'),'C02_per_kilo']=1\n",
    "\n",
    "df.loc[(df.index == 'whey'),'category']= other_cat     \n",
    "df.loc[(df.index == 'whey'),'C02_per_kilo']=2.16\n",
    "\n",
    "df.loc[(df.index == 'ice cream'),'category']= other_cat     \n",
    "df.loc[(df.index == 'ice cream'),'C02_per_kilo']=1.82\n",
    "\n",
    "df.loc[(df.index == 'magarine'),'category']= other_cat     \n",
    "df.loc[(df.index == 'magarine'),'C02_per_kilo']=1.77\n",
    "\n",
    "df.loc[(df.index == 'coffee beans'),'category']= other_cat     \n",
    "df.loc[(df.index == 'coffee beans'),'C02_per_kilo']=1.77\n",
    "\n",
    "df.loc[(df.index == 'cocoa beans'),'category']= other_cat     \n",
    "df.loc[(df.index == 'cocoa beans'),'C02_per_kilo']=1.13 # conflict 3.4\n",
    "\n",
    "df.loc[(df.index == 'cocoa powder'),'category']= other_cat     \n",
    "df.loc[(df.index == 'cocoa powder'),'C02_per_kilo']=0.2\n",
    "\n",
    "df.loc[(df.index == 'barley'),'category']= other_cat     \n",
    "df.loc[(df.index == 'bearley'),'C02_per_kilo']=3.7"
   ]
  },
  {
   "cell_type": "code",
   "execution_count": 58,
   "id": "9434b12a",
   "metadata": {},
   "outputs": [],
   "source": [
    "# oil \n",
    "df.loc[(df.index == 'maize germ oil'),'category']=oil_cat      \n",
    "df.loc[(df.index == 'maize germ oil'),'C02_per_kilo']=0.4\n",
    "\n",
    "\n",
    "df.loc[(df.index == 'peanut oil'),'category']=oil_cat      \n",
    "df.loc[(df.index == 'peanut oil'),'C02_per_kilo']=3.9\n",
    "\n",
    "df.loc[(df.index == 'vegetable oil'),'category']=oil_cat      \n",
    "df.loc[(df.index == 'vegetable oil'),'C02_per_kilo']=1.8 # conflict 3.2\n",
    "\n",
    "df.loc[(df.index == 'cooking oil'),'category']=oil_cat      \n",
    "df.loc[(df.index == 'cooking oil'),'C02_per_kilo']=1.8\n",
    "\n",
    "df.loc[(df.index == 'salad oil'),'category']=oil_cat      \n",
    "df.loc[(df.index == 'salad oil'),'C02_per_kilo']=1.8\n",
    "\n",
    "df.loc[(df.index == 'rapeseed oil'),'category']=oil_cat      \n",
    "df.loc[(df.index == 'rapeseed oil'),'C02_per_kilo']=1.7\n",
    "\n",
    "df.loc[(df.index == 'palm oil'),'category']=oil_cat      \n",
    "df.loc[(df.index == 'palm oil'),'C02_per_kilo']=3.3\n",
    "\n",
    "df.loc[(df.index == 'canola oil'),'category']=oil_cat      \n",
    "df.loc[(df.index == 'canola oil'),'C02_per_kilo']=1.7\n",
    "\n",
    "df.loc[(df.index == 'soybean oil'),'category']=oil_cat      \n",
    "df.loc[(df.index == 'soybean oil'),'C02_per_kilo']=1.7\n",
    "\n",
    "df.loc[(df.index == 'sunflower oil'),'category']=oil_cat      \n",
    "df.loc[(df.index == 'sunflower oil'),'C02_per_kilo']=1.5 # conflict 3.3\n",
    "df.loc[(df.index == 'sunflower seed oil'),'category']=oil_cat      \n",
    "df.loc[(df.index == 'sunflower seed oil'),'C02_per_kilo']=1.5 #conflict 3.3\n",
    "\n",
    "df.loc[(df.index == 'crops oil'),'category']=oil_cat      \n",
    "df.loc[(df.index == 'crops oil'),'C02_per_kilo']=2.4\n",
    "df.loc[(df.index == 'oil crops'),'category']=oil_cat      \n",
    "df.loc[(df.index == 'oil crops'),'C02_per_kilo']=2.4\n",
    "\n",
    "df.loc[(df.index == 'coconut oil'),'category']=oil_cat      \n",
    "df.loc[(df.index == 'coconut oil'),'C02_per_kilo']=2.1\n",
    "\n",
    "df.loc[(df.index == 'olive oil'),'category']=oil_cat      \n",
    "df.loc[(df.index == 'olive oil'),'C02_per_kilo']=4.5\n",
    "\n",
    "df.loc[(df.index == 'sesame seeds'),'category']=oil_cat      \n",
    "df.loc[(df.index == 'sesame seeds'),'C02_per_kilo']=4.2\n",
    "\n",
    "\n",
    "# nuts \n",
    "df.loc[(df.index == 'almonds'),'category']=nuts_cat      \n",
    "df.loc[(df.index == 'almonds'),'C02_per_kilo']=3.5\n",
    "\n",
    "df.loc[(df.index == 'pecans'),'category']=nuts_cat      \n",
    "df.loc[(df.index == 'pecans'),'C02_per_kilo']=1.6\n",
    "\n",
    "# drinks \n",
    "df.loc[(df.index == 'coffee'),'category']=otherdrinks_cat      \n",
    "df.loc[(df.index == 'coffee'),'C02_per_kilo']=2.51 # conflict 10\n",
    "df.loc[(df.index == 'water'),'category']=otherdrinks_cat      \n",
    "df.loc[(df.index == 'water'),'C02_per_kilo']=0.06 # conflict 10\n",
    "\n",
    "# other drinks \n",
    "df.loc[(df.index == 'figs'),'category']=fruit_cat      \n",
    "df.loc[(df.index == 'figs'),'C02_per_kilo']=1.54\n",
    "\n",
    "df.loc[(df.index == 'tea'),'category']=otherdrinks_cat      \n",
    "df.loc[(df.index == 'tea'),'C02_per_kilo']=1.9\n",
    "\n",
    "# seeds\n",
    "df.loc[(df.index == 'sesame seeds'),'category']=seeds_cat      \n",
    "df.loc[(df.index == 'sesame seeds'),'C02_per_kilo']=4.2\n",
    "\n",
    "df.loc[(df.index == 'rape seeds'),'category']=seeds_cat      \n",
    "df.loc[(df.index == 'rape seeds'),'C02_per_kilo']=2.9\n",
    "df.loc[(df.index == 'rape seed'),'category']=seeds_cat      \n",
    "df.loc[(df.index == 'rape seed'),'C02_per_kilo']=2.9\n",
    "df.loc[(df.index == 'mustard seeds'),'category']=seeds_cat      \n",
    "df.loc[(df.index == 'mustard seeds'),'C02_per_kilo']=2.9\n",
    "df.loc[(df.index == 'mustard seed'),'category']=seeds_cat      \n",
    "df.loc[(df.index == 'mustard seed'),'C02_per_kilo']=2.9\n"
   ]
  },
  {
   "cell_type": "code",
   "execution_count": 59,
   "id": "88826c97",
   "metadata": {},
   "outputs": [],
   "source": [
    "# flour\n",
    "df.loc[df.index.str.contains('whey'), 'category'] = flour_cat      \n",
    "df.loc[df.index.str.contains('whey'), 'C02_per_kilo'] = 2"
   ]
  },
  {
   "cell_type": "code",
   "execution_count": 60,
   "id": "a4b9d0c0",
   "metadata": {},
   "outputs": [],
   "source": [
    "df.loc[df.index.str.contains(\"honey\"),'category'] = liqspices_cat\n",
    "df.loc[df.index.str.contains(\"honey\"), 'C02_per_kilo'] = 1.0\n"
   ]
  },
  {
   "cell_type": "markdown",
   "id": "58cab0f0",
   "metadata": {},
   "source": [
    "# output"
   ]
  },
  {
   "cell_type": "code",
   "execution_count": 61,
   "id": "8268721f",
   "metadata": {},
   "outputs": [
    {
     "data": {
      "text/html": [
       "<div>\n",
       "<style scoped>\n",
       "    .dataframe tbody tr th:only-of-type {\n",
       "        vertical-align: middle;\n",
       "    }\n",
       "\n",
       "    .dataframe tbody tr th {\n",
       "        vertical-align: top;\n",
       "    }\n",
       "\n",
       "    .dataframe thead th {\n",
       "        text-align: right;\n",
       "    }\n",
       "</style>\n",
       "<table border=\"1\" class=\"dataframe\">\n",
       "  <thead>\n",
       "    <tr style=\"text-align: right;\">\n",
       "      <th></th>\n",
       "      <th>category</th>\n",
       "      <th>C02_per_kilo</th>\n",
       "    </tr>\n",
       "    <tr>\n",
       "      <th>ingredients</th>\n",
       "      <th></th>\n",
       "      <th></th>\n",
       "    </tr>\n",
       "  </thead>\n",
       "  <tbody>\n",
       "    <tr>\n",
       "      <th>tomato sauce</th>\n",
       "      <td>sauces</td>\n",
       "      <td>1.6</td>\n",
       "    </tr>\n",
       "    <tr>\n",
       "      <th>tomato paste</th>\n",
       "      <td>sauces</td>\n",
       "      <td>1.6</td>\n",
       "    </tr>\n",
       "    <tr>\n",
       "      <th>american cheese</th>\n",
       "      <td>cheese</td>\n",
       "      <td>13.5</td>\n",
       "    </tr>\n",
       "    <tr>\n",
       "      <th>beef broth</th>\n",
       "      <td>broth</td>\n",
       "      <td>0.1</td>\n",
       "    </tr>\n",
       "    <tr>\n",
       "      <th>chicken broth</th>\n",
       "      <td>broth</td>\n",
       "      <td>0.1</td>\n",
       "    </tr>\n",
       "    <tr>\n",
       "      <th>...</th>\n",
       "      <td>...</td>\n",
       "      <td>...</td>\n",
       "    </tr>\n",
       "    <tr>\n",
       "      <th>ziti</th>\n",
       "      <td>unknown</td>\n",
       "      <td>0.404</td>\n",
       "    </tr>\n",
       "    <tr>\n",
       "      <th>zitronensaft</th>\n",
       "      <td>juice</td>\n",
       "      <td>1.72</td>\n",
       "    </tr>\n",
       "    <tr>\n",
       "      <th>zucchini</th>\n",
       "      <td>vegetables</td>\n",
       "      <td>1.6</td>\n",
       "    </tr>\n",
       "    <tr>\n",
       "      <th>zucchini blossoms</th>\n",
       "      <td>vegetables</td>\n",
       "      <td>1.6</td>\n",
       "    </tr>\n",
       "    <tr>\n",
       "      <th>zucchini noodles</th>\n",
       "      <td>noodles</td>\n",
       "      <td>1.24</td>\n",
       "    </tr>\n",
       "  </tbody>\n",
       "</table>\n",
       "<p>4822 rows × 2 columns</p>\n",
       "</div>"
      ],
      "text/plain": [
       "                     category C02_per_kilo\n",
       "ingredients                               \n",
       "tomato sauce           sauces          1.6\n",
       "tomato paste           sauces          1.6\n",
       "american cheese        cheese         13.5\n",
       "beef broth              broth          0.1\n",
       "chicken broth           broth          0.1\n",
       "...                       ...          ...\n",
       "ziti                  unknown        0.404\n",
       "zitronensaft            juice         1.72\n",
       "zucchini           vegetables          1.6\n",
       "zucchini blossoms  vegetables          1.6\n",
       "zucchini noodles      noodles         1.24\n",
       "\n",
       "[4822 rows x 2 columns]"
      ]
     },
     "execution_count": 61,
     "metadata": {},
     "output_type": "execute_result"
    }
   ],
   "source": [
    "df"
   ]
  },
  {
   "cell_type": "code",
   "execution_count": 62,
   "id": "56c10f07",
   "metadata": {},
   "outputs": [
    {
     "data": {
      "text/plain": [
       "category\n",
       "Poultry_meat        11\n",
       "aquatic plants       2\n",
       "beer                18\n",
       "booze               24\n",
       "bread              110\n",
       "broth              250\n",
       "cheese             134\n",
       "chicken             57\n",
       "coconut             28\n",
       "corn                61\n",
       "cow                116\n",
       "eggs                30\n",
       "fats                 2\n",
       "fish               102\n",
       "flour               15\n",
       "fruit              150\n",
       "greenspices        275\n",
       "juice               65\n",
       "lamb                28\n",
       "mayonnaise          72\n",
       "milk                51\n",
       "mushrooms           39\n",
       "noodles            104\n",
       "nuts                64\n",
       "oil                 87\n",
       "other               34\n",
       "other_animals        3\n",
       "other_drinks         2\n",
       "pig                 99\n",
       "pulses               7\n",
       "rice                66\n",
       "sauces             350\n",
       "sausage             47\n",
       "seeds               28\n",
       "soft drinks         13\n",
       "spices             441\n",
       "starchy roots        5\n",
       "sugar               36\n",
       "turkey              32\n",
       "unknown           1367\n",
       "vegan               14\n",
       "vegetables         352\n",
       "wine                31\n",
       "dtype: int64"
      ]
     },
     "execution_count": 62,
     "metadata": {},
     "output_type": "execute_result"
    }
   ],
   "source": [
    "df.groupby(['category']).size()"
   ]
  },
  {
   "cell_type": "code",
   "execution_count": 63,
   "id": "ff6abb0e",
   "metadata": {},
   "outputs": [],
   "source": [
    "df.to_csv (r'table_co2_v1.csv', index = False, header=True)"
   ]
  },
  {
   "cell_type": "code",
   "execution_count": null,
   "id": "5fd6edbb",
   "metadata": {},
   "outputs": [],
   "source": []
  }
 ],
 "metadata": {
  "kernelspec": {
   "display_name": "Python 3 (ipykernel)",
   "language": "python",
   "name": "python3"
  },
  "language_info": {
   "codemirror_mode": {
    "name": "ipython",
    "version": 3
   },
   "file_extension": ".py",
   "mimetype": "text/x-python",
   "name": "python",
   "nbconvert_exporter": "python",
   "pygments_lexer": "ipython3",
   "version": "3.8.6"
  },
  "toc": {
   "base_numbering": 1,
   "nav_menu": {},
   "number_sections": true,
   "sideBar": true,
   "skip_h1_title": false,
   "title_cell": "Table of Contents",
   "title_sidebar": "Contents",
   "toc_cell": false,
   "toc_position": {
    "height": "calc(100% - 180px)",
    "left": "10px",
    "top": "150px",
    "width": "200.889px"
   },
   "toc_section_display": true,
   "toc_window_display": true
  }
 },
 "nbformat": 4,
 "nbformat_minor": 5
}
